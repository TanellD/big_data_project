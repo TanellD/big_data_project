{
 "cells": [
  {
   "cell_type": "markdown",
   "id": "0635285d-5589-4eeb-9091-9dd2143b3492",
   "metadata": {
    "tags": []
   },
   "source": [
    "# Connect to Hive"
   ]
  },
  {
   "cell_type": "code",
   "execution_count": 1,
   "id": "d4d77bfb-132e-422c-9933-69d0df5685dd",
   "metadata": {},
   "outputs": [
    {
     "name": "stderr",
     "output_type": "stream",
     "text": [
      "Warning: Ignoring non-Spark config property: hive.metastore.uris\n",
      "Setting default log level to \"WARN\".\n",
      "To adjust logging level use sc.setLogLevel(newLevel). For SparkR, use setLogLevel(newLevel).\n",
      "25/05/05 20:45:13 WARN NativeCodeLoader: Unable to load native-hadoop library for your platform... using builtin-java classes where applicable\n",
      "25/05/05 20:45:14 WARN Utils: Service 'SparkUI' could not bind on port 4040. Attempting port 4041.\n",
      "25/05/05 20:45:14 WARN Utils: Service 'SparkUI' could not bind on port 4041. Attempting port 4042.\n",
      "25/05/05 20:45:15 WARN DomainSocketFactory: The short-circuit local reads feature cannot be used because libhadoop cannot be loaded.\n",
      "25/05/05 20:45:15 WARN Client: Neither spark.yarn.jars nor spark.yarn.archive is set, falling back to uploading libraries under SPARK_HOME.\n"
     ]
    }
   ],
   "source": [
    "from pyspark.sql import SparkSession\n",
    "\n",
    "# Add here your team number teamx\n",
    "team = 19\n",
    "\n",
    "# location of your Hive database in HDFS\n",
    "# warehouse = \"project/hive/warehouse\"\n",
    "warehouse = \"/user/team19/project/warehouse\"\n",
    "\n",
    "spark = SparkSession.builder\\\n",
    "        .appName(\"{} - spark ML\".format(team))\\\n",
    "        .master(\"yarn\")\\\n",
    "        .config(\"hive.metastore.uris\", \"thrift://hadoop-02.uni.innopolis.ru:9883\")\\\n",
    "        .config(\"spark.sql.warehouse.dir\", warehouse)\\\n",
    "        .config(\"spark.sql.avro.compression.codec\", \"snappy\")\\\n",
    "        .enableHiveSupport()\\\n",
    "        .getOrCreate()\n",
    "\n",
    "sc = spark.sparkContext"
   ]
  },
  {
   "cell_type": "code",
   "execution_count": 2,
   "id": "bbd810cc-d172-43a6-b017-57203d8a6970",
   "metadata": {},
   "outputs": [
    {
     "name": "stdout",
     "output_type": "stream",
     "text": [
      "openjdk version \"1.8.0_402\"\n",
      "OpenJDK Runtime Environment (build 1.8.0_402-b06)\n",
      "OpenJDK 64-Bit Server VM (build 25.402-b06, mixed mode)\n"
     ]
    }
   ],
   "source": [
    "# pip freeze\n",
    "!java -version"
   ]
  },
  {
   "cell_type": "code",
   "execution_count": 3,
   "id": "ab0a0875-0d8c-4f48-a65b-230e11c46d38",
   "metadata": {},
   "outputs": [
    {
     "data": {
      "text/html": [
       "\n",
       "            <div>\n",
       "                <p><b>SparkSession - hive</b></p>\n",
       "                \n",
       "        <div>\n",
       "            <p><b>SparkContext</b></p>\n",
       "\n",
       "            <p><a href=\"http://hadoop-01.uni.innopolis.ru:4042\">Spark UI</a></p>\n",
       "\n",
       "            <dl>\n",
       "              <dt>Version</dt>\n",
       "                <dd><code>v3.5.5</code></dd>\n",
       "              <dt>Master</dt>\n",
       "                <dd><code>yarn</code></dd>\n",
       "              <dt>AppName</dt>\n",
       "                <dd><code>19 - spark ML</code></dd>\n",
       "            </dl>\n",
       "        </div>\n",
       "        \n",
       "            </div>\n",
       "        "
      ],
      "text/plain": [
       "<pyspark.sql.session.SparkSession at 0x7fdd27e90050>"
      ]
     },
     "execution_count": 3,
     "metadata": {},
     "output_type": "execute_result"
    }
   ],
   "source": [
    "spark"
   ]
  },
  {
   "cell_type": "markdown",
   "id": "ebbc89ee-c475-47d1-b000-a800563a8870",
   "metadata": {},
   "source": [
    "# list Hive databases"
   ]
  },
  {
   "cell_type": "code",
   "execution_count": 4,
   "id": "e2631136-e462-4815-a807-d1bd4bc3f7a8",
   "metadata": {},
   "outputs": [],
   "source": [
    "# print(spark.catalog.listDatabases())\n",
    "# spark.sql(\"SHOW DATABASES;\").show()"
   ]
  },
  {
   "cell_type": "markdown",
   "id": "c69a1fe4-d2d3-4fb0-9533-59f61a917d05",
   "metadata": {},
   "source": [
    "# Specify the input and output features"
   ]
  },
  {
   "cell_type": "code",
   "execution_count": 5,
   "id": "9560b235-3f77-4e59-a5fe-f32d9efd7d0e",
   "metadata": {},
   "outputs": [
    {
     "name": "stdout",
     "output_type": "stream",
     "text": [
      "+--------------------+\n",
      "|           namespace|\n",
      "+--------------------+\n",
      "|             default|\n",
      "|             retake1|\n",
      "|             root_db|\n",
      "|                show|\n",
      "|     team0_projectdb|\n",
      "|    team11_projectdb|\n",
      "|           team12_db|\n",
      "|team12_hive_proje...|\n",
      "|    team12_projectdb|\n",
      "|    team13_projectdb|\n",
      "|    team14_projectdb|\n",
      "|    team15_projectdb|\n",
      "|    team16_projectdb|\n",
      "|    team17_projectdb|\n",
      "|    team18_projectdb|\n",
      "|    team19_projectdb|\n",
      "|     team1_projectdb|\n",
      "|    team20_projectdb|\n",
      "| team21_projectdb_v2|\n",
      "| team21_projectdb_v3|\n",
      "+--------------------+\n",
      "only showing top 20 rows\n",
      "\n"
     ]
    }
   ],
   "source": [
    "spark.sql(\"SHOW DATABASES\").show()"
   ]
  },
  {
   "cell_type": "markdown",
   "id": "2f5bf565-af4e-49d4-bf45-ca1e1baf971f",
   "metadata": {},
   "source": [
    "# Read hive tables"
   ]
  },
  {
   "cell_type": "code",
   "execution_count": 6,
   "id": "a159eb78-3d54-4302-8937-9dae58a5dbee",
   "metadata": {},
   "outputs": [
    {
     "name": "stdout",
     "output_type": "stream",
     "text": [
      "++\n",
      "||\n",
      "++\n",
      "++\n",
      "\n",
      "+----------------+--------------------+-----------+\n",
      "|       namespace|           tableName|isTemporary|\n",
      "+----------------+--------------------+-----------+\n",
      "|team19_projectdb|      hosts_bucketed|      false|\n",
      "|team19_projectdb|listings_partitioned|      false|\n",
      "|team19_projectdb|          q1_results|      false|\n",
      "|team19_projectdb|          q2_results|      false|\n",
      "|team19_projectdb|          q3_results|      false|\n",
      "|team19_projectdb|          q4_results|      false|\n",
      "|team19_projectdb|          q5_results|      false|\n",
      "|team19_projectdb|          q6_results|      false|\n",
      "|team19_projectdb|review_scores_buc...|      false|\n",
      "+----------------+--------------------+-----------+\n",
      "\n"
     ]
    }
   ],
   "source": [
    "spark.sql(\"USE team19_projectdb\").show()\n",
    "spark.sql(\"SHOW TABLES\").show()\n",
    "# spark.sql(\"SELECT * FROM <db_name>.<table_name>\").show()"
   ]
  },
  {
   "cell_type": "code",
   "execution_count": 7,
   "id": "3376ccfd-3045-4c2d-9800-19ea2da702b3",
   "metadata": {},
   "outputs": [],
   "source": [
    "hosts_bucketed = spark.read.format(\"avro\").table('team19_projectdb.hosts_bucketed')\n",
    "listings_partitioned = spark.read.format(\"avro\").table('team19_projectdb.listings_partitioned')\n",
    "review_scores_bucketed = spark.read.format(\"avro\").table('team19_projectdb.review_scores_bucketed')"
   ]
  },
  {
   "cell_type": "code",
   "execution_count": 8,
   "id": "4550d52e-bf88-4bb8-a79f-37540e6da717",
   "metadata": {},
   "outputs": [
    {
     "data": {
      "text/plain": [
       "['host_id',\n",
       " 'host_url',\n",
       " 'host_name',\n",
       " 'host_since',\n",
       " 'host_location',\n",
       " 'host_about',\n",
       " 'host_response_time',\n",
       " 'host_response_rate',\n",
       " 'host_acceptance_rate',\n",
       " 'host_listings_count',\n",
       " 'host_total_listings_count',\n",
       " 'host_verifications']"
      ]
     },
     "execution_count": 8,
     "metadata": {},
     "output_type": "execute_result"
    }
   ],
   "source": [
    "# hosts_bucketed.show()\n",
    "hosts_bucketed.columns"
   ]
  },
  {
   "cell_type": "code",
   "execution_count": 9,
   "id": "656cc510-59bd-46c1-a2cd-d618ac9e0a7f",
   "metadata": {},
   "outputs": [
    {
     "name": "stderr",
     "output_type": "stream",
     "text": [
      "25/05/05 20:45:38 WARN SessionState: METASTORE_FILTER_HOOK will be ignored, since hive.security.authorization.manager is set to instance of HiveAuthorizerFactory.\n",
      "[Stage 0:>                                                          (0 + 1) / 1]\r"
     ]
    },
    {
     "name": "stdout",
     "output_type": "stream",
     "text": [
      "+----------------+--------------------+---------+----------+-------------+----------+------------------+------------------+--------------------+-------------------+-------------------------+-------------------+\n",
      "|         host_id|            host_url|host_name|host_since|host_location|host_about|host_response_time|host_response_rate|host_acceptance_rate|host_listings_count|host_total_listings_count| host_verifications|\n",
      "+----------------+--------------------+---------+----------+-------------+----------+------------------+------------------+--------------------+-------------------+-------------------------+-------------------+\n",
      "|71592872.0000000|https://www.airbn...|      Ian|2016-05-12|         NULL|      NULL|within a few hours|       100.0000000|                NULL|          1.0000000|                1.0000000|email,phone,reviews|\n",
      "+----------------+--------------------+---------+----------+-------------+----------+------------------+------------------+--------------------+-------------------+-------------------------+-------------------+\n",
      "only showing top 1 row\n",
      "\n"
     ]
    },
    {
     "name": "stderr",
     "output_type": "stream",
     "text": [
      "                                                                                \r"
     ]
    }
   ],
   "source": [
    "hosts_bucketed.show(1)"
   ]
  },
  {
   "cell_type": "code",
   "execution_count": 10,
   "id": "f40641c1-606e-4095-8e26-9a83e4eebd0b",
   "metadata": {},
   "outputs": [
    {
     "data": {
      "text/plain": [
       "['id',\n",
       " 'listing_url',\n",
       " 'scrape_id',\n",
       " 'last_scraped',\n",
       " 'name',\n",
       " 'host_id',\n",
       " 'street',\n",
       " 'property_type',\n",
       " 'room_type',\n",
       " 'accommodates',\n",
       " 'bathrooms',\n",
       " 'bedrooms',\n",
       " 'beds',\n",
       " 'price',\n",
       " 'number_of_reviews',\n",
       " 'reviews_per_month',\n",
       " 'city',\n",
       " 'country']"
      ]
     },
     "execution_count": 10,
     "metadata": {},
     "output_type": "execute_result"
    }
   ],
   "source": [
    "listings_partitioned.columns"
   ]
  },
  {
   "cell_type": "code",
   "execution_count": 11,
   "id": "f9b9f2b9-1e63-4fea-a43f-ec4f24f91228",
   "metadata": {},
   "outputs": [
    {
     "name": "stderr",
     "output_type": "stream",
     "text": [
      "[Stage 1:>                                                          (0 + 1) / 1]\r"
     ]
    },
    {
     "name": "stdout",
     "output_type": "stream",
     "text": [
      "+-------+--------------------+--------------+------------+--------------------+----------------+--------------------+-------------+---------------+------------+---------+---------+---------+-----------+-----------------+-----------------+---------+-----------+\n",
      "|     id|         listing_url|     scrape_id|last_scraped|                name|         host_id|              street|property_type|      room_type|accommodates|bathrooms| bedrooms|     beds|      price|number_of_reviews|reviews_per_month|     city|    country|\n",
      "+-------+--------------------+--------------+------------+--------------------+----------------+--------------------+-------------+---------------+------------+---------+---------+---------+-----------+-----------------+-----------------+---------+-----------+\n",
      "|4008728|https://www.airbn...|20170402075052|  2017-04-02|Luxurious 3 bedro...|20786453.0000000|Oud-West, Amsterd...|    Apartment|Entire home/apt|   6.0000000|1.0000000|3.0000000|3.0000000|600.0000000|       31.0000000|        1.5200000|Amsterdam|Netherlands|\n",
      "+-------+--------------------+--------------+------------+--------------------+----------------+--------------------+-------------+---------------+------------+---------+---------+---------+-----------+-----------------+-----------------+---------+-----------+\n",
      "only showing top 1 row\n",
      "\n"
     ]
    },
    {
     "name": "stderr",
     "output_type": "stream",
     "text": [
      "                                                                                \r"
     ]
    }
   ],
   "source": [
    "listings_partitioned.show(1)"
   ]
  },
  {
   "cell_type": "code",
   "execution_count": 12,
   "id": "0572f66b-45c8-40d6-9f5a-b11959b080b3",
   "metadata": {},
   "outputs": [
    {
     "data": {
      "text/plain": [
       "['listing_id',\n",
       " 'review_scores_rating',\n",
       " 'review_scores_accuracy',\n",
       " 'review_scores_cleanliness',\n",
       " 'review_scores_checkin',\n",
       " 'review_scores_communication',\n",
       " 'review_scores_location',\n",
       " 'review_scores_value']"
      ]
     },
     "execution_count": 12,
     "metadata": {},
     "output_type": "execute_result"
    }
   ],
   "source": [
    "review_scores_bucketed.columns"
   ]
  },
  {
   "cell_type": "code",
   "execution_count": 13,
   "id": "de700ec2-bf9e-4ad9-a925-36d9018f3b37",
   "metadata": {},
   "outputs": [
    {
     "name": "stdout",
     "output_type": "stream",
     "text": [
      "+----------+--------------------+----------------------+-------------------------+---------------------+---------------------------+----------------------+-------------------+\n",
      "|listing_id|review_scores_rating|review_scores_accuracy|review_scores_cleanliness|review_scores_checkin|review_scores_communication|review_scores_location|review_scores_value|\n",
      "+----------+--------------------+----------------------+-------------------------+---------------------+---------------------------+----------------------+-------------------+\n",
      "|  17895559|                NULL|                  NULL|                     NULL|                 NULL|                       NULL|                  NULL|               NULL|\n",
      "+----------+--------------------+----------------------+-------------------------+---------------------+---------------------------+----------------------+-------------------+\n",
      "only showing top 1 row\n",
      "\n"
     ]
    }
   ],
   "source": [
    "review_scores_bucketed.show(1)"
   ]
  },
  {
   "cell_type": "code",
   "execution_count": 14,
   "id": "d8b697af-8c9b-4063-89bc-e9d81cf8f1da",
   "metadata": {},
   "outputs": [],
   "source": [
    "from pyspark.sql.functions import col\n",
    "\n",
    "# Основное соединение\n",
    "result_df = (\n",
    "    listings_partitioned\n",
    "    .join(\n",
    "        hosts_bucketed,\n",
    "        on=\"host_id\",       # Ключ из listings -> hosts\n",
    "        how=\"left\"          # Все записи listings, даже без host\n",
    "    )\n",
    "    .join(\n",
    "        review_scores_bucketed,\n",
    "        on=col(\"id\") == col(\"listing_id\"),  # Ключ listings.id -> reviews.listing_id\n",
    "        how=\"left\"                          # Все записи listings, даже без reviews\n",
    "    )\n",
    ")\n"
   ]
  },
  {
   "cell_type": "code",
   "execution_count": 15,
   "id": "c7e117e5-55ca-4bb8-aa10-b7e900d61f94",
   "metadata": {},
   "outputs": [
    {
     "data": {
      "text/plain": [
       "['host_id',\n",
       " 'id',\n",
       " 'listing_url',\n",
       " 'scrape_id',\n",
       " 'last_scraped',\n",
       " 'name',\n",
       " 'street',\n",
       " 'property_type',\n",
       " 'room_type',\n",
       " 'accommodates',\n",
       " 'bathrooms',\n",
       " 'bedrooms',\n",
       " 'beds',\n",
       " 'price',\n",
       " 'number_of_reviews',\n",
       " 'reviews_per_month',\n",
       " 'city',\n",
       " 'country',\n",
       " 'host_url',\n",
       " 'host_name',\n",
       " 'host_since',\n",
       " 'host_location',\n",
       " 'host_about',\n",
       " 'host_response_time',\n",
       " 'host_response_rate',\n",
       " 'host_acceptance_rate',\n",
       " 'host_listings_count',\n",
       " 'host_total_listings_count',\n",
       " 'host_verifications',\n",
       " 'listing_id',\n",
       " 'review_scores_rating',\n",
       " 'review_scores_accuracy',\n",
       " 'review_scores_cleanliness',\n",
       " 'review_scores_checkin',\n",
       " 'review_scores_communication',\n",
       " 'review_scores_location',\n",
       " 'review_scores_value']"
      ]
     },
     "execution_count": 15,
     "metadata": {},
     "output_type": "execute_result"
    }
   ],
   "source": [
    "result_df.columns"
   ]
  },
  {
   "cell_type": "code",
   "execution_count": 16,
   "id": "f399c78e-2e61-464b-81d3-d437b34ab88b",
   "metadata": {},
   "outputs": [
    {
     "name": "stderr",
     "output_type": "stream",
     "text": [
      "[Stage 5:===================================================>   (120 + 2) / 127]\r"
     ]
    },
    {
     "name": "stdout",
     "output_type": "stream",
     "text": [
      "Total rows: 247476\n"
     ]
    },
    {
     "name": "stderr",
     "output_type": "stream",
     "text": [
      "                                                                                \r"
     ]
    }
   ],
   "source": [
    "total_rows = result_df.count()\n",
    "print(f\"Total rows: {total_rows}\")"
   ]
  },
  {
   "cell_type": "code",
   "execution_count": 17,
   "id": "c04ab52b-2139-40b6-9f3a-dd939fdeae73",
   "metadata": {},
   "outputs": [
    {
     "name": "stderr",
     "output_type": "stream",
     "text": [
      "25/05/05 20:45:58 WARN SparkStringUtils: Truncated the string representation of a plan since it was too large. This behavior can be adjusted by setting 'spark.sql.debug.maxToStringFields'.\n",
      "[Stage 18:>                                                         (0 + 2) / 2]\r"
     ]
    },
    {
     "name": "stdout",
     "output_type": "stream",
     "text": [
      "-RECORD 0-----------------------------\n",
      " host_id                     | 0      \n",
      " id                          | 0      \n",
      " listing_url                 | 0      \n",
      " scrape_id                   | 0      \n",
      " last_scraped                | 0      \n",
      " name                        | 223    \n",
      " street                      | 0      \n",
      " property_type               | 4      \n",
      " room_type                   | 0      \n",
      " accommodates                | 39     \n",
      " bathrooms                   | 764    \n",
      " bedrooms                    | 301    \n",
      " beds                        | 476    \n",
      " price                       | 4076   \n",
      " number_of_reviews           | 0      \n",
      " reviews_per_month           | 60968  \n",
      " city                        | 235    \n",
      " country                     | 0      \n",
      " host_url                    | 0      \n",
      " host_name                   | 260    \n",
      " host_since                  | 259    \n",
      " host_location               | 1143   \n",
      " host_about                  | 98959  \n",
      " host_response_time          | 57987  \n",
      " host_response_rate          | 57987  \n",
      " host_acceptance_rate        | 226019 \n",
      " host_listings_count         | 259    \n",
      " host_total_listings_count   | 259    \n",
      " host_verifications          | 427    \n",
      " listing_id                  | 0      \n",
      " review_scores_rating        | 63891  \n",
      " review_scores_accuracy      | 64329  \n",
      " review_scores_cleanliness   | 64208  \n",
      " review_scores_checkin       | 64492  \n",
      " review_scores_communication | 64242  \n",
      " review_scores_location      | 64475  \n",
      " review_scores_value         | 64517  \n",
      "\n"
     ]
    },
    {
     "name": "stderr",
     "output_type": "stream",
     "text": [
      "                                                                                \r"
     ]
    }
   ],
   "source": [
    "from pyspark.sql.functions import col, count, when\n",
    "\n",
    "null_counts = result_df.agg(\n",
    "    *[count(when(col(c).isNull(), c)).alias(c) for c in result_df.columns]\n",
    ").show(vertical=True)"
   ]
  },
  {
   "cell_type": "code",
   "execution_count": 18,
   "id": "f56edce4-c0dd-4d19-8ef1-47226bbea636",
   "metadata": {},
   "outputs": [],
   "source": [
    "features = ['last_scraped', 'street', 'property_type', 'room_type', 'accommodates','bathrooms', 'bedrooms', 'beds', 'number_of_reviews', 'reviews_per_month', 'city',\n",
    "           'country', 'host_since', 'host_location', 'host_response_time','host_response_rate','host_listings_count', 'host_total_listings_count', 'host_verifications', 'review_scores_rating',\n",
    "           'review_scores_accuracy','review_scores_cleanliness','review_scores_checkin','review_scores_communication','review_scores_location','review_scores_value']\n",
    "label = 'price'"
   ]
  },
  {
   "cell_type": "code",
   "execution_count": 19,
   "id": "a50f4c62-f1ff-4215-a98d-b4b593be7fae",
   "metadata": {},
   "outputs": [
    {
     "name": "stderr",
     "output_type": "stream",
     "text": [
      "[Stage 30:>                                                         (0 + 2) / 2]\r"
     ]
    },
    {
     "name": "stdout",
     "output_type": "stream",
     "text": [
      "+------------+--------------------+-------------+---------------+------------+---------+---------+---------+-----------------+-----------------+-------------+--------------+----------+--------------------+------------------+------------------+-------------------+-------------------------+--------------------+--------------------+----------------------+-------------------------+---------------------+---------------------------+----------------------+-------------------+-----------+\n",
      "|last_scraped|              street|property_type|      room_type|accommodates|bathrooms| bedrooms|     beds|number_of_reviews|reviews_per_month|         city|       country|host_since|       host_location|host_response_time|host_response_rate|host_listings_count|host_total_listings_count|  host_verifications|review_scores_rating|review_scores_accuracy|review_scores_cleanliness|review_scores_checkin|review_scores_communication|review_scores_location|review_scores_value|      label|\n",
      "+------------+--------------------+-------------+---------------+------------+---------+---------+---------+-----------------+-----------------+-------------+--------------+----------+--------------------+------------------+------------------+-------------------+-------------------------+--------------------+--------------------+----------------------+-------------------------+---------------------+---------------------------+----------------------+-------------------+-----------+\n",
      "|  2017-04-02|Mission District,...|    Apartment|Entire home/apt|   2.0000000|1.0000000|1.0000000|1.0000000|       87.0000000|        5.6000000|San Francisco| United States|2014-07-29|San Francisco, Ca...|      within a day|       100.0000000|          1.0000000|                1.0000000|email,phone,revie...|          95.0000000|            10.0000000|               10.0000000|           10.0000000|                  9.0000000|            10.0000000|          9.0000000|149.0000000|\n",
      "|  2017-05-04|New York, NY 1002...|    Apartment|Entire home/apt|   4.0000000|1.0000000|1.0000000|2.0000000|       10.0000000|        0.7600000|     New York| United States|2013-06-13|New York, New Yor...|    within an hour|       100.0000000|          1.0000000|                1.0000000|email,phone,faceb...|          95.0000000|            10.0000000|                9.0000000|           10.0000000|                 10.0000000|            10.0000000|         10.0000000|199.0000000|\n",
      "|  2017-05-04|Ficial District, ...|    Apartment|Entire home/apt|   5.0000000|1.0000000|1.0000000|2.0000000|        6.0000000|        0.6100000|     New York| United States|2010-05-14|New York, New Yor...|within a few hours|       100.0000000|          1.0000000|                1.0000000|email,phone,faceb...|         100.0000000|            10.0000000|                9.0000000|           10.0000000|                 10.0000000|            10.0000000|         10.0000000|275.0000000|\n",
      "|  2017-04-05|Panthéon, Paris, ...|    Apartment|Entire home/apt|   2.0000000|1.0000000|0.0000000|1.0000000|       16.0000000|        1.0100000|        Paris|        France|2012-03-12|Paris, Île-de-Fra...|      within a day|       100.0000000|          2.0000000|                2.0000000|email,phone,revie...|          95.0000000|             9.0000000|                9.0000000|           10.0000000|                 10.0000000|            10.0000000|          9.0000000| 52.0000000|\n",
      "|  2017-06-15|Copenhagen, Capit...|    Apartment|Entire home/apt|   2.0000000|1.0000000|1.0000000|1.0000000|        1.0000000|        0.1000000|   Copenhagen|       Denmark|2014-07-31|Copenhagen, Capit...|      within a day|       100.0000000|          2.0000000|                2.0000000|email,phone,faceb...|         100.0000000|            10.0000000|               10.0000000|           10.0000000|                 10.0000000|            10.0000000|         10.0000000|729.0000000|\n",
      "|  2017-05-03|Pasadena, Pasaden...|    Apartment|Entire home/apt|   4.0000000|2.0000000|2.0000000|2.0000000|       13.0000000|        0.9600000|     Pasadena| United States|2015-01-31|Pasadena, Califor...|within a few hours|       100.0000000|         12.0000000|               12.0000000|email,phone,revie...|          98.0000000|            10.0000000|               10.0000000|           10.0000000|                 10.0000000|            10.0000000|         10.0000000|127.0000000|\n",
      "|  2016-04-02|Henry Philip Aven...|    Apartment|Entire home/apt|   6.0000000|2.0000000|3.0000000|4.0000000|       12.0000000|        3.9100000|      Ballina|     Australia|2014-10-02|Ballina, New Sout...|    within an hour|       100.0000000|          1.0000000|                1.0000000|email,phone,faceb...|          97.0000000|            10.0000000|               10.0000000|           10.0000000|                 10.0000000|            10.0000000|          9.0000000|300.0000000|\n",
      "|  2017-04-04|Hurstville, Hurst...|    Apartment|   Private room|   1.0000000|1.5000000|1.0000000|1.0000000|        9.0000000|        2.0600000|   Hurstville|     Australia|2015-12-15|                  AU|within a few hours|       100.0000000|          1.0000000|                1.0000000| email,phone,reviews|          91.0000000|             9.0000000|                8.0000000|           10.0000000|                 10.0000000|            10.0000000|         10.0000000| 35.0000000|\n",
      "|  2017-03-15|Pollença, Illes B...|        House|Entire home/apt|   6.0000000|2.0000000|3.0000000|4.0000000|        6.0000000|        0.5200000|     Pollença|         Spain|2012-08-18|Palma de Mallorca...|within a few hours|        97.0000000|         92.0000000|               92.0000000|email,phone,revie...|          67.0000000|             7.0000000|                6.0000000|            9.0000000|                  9.0000000|             7.0000000|          7.0000000| 72.0000000|\n",
      "|  2016-08-08|Rue du Grand-Pré,...|    Apartment|Entire home/apt|   2.0000000|1.0000000|1.0000000|2.0000000|        3.0000000|        0.5500000|       Genève|   Switzerland|2012-05-01|Geneva, Geneva, S...|within a few hours|        86.0000000|          1.0000000|                1.0000000|email,phone,faceb...|          93.0000000|             9.0000000|                9.0000000|           10.0000000|                 10.0000000|            10.0000000|          9.0000000| 76.0000000|\n",
      "|  2017-05-09|Innere Stadt, Wie...|    Apartment|Entire home/apt|  10.0000000|5.0000000|4.0000000|9.0000000|       34.0000000|        2.0700000|         Wien|       Austria|2015-12-11|Vienna, Vienna, A...|within a few hours|       100.0000000|          2.0000000|                2.0000000|email,phone,revie...|          93.0000000|            10.0000000|               10.0000000|           10.0000000|                 10.0000000|            10.0000000|         10.0000000|200.0000000|\n",
      "|  2017-04-08|El Gòtic, Barcelo...|    Apartment|   Private room|   2.0000000|1.0000000|1.0000000|4.0000000|      141.0000000|        2.9500000|    Barcelona|         Spain|2013-03-17|Barcelona, Catalo...|      within a day|        75.0000000|          5.0000000|                5.0000000|email,phone,faceb...|          92.0000000|             9.0000000|                9.0000000|            9.0000000|                 10.0000000|             9.0000000|          9.0000000| 21.0000000|\n",
      "|  2017-04-02|Stadionbuurt, Ams...|    Apartment|Entire home/apt|   2.0000000|1.0000000|1.0000000|1.0000000|        5.0000000|        0.4500000|    Amsterdam|   Netherlands|2015-09-14|Amsterdam, North ...|      within a day|        50.0000000|          1.0000000|                1.0000000|email,phone,faceb...|         100.0000000|            10.0000000|               10.0000000|           10.0000000|                 10.0000000|            10.0000000|         10.0000000|100.0000000|\n",
      "|  2017-04-05|Batignolles, Pari...|    Apartment|Entire home/apt|   2.0000000|1.0000000|1.0000000|1.0000000|       31.0000000|        2.0200000|        Paris|        France|2012-12-03|Paris, Île-de-Fra...|    within an hour|        90.0000000|          1.0000000|                1.0000000|email,phone,faceb...|          92.0000000|            10.0000000|                9.0000000|           10.0000000|                 10.0000000|            10.0000000|          9.0000000| 85.0000000|\n",
      "|  2017-05-09|Wien, Wien 1130, ...|    Apartment|Entire home/apt|   3.0000000|1.0000000|0.0000000|1.0000000|        5.0000000|        0.3000000|         Wien|       Austria|2015-12-15|Vienna, Vienna, A...|within a few hours|       100.0000000|          1.0000000|                1.0000000| email,phone,reviews|          92.0000000|            10.0000000|               10.0000000|           10.0000000|                 10.0000000|            10.0000000|         10.0000000| 42.0000000|\n",
      "|  2017-05-09|Cannaregio, Venic...|    Apartment|   Private room|   2.0000000|1.0000000|1.0000000|1.0000000|      278.0000000|        5.5200000|       Venice|         Italy|2013-03-17|Venice, Veneto, I...|      within a day|        99.0000000|          3.0000000|                3.0000000|email,phone,revie...|          83.0000000|             9.0000000|                8.0000000|            9.0000000|                  9.0000000|             9.0000000|          8.0000000| 35.0000000|\n",
      "|  2017-03-04|Marlborough Cresc...|    Apartment|Entire home/apt|   2.0000000|1.0000000|1.0000000|1.0000000|        1.0000000|        0.4800000|   Harlington|United Kingdom|2014-04-04|              London|within a few hours|        90.0000000|         32.0000000|               32.0000000|email,phone,revie...|         100.0000000|            10.0000000|               10.0000000|           10.0000000|                 10.0000000|            10.0000000|         10.0000000| 65.0000000|\n",
      "|  2017-04-06|Paris, Île-de-Fra...|    Apartment|Entire home/apt|   2.0000000|1.0000000|1.0000000|1.0000000|       10.0000000|        1.0600000|        Paris|        France|2013-03-30|Paris, Île-de-Fra...|    within an hour|       100.0000000|          1.0000000|                1.0000000|email,phone,revie...|          80.0000000|             9.0000000|                8.0000000|            9.0000000|                  9.0000000|            10.0000000|          7.0000000| 70.0000000|\n",
      "|  2017-04-02|Amsterdam Centrum...|    Apartment|Entire home/apt|   4.0000000|1.0000000|2.0000000|2.0000000|        3.0000000|        0.2600000|    Amsterdam|   Netherlands|2015-08-10|                  IT|within a few hours|        94.0000000|          9.0000000|                9.0000000| email,phone,reviews|          73.0000000|             7.0000000|                6.0000000|            9.0000000|                  7.0000000|            10.0000000|          7.0000000|250.0000000|\n",
      "|  2017-03-04|Marlborough Cresc...|    Apartment|Entire home/apt|   2.0000000|1.0000000|1.0000000|1.0000000|        5.0000000|        0.3400000|   Harlington|United Kingdom|2014-04-04|              London|within a few hours|        90.0000000|         32.0000000|               32.0000000|email,phone,revie...|          92.0000000|            10.0000000|               10.0000000|           10.0000000|                  9.0000000|             9.0000000|          9.0000000| 65.0000000|\n",
      "+------------+--------------------+-------------+---------------+------------+---------+---------+---------+-----------------+-----------------+-------------+--------------+----------+--------------------+------------------+------------------+-------------------+-------------------------+--------------------+--------------------+----------------------+-------------------------+---------------------+---------------------------+----------------------+-------------------+-----------+\n",
      "only showing top 20 rows\n",
      "\n"
     ]
    },
    {
     "name": "stderr",
     "output_type": "stream",
     "text": [
      "                                                                                \r"
     ]
    }
   ],
   "source": [
    "result_df = result_df.select(features + [label]).na.drop()\n",
    "# emps = emps.withColumn(\"ename_job\", F.concat(F.col('ename'), F.lit(\"_\"), F.col('job')))\n",
    "result_df = result_df.withColumnRenamed(\"price\",\"label\")\n",
    "\n",
    "result_df.show()"
   ]
  },
  {
   "cell_type": "code",
   "execution_count": 20,
   "id": "3e89290b-4487-472b-a6d8-71432c806c1f",
   "metadata": {},
   "outputs": [
    {
     "name": "stderr",
     "output_type": "stream",
     "text": [
      "[Stage 41:>                                                         (0 + 2) / 2]\r"
     ]
    },
    {
     "name": "stdout",
     "output_type": "stream",
     "text": [
      "Total rows: 151055\n"
     ]
    },
    {
     "name": "stderr",
     "output_type": "stream",
     "text": [
      "                                                                                \r"
     ]
    }
   ],
   "source": [
    "total_rows = result_df.count()\n",
    "print(f\"Total rows: {total_rows}\")"
   ]
  },
  {
   "cell_type": "code",
   "execution_count": 21,
   "id": "7d93af2a-7556-43a4-8861-0ba743db967d",
   "metadata": {},
   "outputs": [
    {
     "data": {
      "text/plain": [
       "['last_scraped',\n",
       " 'street',\n",
       " 'property_type',\n",
       " 'room_type',\n",
       " 'accommodates',\n",
       " 'bathrooms',\n",
       " 'bedrooms',\n",
       " 'beds',\n",
       " 'number_of_reviews',\n",
       " 'reviews_per_month',\n",
       " 'city',\n",
       " 'country',\n",
       " 'host_since',\n",
       " 'host_location',\n",
       " 'host_response_time',\n",
       " 'host_response_rate',\n",
       " 'host_listings_count',\n",
       " 'host_total_listings_count',\n",
       " 'host_verifications',\n",
       " 'review_scores_rating',\n",
       " 'review_scores_accuracy',\n",
       " 'review_scores_cleanliness',\n",
       " 'review_scores_checkin',\n",
       " 'review_scores_communication',\n",
       " 'review_scores_location',\n",
       " 'review_scores_value',\n",
       " 'label']"
      ]
     },
     "execution_count": 21,
     "metadata": {},
     "output_type": "execute_result"
    }
   ],
   "source": [
    "result_df.columns"
   ]
  },
  {
   "cell_type": "code",
   "execution_count": 22,
   "id": "ac5ab39d-2fe8-4fa2-a73f-d07a52116641",
   "metadata": {},
   "outputs": [],
   "source": [
    "from pyspark.sql.functions import to_date, year, month, dayofmonth\n",
    "\n",
    "df_with_dates = result_df.withColumn(\n",
    "    \"date_parsed\",\n",
    "    to_date(\"last_scraped\", format=\"yyyy-MM-dd\")\n",
    ").withColumn(\n",
    "    \"last_scraped_year\", year(\"date_parsed\")\n",
    ").withColumn(\n",
    "    \"month\", month(\"date_parsed\")\n",
    ").withColumn(\n",
    "    \"day\", dayofmonth(\"date_parsed\")\n",
    ")"
   ]
  },
  {
   "cell_type": "code",
   "execution_count": 23,
   "id": "0d405016-5fa4-407a-bb78-80bc89f03de9",
   "metadata": {},
   "outputs": [],
   "source": [
    "from pyspark.ml import Transformer\n",
    "from pyspark.ml.param.shared import HasInputCol, HasOutputCols\n",
    "from pyspark.sql.functions import sin, cos, pi\n",
    "import math\n",
    "\n",
    "class CyclicDateEncoder(Transformer, HasInputCol, HasOutputCols):\n",
    "    def __init__(self, inputCol=None, outputCols=None):\n",
    "        super(CyclicDateEncoder, self).__init__()\n",
    "        self._set(inputCol=inputCol, outputCols=outputCols)\n",
    "        \n",
    "    def _transform(self, df):\n",
    "        input_col = self.getInputCol()\n",
    "        output_cols = self.getOutputCols()\n",
    "        if input_col == \"month\":\n",
    "            return df.withColumn(\n",
    "                output_cols[0],  # Например, \"month_sin\"\n",
    "                sin(2 * pi() * col(input_col) / 12)  # Нормировка для месяца\n",
    "            ).withColumn(\n",
    "                output_cols[1],  # Например, \"month_cos\"\n",
    "                cos(2 * pi() * col(input_col) / 12)\n",
    "            )\n",
    "        elif input_col == \"day\":\n",
    "            return df.withColumn(\n",
    "                output_cols[0],  # Например, \"month_sin\"\n",
    "                sin(2 * pi() * col(input_col) / 31)  # Нормировка для месяца\n",
    "            ).withColumn(\n",
    "                output_cols[1],  # Например, \"month_cos\"\n",
    "                cos(2 * pi() * col(input_col) / 31)\n",
    "            )"
   ]
  },
  {
   "cell_type": "code",
   "execution_count": 24,
   "id": "efb0b907-75f8-4f96-b7d0-c506348ec005",
   "metadata": {},
   "outputs": [],
   "source": [
    "# Для месяца\n",
    "month_encoder = CyclicDateEncoder(\n",
    "    inputCol=\"month\",\n",
    "    outputCols=[\"last_scrapped_month_sin\", \"last_scrapped_month_cos\"]\n",
    ")\n",
    "\n",
    "# Для дня (аналогично, нормировка на 31)\n",
    "day_encoder = CyclicDateEncoder(\n",
    "    inputCol=\"day\",\n",
    "    outputCols=[\"last_scrapped_day_sin\", \"last_scrapped_day_cos\"]\n",
    ")\n",
    "\n",
    "# Применяем трансформеры\n",
    "df_encoded = month_encoder.transform(df_with_dates)\n",
    "df_encoded = day_encoder.transform(df_encoded)\n",
    "\n",
    "# Результат\n",
    "# df_encoded.select(\"last_scraped_year\", \"month\", \"day\", \"month_sin\", \"month_cos\", \"day_sin\", \"day_cos\").show(5)"
   ]
  },
  {
   "cell_type": "code",
   "execution_count": 25,
   "id": "a262ba9e-61a9-4346-97d9-51c4962b147c",
   "metadata": {},
   "outputs": [
    {
     "data": {
      "text/plain": [
       "['last_scraped',\n",
       " 'street',\n",
       " 'property_type',\n",
       " 'room_type',\n",
       " 'accommodates',\n",
       " 'bathrooms',\n",
       " 'bedrooms',\n",
       " 'beds',\n",
       " 'number_of_reviews',\n",
       " 'reviews_per_month',\n",
       " 'city',\n",
       " 'country',\n",
       " 'host_since',\n",
       " 'host_location',\n",
       " 'host_response_time',\n",
       " 'host_response_rate',\n",
       " 'host_listings_count',\n",
       " 'host_total_listings_count',\n",
       " 'host_verifications',\n",
       " 'review_scores_rating',\n",
       " 'review_scores_accuracy',\n",
       " 'review_scores_cleanliness',\n",
       " 'review_scores_checkin',\n",
       " 'review_scores_communication',\n",
       " 'review_scores_location',\n",
       " 'review_scores_value',\n",
       " 'label',\n",
       " 'date_parsed',\n",
       " 'last_scraped_year',\n",
       " 'month',\n",
       " 'day',\n",
       " 'last_scrapped_month_sin',\n",
       " 'last_scrapped_month_cos',\n",
       " 'last_scrapped_day_sin',\n",
       " 'last_scrapped_day_cos']"
      ]
     },
     "execution_count": 25,
     "metadata": {},
     "output_type": "execute_result"
    }
   ],
   "source": [
    "df_encoded.columns"
   ]
  },
  {
   "cell_type": "markdown",
   "id": "60e05e6d-b953-4dd6-84ae-dbeac729dc76",
   "metadata": {},
   "source": [
    "# Feature selection"
   ]
  },
  {
   "cell_type": "code",
   "execution_count": 26,
   "id": "00984a8d-8516-47b6-891a-85711cb5f210",
   "metadata": {},
   "outputs": [
    {
     "data": {
      "text/plain": [
       "['street',\n",
       " 'property_type',\n",
       " 'room_type',\n",
       " 'accommodates',\n",
       " 'bathrooms',\n",
       " 'bedrooms',\n",
       " 'beds',\n",
       " 'number_of_reviews',\n",
       " 'reviews_per_month',\n",
       " 'city',\n",
       " 'country',\n",
       " 'host_since',\n",
       " 'host_location',\n",
       " 'host_response_time',\n",
       " 'host_response_rate',\n",
       " 'host_listings_count',\n",
       " 'host_total_listings_count',\n",
       " 'host_verifications',\n",
       " 'review_scores_rating',\n",
       " 'review_scores_accuracy',\n",
       " 'review_scores_cleanliness',\n",
       " 'review_scores_checkin',\n",
       " 'review_scores_communication',\n",
       " 'review_scores_location',\n",
       " 'review_scores_value',\n",
       " 'label',\n",
       " 'last_scraped_year',\n",
       " 'last_scrapped_month_sin',\n",
       " 'last_scrapped_month_cos',\n",
       " 'last_scrapped_day_sin',\n",
       " 'last_scrapped_day_cos']"
      ]
     },
     "execution_count": 26,
     "metadata": {},
     "output_type": "execute_result"
    }
   ],
   "source": [
    "df_encoded = df_encoded.drop(\"last_scraped\", \"date_parsed\",\"day\",\"month\")\n",
    "df_encoded.columns"
   ]
  },
  {
   "cell_type": "code",
   "execution_count": 27,
   "id": "e52010af-75f2-4a0a-af7a-09a738f04487",
   "metadata": {},
   "outputs": [],
   "source": [
    "from pyspark.sql.functions import to_date, year, month, dayofmonth\n",
    "\n",
    "df_with_dates = df_encoded.withColumn(\n",
    "    \"date_parsed\",\n",
    "    to_date(\"host_since\", format=\"yyyy-MM-dd\")  # Уточните формат вашей даты!\n",
    ").withColumn(\n",
    "    \"year_host_since\", year(\"date_parsed\")\n",
    ").withColumn(\n",
    "    \"month\", month(\"date_parsed\")\n",
    ").withColumn(\n",
    "    \"day\", dayofmonth(\"date_parsed\")\n",
    ")"
   ]
  },
  {
   "cell_type": "code",
   "execution_count": 28,
   "id": "2dc2595e-10ca-4d5f-9e32-5846b4f163ff",
   "metadata": {},
   "outputs": [
    {
     "data": {
      "text/plain": [
       "['street',\n",
       " 'property_type',\n",
       " 'room_type',\n",
       " 'accommodates',\n",
       " 'bathrooms',\n",
       " 'bedrooms',\n",
       " 'beds',\n",
       " 'number_of_reviews',\n",
       " 'reviews_per_month',\n",
       " 'city',\n",
       " 'country',\n",
       " 'host_since',\n",
       " 'host_location',\n",
       " 'host_response_time',\n",
       " 'host_response_rate',\n",
       " 'host_listings_count',\n",
       " 'host_total_listings_count',\n",
       " 'host_verifications',\n",
       " 'review_scores_rating',\n",
       " 'review_scores_accuracy',\n",
       " 'review_scores_cleanliness',\n",
       " 'review_scores_checkin',\n",
       " 'review_scores_communication',\n",
       " 'review_scores_location',\n",
       " 'review_scores_value',\n",
       " 'label',\n",
       " 'last_scraped_year',\n",
       " 'last_scrapped_month_sin',\n",
       " 'last_scrapped_month_cos',\n",
       " 'last_scrapped_day_sin',\n",
       " 'last_scrapped_day_cos',\n",
       " 'date_parsed',\n",
       " 'year_host_since',\n",
       " 'month',\n",
       " 'day']"
      ]
     },
     "execution_count": 28,
     "metadata": {},
     "output_type": "execute_result"
    }
   ],
   "source": [
    "df_with_dates.columns"
   ]
  },
  {
   "cell_type": "code",
   "execution_count": 29,
   "id": "569ee715-b91e-4e23-8280-a4ed6dd0428c",
   "metadata": {},
   "outputs": [],
   "source": [
    "# Для месяца\n",
    "month_encoder = CyclicDateEncoder(\n",
    "    inputCol=\"month\",\n",
    "    outputCols=[\"host_since_month_sin\", \"host_since_month_cos\"]\n",
    ")\n",
    "\n",
    "# Для дня (аналогично, нормировка на 31)\n",
    "day_encoder = CyclicDateEncoder(\n",
    "    inputCol=\"day\",\n",
    "    outputCols=[\"host_since_day_sin\", \"host_since_day_cos\"]\n",
    ")\n",
    "\n",
    "# Применяем трансформеры\n",
    "df_encoded = month_encoder.transform(df_with_dates)\n",
    "df_encoded = day_encoder.transform(df_encoded)\n"
   ]
  },
  {
   "cell_type": "code",
   "execution_count": 30,
   "id": "a2afa5bf-3cd1-4840-89b6-2a5c5fbcddc9",
   "metadata": {},
   "outputs": [
    {
     "data": {
      "text/plain": [
       "['street',\n",
       " 'property_type',\n",
       " 'room_type',\n",
       " 'accommodates',\n",
       " 'bathrooms',\n",
       " 'bedrooms',\n",
       " 'beds',\n",
       " 'number_of_reviews',\n",
       " 'reviews_per_month',\n",
       " 'city',\n",
       " 'country',\n",
       " 'host_location',\n",
       " 'host_response_time',\n",
       " 'host_response_rate',\n",
       " 'host_listings_count',\n",
       " 'host_total_listings_count',\n",
       " 'host_verifications',\n",
       " 'review_scores_rating',\n",
       " 'review_scores_accuracy',\n",
       " 'review_scores_cleanliness',\n",
       " 'review_scores_checkin',\n",
       " 'review_scores_communication',\n",
       " 'review_scores_location',\n",
       " 'review_scores_value',\n",
       " 'label',\n",
       " 'last_scraped_year',\n",
       " 'last_scrapped_month_sin',\n",
       " 'last_scrapped_month_cos',\n",
       " 'last_scrapped_day_sin',\n",
       " 'last_scrapped_day_cos',\n",
       " 'year_host_since',\n",
       " 'host_since_month_sin',\n",
       " 'host_since_month_cos',\n",
       " 'host_since_day_sin',\n",
       " 'host_since_day_cos']"
      ]
     },
     "execution_count": 30,
     "metadata": {},
     "output_type": "execute_result"
    }
   ],
   "source": [
    "# df_encoded.columns\n",
    "df_encoded = df_encoded.drop(\"month\", \"day\",\"date_parsed\",\"host_since\")\n",
    "df_encoded.columns"
   ]
  },
  {
   "cell_type": "code",
   "execution_count": 31,
   "id": "8fddc322-7e55-4ea0-bbc6-3b248ad63837",
   "metadata": {},
   "outputs": [
    {
     "data": {
      "text/plain": [
       "['street',\n",
       " 'property_type',\n",
       " 'room_type',\n",
       " 'accommodates',\n",
       " 'bathrooms',\n",
       " 'bedrooms',\n",
       " 'beds',\n",
       " 'number_of_reviews',\n",
       " 'reviews_per_month',\n",
       " 'city',\n",
       " 'country',\n",
       " 'host_location',\n",
       " 'host_response_time',\n",
       " 'host_response_rate',\n",
       " 'host_listings_count',\n",
       " 'host_total_listings_count',\n",
       " 'host_verifications',\n",
       " 'review_scores_rating',\n",
       " 'review_scores_accuracy',\n",
       " 'review_scores_cleanliness',\n",
       " 'review_scores_checkin',\n",
       " 'review_scores_communication',\n",
       " 'review_scores_location',\n",
       " 'review_scores_value',\n",
       " 'label',\n",
       " 'last_scraped_year',\n",
       " 'last_scrapped_month_sin',\n",
       " 'last_scrapped_month_cos',\n",
       " 'last_scrapped_day_sin',\n",
       " 'last_scrapped_day_cos',\n",
       " 'year_host_since',\n",
       " 'host_since_month_sin',\n",
       " 'host_since_month_cos',\n",
       " 'host_since_day_sin',\n",
       " 'host_since_day_cos']"
      ]
     },
     "execution_count": 31,
     "metadata": {},
     "output_type": "execute_result"
    }
   ],
   "source": [
    "df_encoded.columns"
   ]
  },
  {
   "cell_type": "code",
   "execution_count": 32,
   "id": "49a39df1-8ad5-488a-b961-4977978e7d84",
   "metadata": {},
   "outputs": [],
   "source": [
    "df_encoded = df_encoded.drop(\"last_scraped\")"
   ]
  },
  {
   "cell_type": "code",
   "execution_count": 33,
   "id": "6d052cf3-b6ba-40d3-b3d6-a2bb4e75e9bf",
   "metadata": {},
   "outputs": [],
   "source": [
    "from pyspark.ml import Pipeline\n",
    "from pyspark.ml.feature import StringIndexer, OneHotEncoder, VectorAssembler, Word2Vec, Tokenizer, RegexTokenizer\n",
    "from pyspark.sql.functions import col\n",
    "\n",
    "categoricalCols = ['city','country','host_location','host_verifications', 'property_type','room_type', 'host_response_time']\n",
    "textCols = ['street']\n",
    "others = ['accommodates','bathrooms','bedrooms','beds','number_of_reviews','reviews_per_month',\n",
    "          'host_response_rate','host_listings_count', 'host_total_listings_count','review_scores_rating','review_scores_accuracy',\n",
    "          'review_scores_cleanliness', 'review_scores_checkin','review_scores_communication', 'review_scores_location', 'review_scores_value',\n",
    "         'last_scraped_year','host_since_month_sin','host_since_month_cos','host_since_day_sin','host_since_day_cos','year_host_since']"
   ]
  },
  {
   "cell_type": "code",
   "execution_count": 34,
   "id": "73541678-05c4-4b26-97ae-1ebe39221ded",
   "metadata": {},
   "outputs": [
    {
     "name": "stderr",
     "output_type": "stream",
     "text": [
      "[Stage 58:>                                                         (0 + 2) / 2]\r"
     ]
    },
    {
     "name": "stdout",
     "output_type": "stream",
     "text": [
      "+--------------------+\n",
      "|              street|\n",
      "+--------------------+\n",
      "|Mission District,...|\n",
      "|New York, NY 1002...|\n",
      "|Ficial District, ...|\n",
      "|Panthéon, Paris, ...|\n",
      "|Copenhagen, Capit...|\n",
      "+--------------------+\n",
      "only showing top 5 rows\n",
      "\n"
     ]
    },
    {
     "name": "stderr",
     "output_type": "stream",
     "text": [
      "                                                                                \r"
     ]
    }
   ],
   "source": [
    "df_encoded.select('street').show(5)\n",
    "# df_encoded.select('city').show(5)\n",
    "# df_encoded.select('country').show(5)\n",
    "# df_encoded.select('host_location').show(5)\n",
    "# df_encoded.select('host_verifications').show(5)"
   ]
  },
  {
   "cell_type": "code",
   "execution_count": 35,
   "id": "3059efa5-56a7-4616-b17a-aeb0a1871920",
   "metadata": {},
   "outputs": [],
   "source": [
    "# unique_count = df_encoded.select(\"city\").distinct().count()\n",
    "# print(unique_count)"
   ]
  },
  {
   "cell_type": "code",
   "execution_count": 36,
   "id": "d11b2ab4-fb01-47c9-9a00-8d89e4dd0620",
   "metadata": {},
   "outputs": [],
   "source": [
    "# unique_count = df_encoded.select(\"host_location\").distinct().count()\n",
    "# print(unique_count)"
   ]
  },
  {
   "cell_type": "code",
   "execution_count": 37,
   "id": "5a633753-04dd-4739-96f4-682139bd8665",
   "metadata": {},
   "outputs": [],
   "source": [
    "# unique_count = df_encoded.select(\"host_verifications\").distinct().count()\n",
    "# print(unique_count)"
   ]
  },
  {
   "cell_type": "code",
   "execution_count": 38,
   "id": "d6ef269a-8f2d-41ba-a470-a6784ab264e4",
   "metadata": {},
   "outputs": [],
   "source": [
    "# unique_count = df_encoded.select(\"country\").distinct().count()\n",
    "# print(unique_count)"
   ]
  },
  {
   "cell_type": "code",
   "execution_count": 39,
   "id": "52a1d86a-936a-402c-8757-af9bc86e7a54",
   "metadata": {},
   "outputs": [],
   "source": [
    "# unique_count = df_encoded.select(\"street\").distinct().count()\n",
    "# print(unique_count)"
   ]
  },
  {
   "cell_type": "code",
   "execution_count": 40,
   "id": "a5f4811a-c82f-431c-bd6d-6f696c0ff8b6",
   "metadata": {},
   "outputs": [],
   "source": [
    "from pyspark.ml.feature import RegexTokenizer, Word2Vec\n",
    "from pyspark.sql.functions import col\n",
    "\n",
    "tokenizer = RegexTokenizer(\n",
    "    inputCol=\"street\", \n",
    "    outputCol=\"city_tokens\",\n",
    "    pattern=\"[,\\s]+\"\n",
    ")\n",
    "\n",
    "# df_encoded_tok = tokenizer.transform(df_encoded)\n",
    "# df_encoded_tok.select('city_tokens').show(1)\n"
   ]
  },
  {
   "cell_type": "code",
   "execution_count": 41,
   "id": "48d704b5-2d49-4565-9ecf-26c777d43e5b",
   "metadata": {},
   "outputs": [],
   "source": [
    "word2Vec = Word2Vec(\n",
    "    vectorSize=10,\n",
    "    minCount=1,\n",
    "    windowSize=5,\n",
    "    inputCol=\"city_tokens\",\n",
    "    outputCol=\"city_vec\"\n",
    ")\n",
    "# word2VecModel = word2Vec.fit(df_encoded_tok)\n",
    "# print(word2VecModel)\n",
    "\n",
    "# df_encoded_tok = word2VecModel.transform(df_encoded_tok)\n",
    "# # df_encoded_tok.show()\n",
    "\n",
    "# # Adding the encoded ename_job to the list of other columns\n",
    "# others += [city_vec]\n"
   ]
  },
  {
   "cell_type": "code",
   "execution_count": 42,
   "id": "ac3dc27a-2c13-4ccf-b250-0a58e4d0330d",
   "metadata": {},
   "outputs": [],
   "source": [
    "indexers = [ StringIndexer(inputCol=c, outputCol=\"{0}_indexed\".format(c)).setHandleInvalid(\"skip\") for c in categoricalCols ]\n",
    "encoders = [ OneHotEncoder(inputCol=indexer.getOutputCol(), outputCol=\"{0}_encoded\".format(indexer.getOutputCol())) for indexer in indexers ]\n",
    "assembler = VectorAssembler(inputCols=[encoder.getOutputCol() for encoder in encoders] + others, outputCol= \"features\")"
   ]
  },
  {
   "cell_type": "code",
   "execution_count": 43,
   "id": "708d05b1-64c7-4c95-8ffc-dab87e70d3f6",
   "metadata": {},
   "outputs": [],
   "source": [
    "# df_encoded_tok.show(1)"
   ]
  },
  {
   "cell_type": "code",
   "execution_count": 44,
   "id": "b463c308-ad37-4d10-8aa0-88754439b6a9",
   "metadata": {},
   "outputs": [
    {
     "name": "stderr",
     "output_type": "stream",
     "text": [
      "25/05/05 20:49:10 WARN DAGScheduler: Broadcasting large task binary with size 1584.1 KiB\n",
      "                                                                                \r"
     ]
    }
   ],
   "source": [
    "# You can create a pipeline to use only a single fit and transform on the data.\n",
    "pipeline = Pipeline(stages=[tokenizer, word2Vec] + indexers + encoders + [assembler])\n",
    "\n",
    "\n",
    "# Fit the pipeline ==> This will call the fit functions for all transformers if exist\n",
    "model=pipeline.fit(df_encoded)\n",
    "# Fit the pipeline ==> This will call the transform functions for all transformers\n",
    "data = model.transform(df_encoded)\n",
    "\n",
    "# data.show()\n",
    "\n",
    "# We delete all features and keep only the features and label columns\n",
    "data = data.select([\"features\", \"label\"])\n",
    "\n",
    "\n",
    "from pyspark.ml.feature import VectorIndexer\n",
    "\n",
    "# Automatically identify categorical features, and index them.\n",
    "# We specify maxCategories so features with > 4\n",
    "# distinct values are treated as continuous.\n",
    "featureIndexer = VectorIndexer(inputCol=\"features\", outputCol=\"indexedFeatures\", maxCategories=4).fit(data)\n",
    "transformed = featureIndexer.transform(data)\n",
    "\n",
    "# Display the output Spark DataFrame\n",
    "# transformed.show()\n"
   ]
  },
  {
   "cell_type": "markdown",
   "id": "5a71bafe-c88b-47d2-accc-a9ca27f3a95d",
   "metadata": {},
   "source": [
    "# Feature extraction"
   ]
  },
  {
   "cell_type": "markdown",
   "id": "c4fd3df2-8f31-42ed-8f0f-7dfcb795a5e8",
   "metadata": {},
   "source": [
    "# Split the dataset"
   ]
  },
  {
   "cell_type": "code",
   "execution_count": 45,
   "id": "f29220b1-87c0-44ce-8665-44d7a0b09822",
   "metadata": {},
   "outputs": [],
   "source": [
    "transformed = transformed.withColumn(\"label\", col(\"label\").cast(\"double\"))"
   ]
  },
  {
   "cell_type": "code",
   "execution_count": 46,
   "id": "71ca00fb-a991-47d0-8d09-75e5604ed694",
   "metadata": {},
   "outputs": [
    {
     "name": "stderr",
     "output_type": "stream",
     "text": [
      "25/05/05 20:49:46 WARN DAGScheduler: Broadcasting large task binary with size 3.3 MiB\n",
      "25/05/05 20:50:08 WARN DAGScheduler: Broadcasting large task binary with size 3.3 MiB\n",
      "                                                                                \r"
     ]
    },
    {
     "data": {
      "text/plain": [
       "''"
      ]
     },
     "execution_count": 46,
     "metadata": {},
     "output_type": "execute_result"
    }
   ],
   "source": [
    "#  split the data into 60% training and 40% test (it is not stratified)\n",
    "(train_data, test_data) = transformed.randomSplit([0.4, 0.6], seed = 10)\n",
    "\n",
    "def run(command):\n",
    "    import os\n",
    "    return os.popen(command).read()\n",
    "\n",
    "train_data.select(\"features\", \"label\")\\\n",
    "    .coalesce(1)\\\n",
    "    .write\\\n",
    "    .mode(\"overwrite\")\\\n",
    "    .format(\"json\")\\\n",
    "    .save(\"project/data/train\")\n",
    "\n",
    "# Run it from root directory of the repository\n",
    "run(\"hdfs dfs -cat project/data/train/*.json > ../data/train.json\")\n",
    "\n",
    "test_data.select(\"features\", \"label\")\\\n",
    "    .coalesce(1)\\\n",
    "    .write\\\n",
    "    .mode(\"overwrite\")\\\n",
    "    .format(\"json\")\\\n",
    "    .save(\"project/data/test\")\n",
    "\n",
    "# Run it from root directory of the repository\n",
    "run(\"hdfs dfs -cat project/data/test/*.json > ../data/test.json\")"
   ]
  },
  {
   "cell_type": "code",
   "execution_count": 47,
   "id": "ca7b805f-a2f0-4578-af2d-a840addce535",
   "metadata": {},
   "outputs": [],
   "source": [
    "optimal_partitions = 12\n",
    "train_data = train_data.repartition(optimal_partitions)"
   ]
  },
  {
   "cell_type": "code",
   "execution_count": 48,
   "id": "c48797e1-5b95-4c79-ab04-301db3b0e33b",
   "metadata": {},
   "outputs": [
    {
     "name": "stderr",
     "output_type": "stream",
     "text": [
      "25/05/05 20:50:29 WARN DAGScheduler: Broadcasting large task binary with size 3.0 MiB\n",
      "[Stage 245:============================>                            (1 + 1) / 2]\r"
     ]
    },
    {
     "data": {
      "text/plain": [
       "12"
      ]
     },
     "execution_count": 48,
     "metadata": {},
     "output_type": "execute_result"
    }
   ],
   "source": [
    "train_data.rdd.getNumPartitions()"
   ]
  },
  {
   "cell_type": "markdown",
   "id": "12fecd52-189d-45af-841c-47819b311918",
   "metadata": {},
   "source": [
    "# First model"
   ]
  },
  {
   "cell_type": "markdown",
   "id": "6daffa79-5f41-4e78-aa1a-c914f8b3f1f5",
   "metadata": {},
   "source": [
    "## Build a model"
   ]
  },
  {
   "cell_type": "code",
   "execution_count": 49,
   "id": "9892ef1c-f7c4-4acd-8d7d-5630f0823c0c",
   "metadata": {},
   "outputs": [
    {
     "name": "stderr",
     "output_type": "stream",
     "text": [
      "25/05/05 20:50:45 WARN DAGScheduler: Broadcasting large task binary with size 3.0 MiB\n",
      "25/05/05 20:51:00 WARN DAGScheduler: Broadcasting large task binary with size 3.0 MiB\n",
      "25/05/05 20:51:02 WARN DAGScheduler: Broadcasting large task binary with size 3.0 MiB\n",
      "25/05/05 20:51:03 WARN DAGScheduler: Broadcasting large task binary with size 3.0 MiB\n",
      "25/05/05 20:51:06 WARN InstanceBuilder: Failed to load implementation from:dev.ludovic.netlib.blas.JNIBLAS\n",
      "25/05/05 20:51:06 WARN DAGScheduler: Broadcasting large task binary with size 3.0 MiB\n",
      "25/05/05 20:51:06 WARN DAGScheduler: Broadcasting large task binary with size 3.0 MiB\n",
      "25/05/05 20:51:07 WARN DAGScheduler: Broadcasting large task binary with size 3.0 MiB\n",
      "25/05/05 20:51:07 WARN DAGScheduler: Broadcasting large task binary with size 3.0 MiB\n",
      "25/05/05 20:51:08 WARN DAGScheduler: Broadcasting large task binary with size 3.0 MiB\n",
      "25/05/05 20:51:08 WARN DAGScheduler: Broadcasting large task binary with size 3.0 MiB\n",
      "25/05/05 20:51:08 WARN DAGScheduler: Broadcasting large task binary with size 3.0 MiB\n",
      "25/05/05 20:51:09 WARN DAGScheduler: Broadcasting large task binary with size 3.0 MiB\n",
      "25/05/05 20:51:09 WARN DAGScheduler: Broadcasting large task binary with size 3.0 MiB\n",
      "25/05/05 20:51:10 WARN DAGScheduler: Broadcasting large task binary with size 3.0 MiB\n",
      "25/05/05 20:51:10 WARN DAGScheduler: Broadcasting large task binary with size 3.0 MiB\n",
      "25/05/05 20:51:11 WARN DAGScheduler: Broadcasting large task binary with size 3.0 MiB\n",
      "25/05/05 20:51:11 WARN DAGScheduler: Broadcasting large task binary with size 3.0 MiB\n",
      "25/05/05 20:51:11 WARN DAGScheduler: Broadcasting large task binary with size 3.0 MiB\n",
      "25/05/05 20:51:12 WARN DAGScheduler: Broadcasting large task binary with size 3.0 MiB\n",
      "25/05/05 20:51:12 WARN DAGScheduler: Broadcasting large task binary with size 3.0 MiB\n",
      "25/05/05 20:51:12 WARN DAGScheduler: Broadcasting large task binary with size 3.0 MiB\n",
      "25/05/05 20:51:13 WARN DAGScheduler: Broadcasting large task binary with size 3.0 MiB\n",
      "25/05/05 20:51:13 WARN DAGScheduler: Broadcasting large task binary with size 3.0 MiB\n",
      "25/05/05 20:51:13 WARN DAGScheduler: Broadcasting large task binary with size 3.0 MiB\n",
      "25/05/05 20:51:14 WARN DAGScheduler: Broadcasting large task binary with size 3.0 MiB\n",
      "25/05/05 20:51:14 WARN DAGScheduler: Broadcasting large task binary with size 3.0 MiB\n",
      "25/05/05 20:51:15 WARN DAGScheduler: Broadcasting large task binary with size 3.0 MiB\n",
      "25/05/05 20:51:15 WARN DAGScheduler: Broadcasting large task binary with size 3.0 MiB\n",
      "25/05/05 20:51:15 WARN DAGScheduler: Broadcasting large task binary with size 3.0 MiB\n",
      "25/05/05 20:51:16 WARN DAGScheduler: Broadcasting large task binary with size 3.0 MiB\n",
      "25/05/05 20:51:16 WARN DAGScheduler: Broadcasting large task binary with size 3.0 MiB\n",
      "25/05/05 20:51:17 WARN DAGScheduler: Broadcasting large task binary with size 3.0 MiB\n",
      "25/05/05 20:51:17 WARN DAGScheduler: Broadcasting large task binary with size 3.0 MiB\n",
      "25/05/05 20:51:17 WARN DAGScheduler: Broadcasting large task binary with size 3.0 MiB\n",
      "25/05/05 20:51:18 WARN DAGScheduler: Broadcasting large task binary with size 3.0 MiB\n",
      "25/05/05 20:51:18 WARN DAGScheduler: Broadcasting large task binary with size 3.0 MiB\n",
      "25/05/05 20:51:19 WARN DAGScheduler: Broadcasting large task binary with size 3.0 MiB\n",
      "25/05/05 20:51:19 WARN DAGScheduler: Broadcasting large task binary with size 3.0 MiB\n",
      "25/05/05 20:51:19 WARN DAGScheduler: Broadcasting large task binary with size 3.0 MiB\n",
      "25/05/05 20:51:20 WARN DAGScheduler: Broadcasting large task binary with size 3.0 MiB\n",
      "25/05/05 20:51:20 WARN DAGScheduler: Broadcasting large task binary with size 3.0 MiB\n",
      "25/05/05 20:51:20 WARN DAGScheduler: Broadcasting large task binary with size 3.0 MiB\n",
      "25/05/05 20:51:21 WARN DAGScheduler: Broadcasting large task binary with size 3.0 MiB\n",
      "25/05/05 20:51:21 WARN DAGScheduler: Broadcasting large task binary with size 3.0 MiB\n",
      "25/05/05 20:51:21 WARN DAGScheduler: Broadcasting large task binary with size 3.0 MiB\n",
      "25/05/05 20:51:22 WARN DAGScheduler: Broadcasting large task binary with size 3.0 MiB\n",
      "25/05/05 20:51:22 WARN DAGScheduler: Broadcasting large task binary with size 3.0 MiB\n",
      "25/05/05 20:51:23 WARN DAGScheduler: Broadcasting large task binary with size 3.0 MiB\n",
      "25/05/05 20:51:23 WARN DAGScheduler: Broadcasting large task binary with size 3.0 MiB\n",
      "25/05/05 20:51:23 WARN DAGScheduler: Broadcasting large task binary with size 3.0 MiB\n",
      "25/05/05 20:51:24 WARN DAGScheduler: Broadcasting large task binary with size 3.0 MiB\n",
      "25/05/05 20:51:24 WARN DAGScheduler: Broadcasting large task binary with size 3.0 MiB\n",
      "25/05/05 20:51:24 WARN DAGScheduler: Broadcasting large task binary with size 3.0 MiB\n",
      "25/05/05 20:51:25 WARN DAGScheduler: Broadcasting large task binary with size 3.0 MiB\n",
      "25/05/05 20:51:25 WARN DAGScheduler: Broadcasting large task binary with size 3.0 MiB\n",
      "25/05/05 20:51:26 WARN DAGScheduler: Broadcasting large task binary with size 3.0 MiB\n",
      "25/05/05 20:51:26 WARN DAGScheduler: Broadcasting large task binary with size 3.0 MiB\n",
      "25/05/05 20:51:26 WARN DAGScheduler: Broadcasting large task binary with size 3.0 MiB\n",
      "25/05/05 20:51:27 WARN DAGScheduler: Broadcasting large task binary with size 3.0 MiB\n",
      "25/05/05 20:51:27 WARN DAGScheduler: Broadcasting large task binary with size 3.0 MiB\n",
      "25/05/05 20:51:27 WARN DAGScheduler: Broadcasting large task binary with size 3.0 MiB\n",
      "25/05/05 20:51:28 WARN DAGScheduler: Broadcasting large task binary with size 3.0 MiB\n",
      "25/05/05 20:51:28 WARN DAGScheduler: Broadcasting large task binary with size 3.0 MiB\n",
      "25/05/05 20:51:28 WARN DAGScheduler: Broadcasting large task binary with size 3.0 MiB\n",
      "25/05/05 20:51:29 WARN DAGScheduler: Broadcasting large task binary with size 3.0 MiB\n",
      "25/05/05 20:51:29 WARN DAGScheduler: Broadcasting large task binary with size 3.0 MiB\n",
      "25/05/05 20:51:30 WARN DAGScheduler: Broadcasting large task binary with size 3.0 MiB\n",
      "25/05/05 20:51:30 WARN DAGScheduler: Broadcasting large task binary with size 3.0 MiB\n",
      "25/05/05 20:51:30 WARN DAGScheduler: Broadcasting large task binary with size 3.0 MiB\n",
      "25/05/05 20:51:31 WARN DAGScheduler: Broadcasting large task binary with size 3.0 MiB\n",
      "25/05/05 20:51:43 WARN DAGScheduler: Broadcasting large task binary with size 3.0 MiB\n",
      "25/05/05 20:51:46 WARN DAGScheduler: Broadcasting large task binary with size 3.1 MiB\n",
      "25/05/05 20:51:47 WARN DAGScheduler: Broadcasting large task binary with size 3.1 MiB\n",
      "                                                                                \r"
     ]
    }
   ],
   "source": [
    "from pyspark.ml.regression import LinearRegression\n",
    "# Create Linear Regression Model\n",
    "lr = LinearRegression(maxIter=30)\n",
    "\n",
    "# Fit the data to the pipeline stages\n",
    "model_lr = lr.fit(train_data)"
   ]
  },
  {
   "cell_type": "markdown",
   "id": "258b1396-77d4-4dd8-8777-d0e6fcbd629f",
   "metadata": {},
   "source": [
    "## Predict for test data"
   ]
  },
  {
   "cell_type": "code",
   "execution_count": 50,
   "id": "b9a0f1ff-a175-4e00-ac1b-a5476dd7dd19",
   "metadata": {},
   "outputs": [
    {
     "name": "stderr",
     "output_type": "stream",
     "text": [
      "25/05/05 20:52:00 WARN DAGScheduler: Broadcasting large task binary with size 3.1 MiB\n",
      "[Stage 534:>                                                        (0 + 1) / 1]\r"
     ]
    },
    {
     "name": "stdout",
     "output_type": "stream",
     "text": [
      "+--------------------+-----+--------------------+------------------+\n",
      "|            features|label|     indexedFeatures|        prediction|\n",
      "+--------------------+-----+--------------------+------------------+\n",
      "|(9436,[0,3082,309...| 56.0|(9436,[0,3082,309...| 76.48293773257774|\n",
      "|(9436,[0,3082,309...| 35.0|(9436,[0,3082,309...| 59.71153674780908|\n",
      "|(9436,[0,3082,309...| 65.0|(9436,[0,3082,309...| 94.83769864920032|\n",
      "|(9436,[0,3082,309...| 99.0|(9436,[0,3082,309...|  97.2498026751291|\n",
      "|(9436,[0,3082,309...| 55.0|(9436,[0,3082,309...| 68.96146220938499|\n",
      "|(9436,[0,3082,309...|175.0|(9436,[0,3082,309...| 98.94145036682039|\n",
      "|(9436,[0,3082,309...| 70.0|(9436,[0,3082,309...| 97.42505646392692|\n",
      "|(9436,[0,3082,309...| 98.0|(9436,[0,3082,309...|107.52511472300466|\n",
      "|(9436,[0,3082,309...| 80.0|(9436,[0,3082,309...|100.47217419403933|\n",
      "|(9436,[0,3082,309...| 75.0|(9436,[0,3082,309...| 97.75201057293452|\n",
      "|(9436,[0,3082,309...| 80.0|(9436,[0,3082,309...|102.51445763252195|\n",
      "|(9436,[0,3082,309...| 85.0|(9436,[0,3082,309...| 63.72184259833102|\n",
      "|(9436,[0,3082,309...| 50.0|(9436,[0,3082,309...|107.22720847072651|\n",
      "|(9436,[0,3082,309...| 50.0|(9436,[0,3082,309...| 72.49142712674802|\n",
      "|(9436,[0,3082,309...| 70.0|(9436,[0,3082,309...| 99.89136847501504|\n",
      "|(9436,[0,3082,309...| 85.0|(9436,[0,3082,309...| 84.81388604587391|\n",
      "|(9436,[0,3082,309...| 58.0|(9436,[0,3082,309...| 93.30287426994437|\n",
      "|(9436,[0,3082,309...|124.0|(9436,[0,3082,309...| 94.85021149229487|\n",
      "|(9436,[0,3082,309...|130.0|(9436,[0,3082,309...| 95.91051164813052|\n",
      "|(9436,[0,3082,309...| 49.0|(9436,[0,3082,309...| 78.13692471333889|\n",
      "+--------------------+-----+--------------------+------------------+\n",
      "only showing top 20 rows\n",
      "\n"
     ]
    },
    {
     "name": "stderr",
     "output_type": "stream",
     "text": [
      "                                                                                \r"
     ]
    }
   ],
   "source": [
    "predictions = model_lr.transform(test_data)\n",
    "predictions.show()"
   ]
  },
  {
   "cell_type": "markdown",
   "id": "32e97403-59a0-4ec4-b044-678ba6aa2b66",
   "metadata": {},
   "source": [
    "## Evaluate the model"
   ]
  },
  {
   "cell_type": "code",
   "execution_count": 51,
   "id": "c6b166ca-8b62-4995-adca-129021dd6d40",
   "metadata": {},
   "outputs": [
    {
     "name": "stderr",
     "output_type": "stream",
     "text": [
      "25/05/05 20:52:14 WARN DAGScheduler: Broadcasting large task binary with size 3.1 MiB\n",
      "25/05/05 20:52:30 WARN DAGScheduler: Broadcasting large task binary with size 3.1 MiB\n",
      "[Stage 556:>                                                        (0 + 2) / 2]\r"
     ]
    },
    {
     "name": "stdout",
     "output_type": "stream",
     "text": [
      "Root Mean Squared Error (RMSE) on test data = 74.3531944947312\n",
      "R^2 on test data = 0.7198554400810679\n"
     ]
    },
    {
     "name": "stderr",
     "output_type": "stream",
     "text": [
      "                                                                                \r"
     ]
    }
   ],
   "source": [
    "from pyspark.ml.evaluation import RegressionEvaluator \n",
    "\n",
    "# Evaluate the performance of the model\n",
    "evaluator1_rmse = RegressionEvaluator(labelCol=\"label\", predictionCol=\"prediction\", metricName=\"rmse\")\n",
    "evaluator1_r2 = RegressionEvaluator(labelCol=\"label\", predictionCol=\"prediction\", metricName=\"r2\")\n",
    "\n",
    "rmse = evaluator1_rmse.evaluate(predictions)\n",
    "r2 = evaluator1_r2.evaluate(predictions)\n",
    "\n",
    "print(\"Root Mean Squared Error (RMSE) on test data = {}\".format(rmse))\n",
    "print(\"R^2 on test data = {}\".format(r2))"
   ]
  },
  {
   "cell_type": "markdown",
   "id": "b6b0e075-c37c-492a-b894-2f64d4dea72b",
   "metadata": {},
   "source": [
    "## Hyperparameter optimization"
   ]
  },
  {
   "cell_type": "code",
   "execution_count": 52,
   "id": "7e04437d-2bf9-4803-83cc-b7ed17d311e4",
   "metadata": {},
   "outputs": [
    {
     "data": {
      "text/plain": [
       "[Param(parent='LinearRegression_0d67ccc2ed51', name='aggregationDepth', doc='suggested depth for treeAggregate (>= 2).'),\n",
       " Param(parent='LinearRegression_0d67ccc2ed51', name='elasticNetParam', doc='the ElasticNet mixing parameter, in range [0, 1]. For alpha = 0, the penalty is an L2 penalty. For alpha = 1, it is an L1 penalty.'),\n",
       " Param(parent='LinearRegression_0d67ccc2ed51', name='epsilon', doc='The shape parameter to control the amount of robustness. Must be > 1.0. Only valid when loss is huber'),\n",
       " Param(parent='LinearRegression_0d67ccc2ed51', name='featuresCol', doc='features column name.'),\n",
       " Param(parent='LinearRegression_0d67ccc2ed51', name='fitIntercept', doc='whether to fit an intercept term.'),\n",
       " Param(parent='LinearRegression_0d67ccc2ed51', name='labelCol', doc='label column name.'),\n",
       " Param(parent='LinearRegression_0d67ccc2ed51', name='loss', doc='The loss function to be optimized. Supported options: squaredError, huber.'),\n",
       " Param(parent='LinearRegression_0d67ccc2ed51', name='maxBlockSizeInMB', doc='maximum memory in MB for stacking input data into blocks. Data is stacked within partitions. If more than remaining data size in a partition then it is adjusted to the data size. Default 0.0 represents choosing optimal value, depends on specific algorithm. Must be >= 0.'),\n",
       " Param(parent='LinearRegression_0d67ccc2ed51', name='maxIter', doc='max number of iterations (>= 0).'),\n",
       " Param(parent='LinearRegression_0d67ccc2ed51', name='predictionCol', doc='prediction column name.'),\n",
       " Param(parent='LinearRegression_0d67ccc2ed51', name='regParam', doc='regularization parameter (>= 0).'),\n",
       " Param(parent='LinearRegression_0d67ccc2ed51', name='solver', doc='The solver algorithm for optimization. Supported options: auto, normal, l-bfgs.'),\n",
       " Param(parent='LinearRegression_0d67ccc2ed51', name='standardization', doc='whether to standardize the training features before fitting the model.'),\n",
       " Param(parent='LinearRegression_0d67ccc2ed51', name='tol', doc='the convergence tolerance for iterative algorithms (>= 0).'),\n",
       " Param(parent='LinearRegression_0d67ccc2ed51', name='weightCol', doc='weight column name. If this is not set or empty, we treat all instance weights as 1.0.')]"
      ]
     },
     "execution_count": 52,
     "metadata": {},
     "output_type": "execute_result"
    }
   ],
   "source": [
    "model_lr.params"
   ]
  },
  {
   "cell_type": "code",
   "execution_count": 53,
   "id": "22f3b23c-4d4b-49b0-b0d2-379f7ed0be27",
   "metadata": {},
   "outputs": [
    {
     "data": {
      "text/plain": [
       "DataFrame[features: vector, label: double, indexedFeatures: vector]"
      ]
     },
     "execution_count": 53,
     "metadata": {},
     "output_type": "execute_result"
    }
   ],
   "source": [
    "train_data.cache()\n",
    "# sample_data = train_data.sample(False, 0.001, seed=42)\n",
    "# sample_data.cache()\n"
   ]
  },
  {
   "cell_type": "code",
   "execution_count": 54,
   "id": "b878ff93-1d48-44d7-bd22-b6bb9184f675",
   "metadata": {},
   "outputs": [],
   "source": [
    "# sample_data.rdd.getNumPartitions()"
   ]
  },
  {
   "cell_type": "code",
   "execution_count": 55,
   "id": "54f614ca-d122-40d3-a06f-2b32bd182188",
   "metadata": {},
   "outputs": [
    {
     "name": "stderr",
     "output_type": "stream",
     "text": [
      "25/05/05 20:52:45 WARN DAGScheduler: Broadcasting large task binary with size 3.0 MiB\n",
      "25/05/05 20:52:48 WARN DAGScheduler: Broadcasting large task binary with size 1588.4 KiB\n",
      "25/05/05 20:52:48 WARN DAGScheduler: Broadcasting large task binary with size 1608.5 KiB\n",
      "25/05/05 20:52:48 WARN DAGScheduler: Broadcasting large task binary with size 1608.5 KiB\n",
      "25/05/05 20:52:48 WARN DAGScheduler: Broadcasting large task binary with size 1608.5 KiB\n",
      "25/05/05 20:52:48 WARN DAGScheduler: Broadcasting large task binary with size 1608.5 KiB\n",
      "25/05/05 20:52:49 WARN DAGScheduler: Broadcasting large task binary with size 1652.3 KiB\n",
      "25/05/05 20:52:49 WARN DAGScheduler: Broadcasting large task binary with size 1652.3 KiB\n",
      "25/05/05 20:52:49 WARN DAGScheduler: Broadcasting large task binary with size 1652.3 KiB\n",
      "25/05/05 20:52:49 WARN DAGScheduler: Broadcasting large task binary with size 1652.3 KiB\n",
      "25/05/05 20:52:49 WARN DAGScheduler: Broadcasting large task binary with size 1653.5 KiB\n",
      "25/05/05 20:52:50 WARN DAGScheduler: Broadcasting large task binary with size 1653.1 KiB\n",
      "25/05/05 20:52:50 WARN DAGScheduler: Broadcasting large task binary with size 1653.5 KiB\n",
      "25/05/05 20:52:50 WARN DAGScheduler: Broadcasting large task binary with size 1653.1 KiB\n",
      "25/05/05 20:52:50 WARN DAGScheduler: Broadcasting large task binary with size 1653.5 KiB\n",
      "25/05/05 20:52:50 WARN DAGScheduler: Broadcasting large task binary with size 1653.1 KiB\n",
      "25/05/05 20:52:50 WARN DAGScheduler: Broadcasting large task binary with size 1653.5 KiB\n",
      "25/05/05 20:52:50 WARN DAGScheduler: Broadcasting large task binary with size 1653.1 KiB\n",
      "25/05/05 20:52:50 WARN DAGScheduler: Broadcasting large task binary with size 1654.3 KiB\n",
      "25/05/05 20:52:51 WARN DAGScheduler: Broadcasting large task binary with size 1653.1 KiB\n",
      "25/05/05 20:52:51 WARN DAGScheduler: Broadcasting large task binary with size 1654.3 KiB\n",
      "25/05/05 20:52:51 WARN DAGScheduler: Broadcasting large task binary with size 1653.1 KiB\n",
      "25/05/05 20:52:51 WARN DAGScheduler: Broadcasting large task binary with size 1654.3 KiB\n",
      "25/05/05 20:52:52 WARN DAGScheduler: Broadcasting large task binary with size 1653.1 KiB\n",
      "25/05/05 20:52:52 WARN DAGScheduler: Broadcasting large task binary with size 1654.3 KiB\n",
      "25/05/05 20:52:52 WARN DAGScheduler: Broadcasting large task binary with size 1653.1 KiB\n",
      "25/05/05 20:52:52 WARN DAGScheduler: Broadcasting large task binary with size 1654.3 KiB\n",
      "25/05/05 20:52:52 WARN DAGScheduler: Broadcasting large task binary with size 1653.1 KiB\n",
      "25/05/05 20:52:52 WARN DAGScheduler: Broadcasting large task binary with size 1654.3 KiB\n",
      "25/05/05 20:52:52 WARN DAGScheduler: Broadcasting large task binary with size 1653.1 KiB\n",
      "25/05/05 20:52:52 WARN DAGScheduler: Broadcasting large task binary with size 1654.3 KiB\n",
      "25/05/05 20:52:53 WARN DAGScheduler: Broadcasting large task binary with size 1653.1 KiB\n",
      "25/05/05 20:52:53 WARN DAGScheduler: Broadcasting large task binary with size 1654.3 KiB\n",
      "25/05/05 20:52:53 WARN DAGScheduler: Broadcasting large task binary with size 1653.1 KiB\n",
      "25/05/05 20:52:53 WARN DAGScheduler: Broadcasting large task binary with size 1654.3 KiB\n",
      "25/05/05 20:52:53 WARN DAGScheduler: Broadcasting large task binary with size 1653.1 KiB\n",
      "25/05/05 20:52:53 WARN DAGScheduler: Broadcasting large task binary with size 1654.3 KiB\n",
      "25/05/05 20:52:53 WARN DAGScheduler: Broadcasting large task binary with size 1653.1 KiB\n",
      "25/05/05 20:52:53 WARN DAGScheduler: Broadcasting large task binary with size 1654.3 KiB\n",
      "25/05/05 20:52:53 WARN DAGScheduler: Broadcasting large task binary with size 1653.1 KiB\n",
      "25/05/05 20:52:53 WARN DAGScheduler: Broadcasting large task binary with size 1654.3 KiB\n",
      "25/05/05 20:52:54 WARN DAGScheduler: Broadcasting large task binary with size 1653.1 KiB\n",
      "25/05/05 20:52:54 WARN DAGScheduler: Broadcasting large task binary with size 1654.3 KiB\n",
      "25/05/05 20:52:54 WARN DAGScheduler: Broadcasting large task binary with size 1653.1 KiB\n",
      "25/05/05 20:52:54 WARN DAGScheduler: Broadcasting large task binary with size 1654.3 KiB\n",
      "25/05/05 20:52:54 WARN DAGScheduler: Broadcasting large task binary with size 1653.1 KiB\n",
      "25/05/05 20:52:54 WARN DAGScheduler: Broadcasting large task binary with size 1654.3 KiB\n",
      "25/05/05 20:52:54 WARN DAGScheduler: Broadcasting large task binary with size 1653.1 KiB\n",
      "25/05/05 20:52:54 WARN DAGScheduler: Broadcasting large task binary with size 1654.3 KiB\n",
      "25/05/05 20:52:54 WARN DAGScheduler: Broadcasting large task binary with size 1653.1 KiB\n",
      "25/05/05 20:52:55 WARN DAGScheduler: Broadcasting large task binary with size 1654.3 KiB\n",
      "25/05/05 20:52:55 WARN DAGScheduler: Broadcasting large task binary with size 1653.1 KiB\n",
      "25/05/05 20:52:55 WARN DAGScheduler: Broadcasting large task binary with size 1654.3 KiB\n",
      "25/05/05 20:52:55 WARN DAGScheduler: Broadcasting large task binary with size 1653.1 KiB\n",
      "25/05/05 20:52:55 WARN DAGScheduler: Broadcasting large task binary with size 1654.3 KiB\n",
      "25/05/05 20:52:55 WARN DAGScheduler: Broadcasting large task binary with size 1653.1 KiB\n",
      "25/05/05 20:52:55 WARN DAGScheduler: Broadcasting large task binary with size 1654.3 KiB\n",
      "25/05/05 20:52:55 WARN DAGScheduler: Broadcasting large task binary with size 1653.1 KiB\n",
      "25/05/05 20:52:55 WARN DAGScheduler: Broadcasting large task binary with size 1654.3 KiB\n",
      "25/05/05 20:52:56 WARN DAGScheduler: Broadcasting large task binary with size 1653.1 KiB\n",
      "25/05/05 20:52:56 WARN DAGScheduler: Broadcasting large task binary with size 1654.3 KiB\n",
      "25/05/05 20:52:56 WARN DAGScheduler: Broadcasting large task binary with size 1653.1 KiB\n",
      "25/05/05 20:52:56 WARN DAGScheduler: Broadcasting large task binary with size 1654.3 KiB\n",
      "25/05/05 20:52:56 WARN DAGScheduler: Broadcasting large task binary with size 1653.1 KiB\n",
      "25/05/05 20:52:56 WARN DAGScheduler: Broadcasting large task binary with size 1654.3 KiB\n",
      "25/05/05 20:52:56 WARN DAGScheduler: Broadcasting large task binary with size 1653.1 KiB\n",
      "25/05/05 20:52:56 WARN DAGScheduler: Broadcasting large task binary with size 1654.3 KiB\n",
      "25/05/05 20:52:57 WARN DAGScheduler: Broadcasting large task binary with size 1653.1 KiB\n",
      "25/05/05 20:52:57 WARN DAGScheduler: Broadcasting large task binary with size 1654.3 KiB\n",
      "25/05/05 20:52:57 WARN DAGScheduler: Broadcasting large task binary with size 1653.1 KiB\n",
      "25/05/05 20:52:57 WARN DAGScheduler: Broadcasting large task binary with size 1654.3 KiB\n",
      "25/05/05 20:52:57 WARN DAGScheduler: Broadcasting large task binary with size 1653.1 KiB\n",
      "25/05/05 20:52:57 WARN DAGScheduler: Broadcasting large task binary with size 1654.3 KiB\n",
      "25/05/05 20:52:57 WARN DAGScheduler: Broadcasting large task binary with size 1653.1 KiB\n",
      "25/05/05 20:52:57 WARN DAGScheduler: Broadcasting large task binary with size 1654.3 KiB\n",
      "25/05/05 20:52:57 WARN DAGScheduler: Broadcasting large task binary with size 1653.1 KiB\n",
      "25/05/05 20:52:57 WARN DAGScheduler: Broadcasting large task binary with size 1654.3 KiB\n",
      "25/05/05 20:52:58 WARN DAGScheduler: Broadcasting large task binary with size 1653.1 KiB\n",
      "25/05/05 20:52:58 WARN DAGScheduler: Broadcasting large task binary with size 1654.3 KiB\n",
      "25/05/05 20:52:58 WARN DAGScheduler: Broadcasting large task binary with size 1653.1 KiB\n",
      "25/05/05 20:52:58 WARN DAGScheduler: Broadcasting large task binary with size 1654.3 KiB\n",
      "25/05/05 20:52:58 WARN DAGScheduler: Broadcasting large task binary with size 1653.1 KiB\n",
      "25/05/05 20:52:58 WARN DAGScheduler: Broadcasting large task binary with size 1654.3 KiB\n",
      "25/05/05 20:52:58 WARN DAGScheduler: Broadcasting large task binary with size 1653.1 KiB\n",
      "25/05/05 20:52:58 WARN DAGScheduler: Broadcasting large task binary with size 1654.3 KiB\n",
      "25/05/05 20:52:58 WARN DAGScheduler: Broadcasting large task binary with size 1653.1 KiB\n",
      "25/05/05 20:52:59 WARN DAGScheduler: Broadcasting large task binary with size 1654.3 KiB\n",
      "25/05/05 20:52:59 WARN DAGScheduler: Broadcasting large task binary with size 1653.1 KiB\n",
      "25/05/05 20:52:59 WARN DAGScheduler: Broadcasting large task binary with size 1654.3 KiB\n",
      "25/05/05 20:52:59 WARN DAGScheduler: Broadcasting large task binary with size 1653.1 KiB\n",
      "25/05/05 20:52:59 WARN DAGScheduler: Broadcasting large task binary with size 1654.3 KiB\n",
      "25/05/05 20:52:59 WARN DAGScheduler: Broadcasting large task binary with size 1653.1 KiB\n",
      "25/05/05 20:52:59 WARN DAGScheduler: Broadcasting large task binary with size 1654.3 KiB\n",
      "25/05/05 20:52:59 WARN DAGScheduler: Broadcasting large task binary with size 1653.1 KiB\n",
      "25/05/05 20:52:59 WARN DAGScheduler: Broadcasting large task binary with size 1654.3 KiB\n",
      "25/05/05 20:53:00 WARN DAGScheduler: Broadcasting large task binary with size 1653.1 KiB\n",
      "25/05/05 20:53:00 WARN DAGScheduler: Broadcasting large task binary with size 1654.3 KiB\n",
      "25/05/05 20:53:00 WARN DAGScheduler: Broadcasting large task binary with size 1653.1 KiB\n",
      "25/05/05 20:53:00 WARN DAGScheduler: Broadcasting large task binary with size 1654.3 KiB\n",
      "25/05/05 20:53:00 WARN DAGScheduler: Broadcasting large task binary with size 1653.1 KiB\n",
      "25/05/05 20:53:00 WARN DAGScheduler: Broadcasting large task binary with size 1654.3 KiB\n",
      "25/05/05 20:53:00 WARN DAGScheduler: Broadcasting large task binary with size 1653.1 KiB\n",
      "25/05/05 20:53:00 WARN DAGScheduler: Broadcasting large task binary with size 1654.3 KiB\n",
      "25/05/05 20:53:01 WARN DAGScheduler: Broadcasting large task binary with size 1653.1 KiB\n",
      "25/05/05 20:53:01 WARN DAGScheduler: Broadcasting large task binary with size 1654.3 KiB\n",
      "25/05/05 20:53:01 WARN DAGScheduler: Broadcasting large task binary with size 1653.1 KiB\n",
      "25/05/05 20:53:01 WARN DAGScheduler: Broadcasting large task binary with size 1654.3 KiB\n",
      "25/05/05 20:53:01 WARN DAGScheduler: Broadcasting large task binary with size 1653.1 KiB\n",
      "25/05/05 20:53:01 WARN DAGScheduler: Broadcasting large task binary with size 1654.3 KiB\n",
      "25/05/05 20:53:01 WARN DAGScheduler: Broadcasting large task binary with size 1653.1 KiB\n",
      "25/05/05 20:53:01 WARN DAGScheduler: Broadcasting large task binary with size 1654.3 KiB\n",
      "25/05/05 20:53:01 WARN DAGScheduler: Broadcasting large task binary with size 1653.1 KiB\n",
      "25/05/05 20:53:01 WARN DAGScheduler: Broadcasting large task binary with size 1654.3 KiB\n",
      "25/05/05 20:53:02 WARN DAGScheduler: Broadcasting large task binary with size 1653.1 KiB\n",
      "25/05/05 20:53:02 WARN DAGScheduler: Broadcasting large task binary with size 1654.3 KiB\n",
      "25/05/05 20:53:02 WARN DAGScheduler: Broadcasting large task binary with size 1653.1 KiB\n",
      "25/05/05 20:53:02 WARN DAGScheduler: Broadcasting large task binary with size 1654.3 KiB\n",
      "25/05/05 20:53:02 WARN DAGScheduler: Broadcasting large task binary with size 1653.1 KiB\n",
      "25/05/05 20:53:02 WARN DAGScheduler: Broadcasting large task binary with size 1654.3 KiB\n",
      "25/05/05 20:53:02 WARN DAGScheduler: Broadcasting large task binary with size 1653.1 KiB\n",
      "25/05/05 20:53:02 WARN DAGScheduler: Broadcasting large task binary with size 1654.3 KiB\n",
      "25/05/05 20:53:03 WARN DAGScheduler: Broadcasting large task binary with size 1653.1 KiB\n",
      "25/05/05 20:53:03 WARN DAGScheduler: Broadcasting large task binary with size 1654.3 KiB\n",
      "25/05/05 20:53:03 WARN DAGScheduler: Broadcasting large task binary with size 1653.1 KiB\n",
      "25/05/05 20:53:03 WARN DAGScheduler: Broadcasting large task binary with size 1654.3 KiB\n",
      "25/05/05 20:53:03 WARN DAGScheduler: Broadcasting large task binary with size 1653.1 KiB\n",
      "25/05/05 20:53:03 WARN DAGScheduler: Broadcasting large task binary with size 1654.3 KiB\n",
      "25/05/05 20:53:03 WARN DAGScheduler: Broadcasting large task binary with size 1653.1 KiB\n",
      "25/05/05 20:53:03 WARN DAGScheduler: Broadcasting large task binary with size 1654.3 KiB\n",
      "25/05/05 20:53:03 WARN DAGScheduler: Broadcasting large task binary with size 1653.1 KiB\n",
      "25/05/05 20:53:03 WARN DAGScheduler: Broadcasting large task binary with size 1654.3 KiB\n",
      "25/05/05 20:53:04 WARN DAGScheduler: Broadcasting large task binary with size 1653.1 KiB\n",
      "25/05/05 20:53:04 WARN DAGScheduler: Broadcasting large task binary with size 1654.3 KiB\n",
      "25/05/05 20:53:04 WARN DAGScheduler: Broadcasting large task binary with size 1653.1 KiB\n",
      "25/05/05 20:53:04 WARN DAGScheduler: Broadcasting large task binary with size 1654.3 KiB\n",
      "25/05/05 20:53:04 WARN DAGScheduler: Broadcasting large task binary with size 1653.1 KiB\n",
      "25/05/05 20:53:04 WARN DAGScheduler: Broadcasting large task binary with size 1654.3 KiB\n",
      "25/05/05 20:53:04 WARN DAGScheduler: Broadcasting large task binary with size 1653.1 KiB\n",
      "25/05/05 20:53:04 WARN DAGScheduler: Broadcasting large task binary with size 1654.3 KiB\n",
      "25/05/05 20:53:04 WARN DAGScheduler: Broadcasting large task binary with size 1653.1 KiB\n",
      "25/05/05 20:53:05 WARN DAGScheduler: Broadcasting large task binary with size 1654.3 KiB\n",
      "25/05/05 20:53:05 WARN DAGScheduler: Broadcasting large task binary with size 1653.1 KiB\n",
      "25/05/05 20:53:05 WARN DAGScheduler: Broadcasting large task binary with size 1654.3 KiB\n",
      "25/05/05 20:53:05 WARN DAGScheduler: Broadcasting large task binary with size 1653.1 KiB\n",
      "25/05/05 20:53:05 WARN DAGScheduler: Broadcasting large task binary with size 1654.3 KiB\n",
      "25/05/05 20:53:05 WARN DAGScheduler: Broadcasting large task binary with size 1653.1 KiB\n",
      "25/05/05 20:53:05 WARN DAGScheduler: Broadcasting large task binary with size 1654.3 KiB\n",
      "25/05/05 20:53:05 WARN DAGScheduler: Broadcasting large task binary with size 1653.1 KiB\n",
      "25/05/05 20:53:05 WARN DAGScheduler: Broadcasting large task binary with size 1654.3 KiB\n",
      "25/05/05 20:53:06 WARN DAGScheduler: Broadcasting large task binary with size 1653.1 KiB\n",
      "25/05/05 20:53:06 WARN DAGScheduler: Broadcasting large task binary with size 1654.3 KiB\n",
      "25/05/05 20:53:06 WARN DAGScheduler: Broadcasting large task binary with size 1653.1 KiB\n",
      "25/05/05 20:53:06 WARN DAGScheduler: Broadcasting large task binary with size 1654.3 KiB\n",
      "25/05/05 20:53:06 WARN DAGScheduler: Broadcasting large task binary with size 1653.1 KiB\n",
      "25/05/05 20:53:06 WARN DAGScheduler: Broadcasting large task binary with size 1654.3 KiB\n",
      "25/05/05 20:53:06 WARN DAGScheduler: Broadcasting large task binary with size 1653.1 KiB\n",
      "25/05/05 20:53:06 WARN DAGScheduler: Broadcasting large task binary with size 1654.3 KiB\n",
      "25/05/05 20:53:07 WARN DAGScheduler: Broadcasting large task binary with size 1653.1 KiB\n",
      "25/05/05 20:53:07 WARN DAGScheduler: Broadcasting large task binary with size 1654.3 KiB\n",
      "25/05/05 20:53:07 WARN DAGScheduler: Broadcasting large task binary with size 1653.1 KiB\n",
      "25/05/05 20:53:07 WARN DAGScheduler: Broadcasting large task binary with size 1654.3 KiB\n",
      "25/05/05 20:53:07 WARN DAGScheduler: Broadcasting large task binary with size 1653.1 KiB\n",
      "25/05/05 20:53:07 WARN DAGScheduler: Broadcasting large task binary with size 1654.3 KiB\n",
      "25/05/05 20:53:07 WARN DAGScheduler: Broadcasting large task binary with size 1653.1 KiB\n",
      "25/05/05 20:53:07 WARN DAGScheduler: Broadcasting large task binary with size 1654.3 KiB\n",
      "25/05/05 20:53:07 WARN DAGScheduler: Broadcasting large task binary with size 1653.1 KiB\n",
      "25/05/05 20:53:07 WARN DAGScheduler: Broadcasting large task binary with size 1654.3 KiB\n",
      "25/05/05 20:53:08 WARN DAGScheduler: Broadcasting large task binary with size 1653.1 KiB\n",
      "25/05/05 20:53:08 WARN DAGScheduler: Broadcasting large task binary with size 1654.3 KiB\n",
      "25/05/05 20:53:08 WARN DAGScheduler: Broadcasting large task binary with size 1653.1 KiB\n",
      "25/05/05 20:53:08 WARN DAGScheduler: Broadcasting large task binary with size 1654.3 KiB\n",
      "25/05/05 20:53:08 WARN DAGScheduler: Broadcasting large task binary with size 1653.1 KiB\n",
      "25/05/05 20:53:08 WARN DAGScheduler: Broadcasting large task binary with size 1654.3 KiB\n",
      "25/05/05 20:53:08 WARN DAGScheduler: Broadcasting large task binary with size 1653.1 KiB\n",
      "25/05/05 20:53:08 WARN DAGScheduler: Broadcasting large task binary with size 1654.3 KiB\n",
      "25/05/05 20:53:08 WARN DAGScheduler: Broadcasting large task binary with size 1653.1 KiB\n",
      "25/05/05 20:53:08 WARN DAGScheduler: Broadcasting large task binary with size 1654.3 KiB\n",
      "25/05/05 20:53:09 WARN DAGScheduler: Broadcasting large task binary with size 1653.1 KiB\n",
      "25/05/05 20:53:09 WARN DAGScheduler: Broadcasting large task binary with size 1654.3 KiB\n",
      "25/05/05 20:53:09 WARN DAGScheduler: Broadcasting large task binary with size 1653.1 KiB\n",
      "25/05/05 20:53:09 WARN DAGScheduler: Broadcasting large task binary with size 1654.3 KiB\n",
      "25/05/05 20:53:09 WARN DAGScheduler: Broadcasting large task binary with size 1653.1 KiB\n",
      "25/05/05 20:53:09 WARN DAGScheduler: Broadcasting large task binary with size 1654.3 KiB\n",
      "25/05/05 20:53:09 WARN DAGScheduler: Broadcasting large task binary with size 1653.1 KiB\n",
      "25/05/05 20:53:10 WARN DAGScheduler: Broadcasting large task binary with size 1654.3 KiB\n",
      "25/05/05 20:53:10 WARN DAGScheduler: Broadcasting large task binary with size 1653.1 KiB\n",
      "25/05/05 20:53:10 WARN DAGScheduler: Broadcasting large task binary with size 1654.3 KiB\n",
      "25/05/05 20:53:10 WARN DAGScheduler: Broadcasting large task binary with size 1653.1 KiB\n",
      "25/05/05 20:53:10 WARN DAGScheduler: Broadcasting large task binary with size 1654.3 KiB\n",
      "25/05/05 20:53:10 WARN DAGScheduler: Broadcasting large task binary with size 1653.1 KiB\n",
      "25/05/05 20:53:10 WARN DAGScheduler: Broadcasting large task binary with size 1654.3 KiB\n",
      "25/05/05 20:53:10 WARN DAGScheduler: Broadcasting large task binary with size 1653.1 KiB\n",
      "25/05/05 20:53:10 WARN DAGScheduler: Broadcasting large task binary with size 1654.3 KiB\n",
      "25/05/05 20:53:11 WARN DAGScheduler: Broadcasting large task binary with size 1653.1 KiB\n",
      "25/05/05 20:53:11 WARN DAGScheduler: Broadcasting large task binary with size 1654.3 KiB\n",
      "25/05/05 20:53:11 WARN DAGScheduler: Broadcasting large task binary with size 1653.1 KiB\n",
      "25/05/05 20:53:11 WARN DAGScheduler: Broadcasting large task binary with size 1654.3 KiB\n",
      "25/05/05 20:53:11 WARN DAGScheduler: Broadcasting large task binary with size 1653.1 KiB\n",
      "25/05/05 20:53:11 WARN DAGScheduler: Broadcasting large task binary with size 1654.3 KiB\n",
      "25/05/05 20:53:11 WARN DAGScheduler: Broadcasting large task binary with size 1653.1 KiB\n",
      "25/05/05 20:53:11 WARN DAGScheduler: Broadcasting large task binary with size 1654.3 KiB\n",
      "25/05/05 20:53:12 WARN DAGScheduler: Broadcasting large task binary with size 1653.1 KiB\n",
      "25/05/05 20:53:12 WARN DAGScheduler: Broadcasting large task binary with size 1654.3 KiB\n",
      "25/05/05 20:53:12 WARN DAGScheduler: Broadcasting large task binary with size 1653.1 KiB\n",
      "25/05/05 20:53:12 WARN DAGScheduler: Broadcasting large task binary with size 1654.3 KiB\n",
      "25/05/05 20:53:12 WARN DAGScheduler: Broadcasting large task binary with size 1653.1 KiB\n",
      "25/05/05 20:53:12 WARN DAGScheduler: Broadcasting large task binary with size 1654.3 KiB\n",
      "25/05/05 20:53:12 WARN DAGScheduler: Broadcasting large task binary with size 1653.1 KiB\n",
      "25/05/05 20:53:12 WARN DAGScheduler: Broadcasting large task binary with size 1654.3 KiB\n",
      "25/05/05 20:53:13 WARN DAGScheduler: Broadcasting large task binary with size 1653.1 KiB\n",
      "25/05/05 20:53:13 WARN DAGScheduler: Broadcasting large task binary with size 1654.3 KiB\n",
      "25/05/05 20:53:13 WARN DAGScheduler: Broadcasting large task binary with size 1653.1 KiB\n",
      "25/05/05 20:53:13 WARN DAGScheduler: Broadcasting large task binary with size 1654.3 KiB\n",
      "25/05/05 20:53:13 WARN DAGScheduler: Broadcasting large task binary with size 1653.1 KiB\n",
      "25/05/05 20:53:13 WARN DAGScheduler: Broadcasting large task binary with size 1654.3 KiB\n",
      "25/05/05 20:53:13 WARN DAGScheduler: Broadcasting large task binary with size 1653.1 KiB\n",
      "25/05/05 20:53:13 WARN DAGScheduler: Broadcasting large task binary with size 1654.3 KiB\n",
      "25/05/05 20:53:13 WARN DAGScheduler: Broadcasting large task binary with size 1653.1 KiB\n",
      "25/05/05 20:53:13 WARN DAGScheduler: Broadcasting large task binary with size 1654.3 KiB\n",
      "25/05/05 20:53:14 WARN DAGScheduler: Broadcasting large task binary with size 1653.1 KiB\n",
      "25/05/05 20:53:14 WARN DAGScheduler: Broadcasting large task binary with size 1654.3 KiB\n",
      "25/05/05 20:53:14 WARN DAGScheduler: Broadcasting large task binary with size 1653.1 KiB\n",
      "25/05/05 20:53:14 WARN DAGScheduler: Broadcasting large task binary with size 1654.3 KiB\n",
      "25/05/05 20:53:14 WARN DAGScheduler: Broadcasting large task binary with size 1653.1 KiB\n",
      "25/05/05 20:53:14 WARN DAGScheduler: Broadcasting large task binary with size 1654.3 KiB\n",
      "25/05/05 20:53:14 WARN DAGScheduler: Broadcasting large task binary with size 1653.1 KiB\n",
      "25/05/05 20:53:14 WARN DAGScheduler: Broadcasting large task binary with size 1654.3 KiB\n",
      "25/05/05 20:53:15 WARN DAGScheduler: Broadcasting large task binary with size 1653.1 KiB\n",
      "25/05/05 20:53:15 WARN DAGScheduler: Broadcasting large task binary with size 1654.3 KiB\n",
      "25/05/05 20:53:15 WARN DAGScheduler: Broadcasting large task binary with size 1653.1 KiB\n",
      "25/05/05 20:53:15 WARN DAGScheduler: Broadcasting large task binary with size 1654.3 KiB\n",
      "25/05/05 20:53:15 WARN DAGScheduler: Broadcasting large task binary with size 1653.1 KiB\n",
      "25/05/05 20:53:15 WARN DAGScheduler: Broadcasting large task binary with size 1654.3 KiB\n",
      "25/05/05 20:53:15 WARN DAGScheduler: Broadcasting large task binary with size 1653.1 KiB\n",
      "25/05/05 20:53:15 WARN DAGScheduler: Broadcasting large task binary with size 1654.3 KiB\n",
      "25/05/05 20:53:15 WARN DAGScheduler: Broadcasting large task binary with size 1653.1 KiB\n",
      "25/05/05 20:53:15 WARN DAGScheduler: Broadcasting large task binary with size 1654.3 KiB\n",
      "25/05/05 20:53:16 WARN DAGScheduler: Broadcasting large task binary with size 1653.1 KiB\n",
      "25/05/05 20:53:16 WARN DAGScheduler: Broadcasting large task binary with size 1654.3 KiB\n",
      "25/05/05 20:53:16 WARN DAGScheduler: Broadcasting large task binary with size 1653.1 KiB\n",
      "25/05/05 20:53:16 WARN DAGScheduler: Broadcasting large task binary with size 1654.3 KiB\n",
      "25/05/05 20:53:16 WARN DAGScheduler: Broadcasting large task binary with size 1653.1 KiB\n",
      "25/05/05 20:53:16 WARN DAGScheduler: Broadcasting large task binary with size 1654.3 KiB\n",
      "25/05/05 20:53:16 WARN DAGScheduler: Broadcasting large task binary with size 1653.1 KiB\n",
      "25/05/05 20:53:16 WARN DAGScheduler: Broadcasting large task binary with size 1654.3 KiB\n",
      "25/05/05 20:53:16 WARN DAGScheduler: Broadcasting large task binary with size 1653.1 KiB\n",
      "25/05/05 20:53:17 WARN DAGScheduler: Broadcasting large task binary with size 1654.3 KiB\n",
      "25/05/05 20:53:17 WARN DAGScheduler: Broadcasting large task binary with size 1653.1 KiB\n",
      "25/05/05 20:53:17 WARN DAGScheduler: Broadcasting large task binary with size 1654.3 KiB\n",
      "25/05/05 20:53:17 WARN DAGScheduler: Broadcasting large task binary with size 1653.1 KiB\n",
      "25/05/05 20:53:17 WARN DAGScheduler: Broadcasting large task binary with size 1654.3 KiB\n",
      "25/05/05 20:53:17 WARN DAGScheduler: Broadcasting large task binary with size 1653.1 KiB\n",
      "25/05/05 20:53:17 WARN DAGScheduler: Broadcasting large task binary with size 1654.3 KiB\n",
      "25/05/05 20:53:17 WARN DAGScheduler: Broadcasting large task binary with size 1653.1 KiB\n",
      "25/05/05 20:53:17 WARN DAGScheduler: Broadcasting large task binary with size 1654.3 KiB\n",
      "25/05/05 20:53:18 WARN DAGScheduler: Broadcasting large task binary with size 1653.1 KiB\n",
      "25/05/05 20:53:18 WARN DAGScheduler: Broadcasting large task binary with size 1654.3 KiB\n",
      "25/05/05 20:53:18 WARN DAGScheduler: Broadcasting large task binary with size 1653.1 KiB\n",
      "25/05/05 20:53:18 WARN DAGScheduler: Broadcasting large task binary with size 1654.3 KiB\n",
      "25/05/05 20:53:18 WARN DAGScheduler: Broadcasting large task binary with size 1653.1 KiB\n",
      "25/05/05 20:53:18 WARN DAGScheduler: Broadcasting large task binary with size 1654.3 KiB\n",
      "25/05/05 20:53:18 WARN DAGScheduler: Broadcasting large task binary with size 1653.1 KiB\n",
      "25/05/05 20:53:18 WARN DAGScheduler: Broadcasting large task binary with size 1654.3 KiB\n",
      "25/05/05 20:53:18 WARN DAGScheduler: Broadcasting large task binary with size 1653.1 KiB\n",
      "25/05/05 20:53:18 WARN DAGScheduler: Broadcasting large task binary with size 1654.3 KiB\n",
      "25/05/05 20:53:19 WARN DAGScheduler: Broadcasting large task binary with size 1653.1 KiB\n",
      "25/05/05 20:53:19 WARN DAGScheduler: Broadcasting large task binary with size 1654.3 KiB\n",
      "25/05/05 20:53:19 WARN DAGScheduler: Broadcasting large task binary with size 1654.3 KiB\n",
      "25/05/05 20:53:19 WARN DAGScheduler: Broadcasting large task binary with size 1691.6 KiB\n",
      "25/05/05 20:53:19 WARN DAGScheduler: Broadcasting large task binary with size 1653.1 KiB\n",
      "25/05/05 20:53:19 WARN DAGScheduler: Broadcasting large task binary with size 1654.3 KiB\n",
      "25/05/05 20:53:19 WARN DAGScheduler: Broadcasting large task binary with size 1653.1 KiB\n",
      "25/05/05 20:53:19 WARN DAGScheduler: Broadcasting large task binary with size 1654.3 KiB\n",
      "25/05/05 20:53:20 WARN DAGScheduler: Broadcasting large task binary with size 1692.7 KiB\n",
      "25/05/05 20:53:20 WARN DAGScheduler: Broadcasting large task binary with size 1684.0 KiB\n",
      "25/05/05 20:53:20 WARN DAGScheduler: Broadcasting large task binary with size 1654.3 KiB\n",
      "25/05/05 20:53:20 WARN DAGScheduler: Broadcasting large task binary with size 1608.5 KiB\n",
      "25/05/05 20:53:20 WARN DAGScheduler: Broadcasting large task binary with size 1653.1 KiB\n",
      "25/05/05 20:53:20 WARN DAGScheduler: Broadcasting large task binary with size 1654.3 KiB\n",
      "25/05/05 20:53:20 WARN DAGScheduler: Broadcasting large task binary with size 1653.1 KiB\n",
      "25/05/05 20:53:20 WARN DAGScheduler: Broadcasting large task binary with size 1685.2 KiB\n",
      "25/05/05 20:53:21 WARN DAGScheduler: Broadcasting large task binary with size 1687.0 KiB\n",
      "25/05/05 20:53:21 WARN DAGScheduler: Broadcasting large task binary with size 1694.5 KiB\n",
      "25/05/05 20:53:21 WARN DAGScheduler: Broadcasting large task binary with size 1654.3 KiB\n",
      "25/05/05 20:53:21 WARN DAGScheduler: Broadcasting large task binary with size 1694.2 KiB\n",
      "25/05/05 20:53:21 WARN DAGScheduler: Broadcasting large task binary with size 1654.3 KiB\n",
      "25/05/05 20:53:21 WARN DAGScheduler: Broadcasting large task binary with size 1653.1 KiB\n",
      "25/05/05 20:53:21 WARN DAGScheduler: Broadcasting large task binary with size 1688.1 KiB\n",
      "25/05/05 20:53:22 WARN DAGScheduler: Broadcasting large task binary with size 1695.6 KiB\n",
      "25/05/05 20:53:22 WARN DAGScheduler: Broadcasting large task binary with size 1695.3 KiB\n",
      "25/05/05 20:53:22 WARN DAGScheduler: Broadcasting large task binary with size 1654.3 KiB\n",
      "25/05/05 20:53:22 WARN DAGScheduler: Broadcasting large task binary with size 1697.1 KiB\n",
      "25/05/05 20:53:22 WARN DAGScheduler: Broadcasting large task binary with size 1653.1 KiB\n",
      "25/05/05 20:53:22 WARN DAGScheduler: Broadcasting large task binary with size 1698.2 KiB\n",
      "25/05/05 20:53:23 WARN DAGScheduler: Broadcasting large task binary with size 1654.3 KiB\n",
      "25/05/05 20:53:23 WARN DAGScheduler: Broadcasting large task binary with size 1653.1 KiB\n",
      "25/05/05 20:53:23 WARN DAGScheduler: Broadcasting large task binary with size 1654.3 KiB\n",
      "25/05/05 20:53:23 WARN DAGScheduler: Broadcasting large task binary with size 1653.1 KiB\n",
      "25/05/05 20:53:23 WARN DAGScheduler: Broadcasting large task binary with size 1654.3 KiB\n",
      "25/05/05 20:53:23 WARN DAGScheduler: Broadcasting large task binary with size 1653.1 KiB\n",
      "25/05/05 20:53:24 WARN DAGScheduler: Broadcasting large task binary with size 1654.3 KiB\n",
      "25/05/05 20:53:24 WARN DAGScheduler: Broadcasting large task binary with size 1653.1 KiB\n",
      "25/05/05 20:53:24 WARN DAGScheduler: Broadcasting large task binary with size 1654.3 KiB\n",
      "25/05/05 20:53:24 WARN DAGScheduler: Broadcasting large task binary with size 1653.1 KiB\n",
      "25/05/05 20:53:24 WARN DAGScheduler: Broadcasting large task binary with size 1654.3 KiB\n",
      "25/05/05 20:53:24 WARN DAGScheduler: Broadcasting large task binary with size 1653.1 KiB\n",
      "25/05/05 20:53:25 WARN DAGScheduler: Broadcasting large task binary with size 1654.3 KiB\n",
      "25/05/05 20:53:25 WARN DAGScheduler: Broadcasting large task binary with size 1653.1 KiB\n",
      "25/05/05 20:53:25 WARN DAGScheduler: Broadcasting large task binary with size 1654.3 KiB\n",
      "25/05/05 20:53:25 WARN DAGScheduler: Broadcasting large task binary with size 1653.1 KiB\n",
      "25/05/05 20:53:25 WARN DAGScheduler: Broadcasting large task binary with size 1654.3 KiB\n",
      "25/05/05 20:53:26 WARN DAGScheduler: Broadcasting large task binary with size 1653.1 KiB\n",
      "25/05/05 20:53:26 WARN DAGScheduler: Broadcasting large task binary with size 1654.3 KiB\n",
      "25/05/05 20:53:26 WARN DAGScheduler: Broadcasting large task binary with size 1653.1 KiB\n",
      "25/05/05 20:53:26 WARN DAGScheduler: Broadcasting large task binary with size 1654.3 KiB\n",
      "25/05/05 20:53:26 WARN DAGScheduler: Broadcasting large task binary with size 1653.1 KiB\n",
      "25/05/05 20:53:27 WARN DAGScheduler: Broadcasting large task binary with size 1654.3 KiB\n",
      "25/05/05 20:53:27 WARN DAGScheduler: Broadcasting large task binary with size 1653.1 KiB\n",
      "25/05/05 20:53:27 WARN DAGScheduler: Broadcasting large task binary with size 1654.3 KiB\n",
      "25/05/05 20:53:27 WARN DAGScheduler: Broadcasting large task binary with size 1695.0 KiB\n",
      "25/05/05 20:53:28 WARN DAGScheduler: Broadcasting large task binary with size 1696.1 KiB\n",
      "25/05/05 20:53:28 WARN DAGScheduler: Broadcasting large task binary with size 1697.9 KiB\n",
      "25/05/05 20:53:28 WARN DAGScheduler: Broadcasting large task binary with size 1699.0 KiB\n",
      "25/05/05 20:53:29 WARN DAGScheduler: Broadcasting large task binary with size 1608.6 KiB\n",
      "25/05/05 20:53:29 WARN DAGScheduler: Broadcasting large task binary with size 1608.6 KiB\n",
      "25/05/05 20:53:29 WARN DAGScheduler: Broadcasting large task binary with size 1608.6 KiB\n",
      "25/05/05 20:53:29 WARN DAGScheduler: Broadcasting large task binary with size 1608.6 KiB\n",
      "25/05/05 20:53:29 WARN DAGScheduler: Broadcasting large task binary with size 1652.3 KiB\n",
      "25/05/05 20:53:29 WARN DAGScheduler: Broadcasting large task binary with size 1652.3 KiB\n",
      "25/05/05 20:53:30 WARN DAGScheduler: Broadcasting large task binary with size 1652.3 KiB\n",
      "25/05/05 20:53:30 WARN DAGScheduler: Broadcasting large task binary with size 1652.3 KiB\n",
      "25/05/05 20:53:31 WARN DAGScheduler: Broadcasting large task binary with size 1653.5 KiB\n",
      "25/05/05 20:53:31 WARN DAGScheduler: Broadcasting large task binary with size 1653.1 KiB\n",
      "25/05/05 20:53:31 WARN DAGScheduler: Broadcasting large task binary with size 1653.5 KiB\n",
      "25/05/05 20:53:32 WARN DAGScheduler: Broadcasting large task binary with size 1653.1 KiB\n",
      "25/05/05 20:53:32 WARN DAGScheduler: Broadcasting large task binary with size 1653.5 KiB\n",
      "25/05/05 20:53:33 WARN DAGScheduler: Broadcasting large task binary with size 1653.1 KiB\n",
      "25/05/05 20:53:33 WARN DAGScheduler: Broadcasting large task binary with size 1653.5 KiB\n",
      "25/05/05 20:53:33 WARN DAGScheduler: Broadcasting large task binary with size 1653.1 KiB\n",
      "25/05/05 20:53:33 WARN DAGScheduler: Broadcasting large task binary with size 1654.3 KiB\n",
      "25/05/05 20:53:33 WARN DAGScheduler: Broadcasting large task binary with size 1653.1 KiB\n",
      "25/05/05 20:53:34 WARN DAGScheduler: Broadcasting large task binary with size 1654.3 KiB\n",
      "25/05/05 20:53:34 WARN DAGScheduler: Broadcasting large task binary with size 1653.1 KiB\n",
      "25/05/05 20:53:34 WARN DAGScheduler: Broadcasting large task binary with size 1654.3 KiB\n",
      "25/05/05 20:53:34 WARN DAGScheduler: Broadcasting large task binary with size 1653.1 KiB\n",
      "25/05/05 20:53:34 WARN DAGScheduler: Broadcasting large task binary with size 1654.3 KiB\n",
      "25/05/05 20:53:35 WARN DAGScheduler: Broadcasting large task binary with size 1653.1 KiB\n",
      "25/05/05 20:53:35 WARN DAGScheduler: Broadcasting large task binary with size 1654.3 KiB\n",
      "25/05/05 20:53:35 WARN DAGScheduler: Broadcasting large task binary with size 1653.1 KiB\n",
      "25/05/05 20:53:35 WARN DAGScheduler: Broadcasting large task binary with size 1654.3 KiB\n",
      "25/05/05 20:53:35 WARN DAGScheduler: Broadcasting large task binary with size 1653.1 KiB\n",
      "25/05/05 20:53:35 WARN DAGScheduler: Broadcasting large task binary with size 1654.3 KiB\n",
      "25/05/05 20:53:36 WARN DAGScheduler: Broadcasting large task binary with size 1653.1 KiB\n",
      "25/05/05 20:53:36 WARN DAGScheduler: Broadcasting large task binary with size 1654.3 KiB\n",
      "25/05/05 20:53:36 WARN DAGScheduler: Broadcasting large task binary with size 1653.1 KiB\n",
      "25/05/05 20:53:36 WARN DAGScheduler: Broadcasting large task binary with size 1654.3 KiB\n",
      "25/05/05 20:53:36 WARN DAGScheduler: Broadcasting large task binary with size 1653.1 KiB\n",
      "25/05/05 20:53:37 WARN DAGScheduler: Broadcasting large task binary with size 1654.3 KiB\n",
      "25/05/05 20:53:37 WARN DAGScheduler: Broadcasting large task binary with size 1653.1 KiB\n",
      "25/05/05 20:53:37 WARN DAGScheduler: Broadcasting large task binary with size 1654.3 KiB\n",
      "25/05/05 20:53:37 WARN DAGScheduler: Broadcasting large task binary with size 1653.1 KiB\n",
      "25/05/05 20:53:37 WARN DAGScheduler: Broadcasting large task binary with size 1654.3 KiB\n",
      "25/05/05 20:53:37 WARN DAGScheduler: Broadcasting large task binary with size 1653.1 KiB\n",
      "25/05/05 20:53:38 WARN DAGScheduler: Broadcasting large task binary with size 1654.3 KiB\n",
      "25/05/05 20:53:38 WARN DAGScheduler: Broadcasting large task binary with size 1653.1 KiB\n",
      "25/05/05 20:53:38 WARN DAGScheduler: Broadcasting large task binary with size 1654.3 KiB\n",
      "25/05/05 20:53:38 WARN DAGScheduler: Broadcasting large task binary with size 1653.1 KiB\n",
      "25/05/05 20:53:38 WARN DAGScheduler: Broadcasting large task binary with size 1654.3 KiB\n",
      "25/05/05 20:53:38 WARN DAGScheduler: Broadcasting large task binary with size 1653.1 KiB\n",
      "25/05/05 20:53:38 WARN DAGScheduler: Broadcasting large task binary with size 1654.3 KiB\n",
      "25/05/05 20:53:39 WARN DAGScheduler: Broadcasting large task binary with size 1653.1 KiB\n",
      "25/05/05 20:53:39 WARN DAGScheduler: Broadcasting large task binary with size 1654.3 KiB\n",
      "25/05/05 20:53:39 WARN DAGScheduler: Broadcasting large task binary with size 1653.1 KiB\n",
      "25/05/05 20:53:39 WARN DAGScheduler: Broadcasting large task binary with size 1654.3 KiB\n",
      "25/05/05 20:53:39 WARN DAGScheduler: Broadcasting large task binary with size 1653.1 KiB\n",
      "25/05/05 20:53:39 WARN DAGScheduler: Broadcasting large task binary with size 1654.3 KiB\n",
      "25/05/05 20:53:39 WARN DAGScheduler: Broadcasting large task binary with size 1653.1 KiB\n",
      "25/05/05 20:53:39 WARN DAGScheduler: Broadcasting large task binary with size 1654.3 KiB\n",
      "25/05/05 20:53:40 WARN DAGScheduler: Broadcasting large task binary with size 1653.1 KiB\n",
      "25/05/05 20:53:40 WARN DAGScheduler: Broadcasting large task binary with size 1654.3 KiB\n",
      "25/05/05 20:53:40 WARN DAGScheduler: Broadcasting large task binary with size 1653.1 KiB\n",
      "25/05/05 20:53:40 WARN DAGScheduler: Broadcasting large task binary with size 1654.3 KiB\n",
      "25/05/05 20:53:40 WARN DAGScheduler: Broadcasting large task binary with size 1653.1 KiB\n",
      "25/05/05 20:53:40 WARN DAGScheduler: Broadcasting large task binary with size 1654.3 KiB\n",
      "25/05/05 20:53:40 WARN DAGScheduler: Broadcasting large task binary with size 1653.1 KiB\n",
      "25/05/05 20:53:40 WARN DAGScheduler: Broadcasting large task binary with size 1654.3 KiB\n",
      "25/05/05 20:53:40 WARN DAGScheduler: Broadcasting large task binary with size 1653.1 KiB\n",
      "25/05/05 20:53:40 WARN DAGScheduler: Broadcasting large task binary with size 1654.3 KiB\n",
      "25/05/05 20:53:41 WARN DAGScheduler: Broadcasting large task binary with size 1653.1 KiB\n",
      "25/05/05 20:53:41 WARN DAGScheduler: Broadcasting large task binary with size 1654.3 KiB\n",
      "25/05/05 20:53:41 WARN DAGScheduler: Broadcasting large task binary with size 1653.1 KiB\n",
      "25/05/05 20:53:41 WARN DAGScheduler: Broadcasting large task binary with size 1654.3 KiB\n",
      "25/05/05 20:53:41 WARN DAGScheduler: Broadcasting large task binary with size 1653.1 KiB\n",
      "25/05/05 20:53:41 WARN DAGScheduler: Broadcasting large task binary with size 1654.3 KiB\n",
      "25/05/05 20:53:41 WARN DAGScheduler: Broadcasting large task binary with size 1653.1 KiB\n",
      "25/05/05 20:53:41 WARN DAGScheduler: Broadcasting large task binary with size 1654.3 KiB\n",
      "25/05/05 20:53:42 WARN DAGScheduler: Broadcasting large task binary with size 1653.1 KiB\n",
      "25/05/05 20:53:42 WARN DAGScheduler: Broadcasting large task binary with size 1654.3 KiB\n",
      "25/05/05 20:53:42 WARN DAGScheduler: Broadcasting large task binary with size 1653.1 KiB\n",
      "25/05/05 20:53:42 WARN DAGScheduler: Broadcasting large task binary with size 1654.3 KiB\n",
      "25/05/05 20:53:42 WARN DAGScheduler: Broadcasting large task binary with size 1653.1 KiB\n",
      "25/05/05 20:53:42 WARN DAGScheduler: Broadcasting large task binary with size 1654.3 KiB\n",
      "25/05/05 20:53:42 WARN DAGScheduler: Broadcasting large task binary with size 1653.1 KiB\n",
      "25/05/05 20:53:42 WARN DAGScheduler: Broadcasting large task binary with size 1654.3 KiB\n",
      "25/05/05 20:53:42 WARN DAGScheduler: Broadcasting large task binary with size 1653.1 KiB\n",
      "25/05/05 20:53:42 WARN DAGScheduler: Broadcasting large task binary with size 1654.3 KiB\n",
      "25/05/05 20:53:43 WARN DAGScheduler: Broadcasting large task binary with size 1653.1 KiB\n",
      "25/05/05 20:53:43 WARN DAGScheduler: Broadcasting large task binary with size 1654.3 KiB\n",
      "25/05/05 20:53:43 WARN DAGScheduler: Broadcasting large task binary with size 1653.1 KiB\n",
      "25/05/05 20:53:43 WARN DAGScheduler: Broadcasting large task binary with size 1654.3 KiB\n",
      "25/05/05 20:53:43 WARN DAGScheduler: Broadcasting large task binary with size 1653.1 KiB\n",
      "25/05/05 20:53:43 WARN DAGScheduler: Broadcasting large task binary with size 1654.3 KiB\n",
      "25/05/05 20:53:43 WARN DAGScheduler: Broadcasting large task binary with size 1653.1 KiB\n",
      "25/05/05 20:53:43 WARN DAGScheduler: Broadcasting large task binary with size 1654.3 KiB\n",
      "25/05/05 20:53:44 WARN DAGScheduler: Broadcasting large task binary with size 1653.1 KiB\n",
      "25/05/05 20:53:44 WARN DAGScheduler: Broadcasting large task binary with size 1654.3 KiB\n",
      "25/05/05 20:53:44 WARN DAGScheduler: Broadcasting large task binary with size 1653.1 KiB\n",
      "25/05/05 20:53:44 WARN DAGScheduler: Broadcasting large task binary with size 1654.3 KiB\n",
      "25/05/05 20:53:44 WARN DAGScheduler: Broadcasting large task binary with size 1653.1 KiB\n",
      "25/05/05 20:53:44 WARN DAGScheduler: Broadcasting large task binary with size 1654.3 KiB\n",
      "25/05/05 20:53:44 WARN DAGScheduler: Broadcasting large task binary with size 1653.1 KiB\n",
      "25/05/05 20:53:44 WARN DAGScheduler: Broadcasting large task binary with size 1654.3 KiB\n",
      "25/05/05 20:53:44 WARN DAGScheduler: Broadcasting large task binary with size 1653.1 KiB\n",
      "25/05/05 20:53:45 WARN DAGScheduler: Broadcasting large task binary with size 1654.3 KiB\n",
      "25/05/05 20:53:45 WARN DAGScheduler: Broadcasting large task binary with size 1653.1 KiB\n",
      "25/05/05 20:53:45 WARN DAGScheduler: Broadcasting large task binary with size 1654.3 KiB\n",
      "25/05/05 20:53:45 WARN DAGScheduler: Broadcasting large task binary with size 1653.1 KiB\n",
      "25/05/05 20:53:45 WARN DAGScheduler: Broadcasting large task binary with size 1654.3 KiB\n",
      "25/05/05 20:53:45 WARN DAGScheduler: Broadcasting large task binary with size 1653.1 KiB\n",
      "25/05/05 20:53:45 WARN DAGScheduler: Broadcasting large task binary with size 1654.3 KiB\n",
      "25/05/05 20:53:45 WARN DAGScheduler: Broadcasting large task binary with size 1653.1 KiB\n",
      "25/05/05 20:53:45 WARN DAGScheduler: Broadcasting large task binary with size 1654.3 KiB\n",
      "25/05/05 20:53:46 WARN DAGScheduler: Broadcasting large task binary with size 1653.1 KiB\n",
      "25/05/05 20:53:46 WARN DAGScheduler: Broadcasting large task binary with size 1654.3 KiB\n",
      "25/05/05 20:53:46 WARN DAGScheduler: Broadcasting large task binary with size 1653.1 KiB\n",
      "25/05/05 20:53:46 WARN DAGScheduler: Broadcasting large task binary with size 1654.3 KiB\n",
      "25/05/05 20:53:46 WARN DAGScheduler: Broadcasting large task binary with size 1653.1 KiB\n",
      "25/05/05 20:53:46 WARN DAGScheduler: Broadcasting large task binary with size 1654.3 KiB\n",
      "25/05/05 20:53:46 WARN DAGScheduler: Broadcasting large task binary with size 1653.1 KiB\n",
      "25/05/05 20:53:46 WARN DAGScheduler: Broadcasting large task binary with size 1654.3 KiB\n",
      "25/05/05 20:53:46 WARN DAGScheduler: Broadcasting large task binary with size 1653.1 KiB\n",
      "25/05/05 20:53:46 WARN DAGScheduler: Broadcasting large task binary with size 1654.3 KiB\n",
      "25/05/05 20:53:47 WARN DAGScheduler: Broadcasting large task binary with size 1653.1 KiB\n",
      "25/05/05 20:53:47 WARN DAGScheduler: Broadcasting large task binary with size 1654.3 KiB\n",
      "25/05/05 20:53:47 WARN DAGScheduler: Broadcasting large task binary with size 1653.1 KiB\n",
      "25/05/05 20:53:47 WARN DAGScheduler: Broadcasting large task binary with size 1654.3 KiB\n",
      "25/05/05 20:53:47 WARN DAGScheduler: Broadcasting large task binary with size 1653.1 KiB\n",
      "25/05/05 20:53:47 WARN DAGScheduler: Broadcasting large task binary with size 1654.3 KiB\n",
      "25/05/05 20:53:47 WARN DAGScheduler: Broadcasting large task binary with size 1653.1 KiB\n",
      "25/05/05 20:53:47 WARN DAGScheduler: Broadcasting large task binary with size 1654.3 KiB\n",
      "25/05/05 20:53:47 WARN DAGScheduler: Broadcasting large task binary with size 1653.1 KiB\n",
      "25/05/05 20:53:47 WARN DAGScheduler: Broadcasting large task binary with size 1654.3 KiB\n",
      "25/05/05 20:53:48 WARN DAGScheduler: Broadcasting large task binary with size 1653.1 KiB\n",
      "25/05/05 20:53:48 WARN DAGScheduler: Broadcasting large task binary with size 1654.3 KiB\n",
      "25/05/05 20:53:48 WARN DAGScheduler: Broadcasting large task binary with size 1653.1 KiB\n",
      "25/05/05 20:53:48 WARN DAGScheduler: Broadcasting large task binary with size 1654.3 KiB\n",
      "25/05/05 20:53:48 WARN DAGScheduler: Broadcasting large task binary with size 1653.1 KiB\n",
      "25/05/05 20:53:48 WARN DAGScheduler: Broadcasting large task binary with size 1654.3 KiB\n",
      "25/05/05 20:53:48 WARN DAGScheduler: Broadcasting large task binary with size 1653.1 KiB\n",
      "25/05/05 20:53:48 WARN DAGScheduler: Broadcasting large task binary with size 1654.3 KiB\n",
      "25/05/05 20:53:49 WARN DAGScheduler: Broadcasting large task binary with size 1653.1 KiB\n",
      "25/05/05 20:53:49 WARN DAGScheduler: Broadcasting large task binary with size 1654.3 KiB\n",
      "25/05/05 20:53:49 WARN DAGScheduler: Broadcasting large task binary with size 1653.1 KiB\n",
      "25/05/05 20:53:49 WARN DAGScheduler: Broadcasting large task binary with size 1654.3 KiB\n",
      "25/05/05 20:53:49 WARN DAGScheduler: Broadcasting large task binary with size 1653.1 KiB\n",
      "25/05/05 20:53:49 WARN DAGScheduler: Broadcasting large task binary with size 1654.3 KiB\n",
      "25/05/05 20:53:49 WARN DAGScheduler: Broadcasting large task binary with size 1653.1 KiB\n",
      "25/05/05 20:53:49 WARN DAGScheduler: Broadcasting large task binary with size 1654.3 KiB\n",
      "25/05/05 20:53:49 WARN DAGScheduler: Broadcasting large task binary with size 1653.1 KiB\n",
      "25/05/05 20:53:49 WARN DAGScheduler: Broadcasting large task binary with size 1654.3 KiB\n",
      "25/05/05 20:53:50 WARN DAGScheduler: Broadcasting large task binary with size 1653.1 KiB\n",
      "25/05/05 20:53:50 WARN DAGScheduler: Broadcasting large task binary with size 1654.3 KiB\n",
      "25/05/05 20:53:50 WARN DAGScheduler: Broadcasting large task binary with size 1653.1 KiB\n",
      "25/05/05 20:53:50 WARN DAGScheduler: Broadcasting large task binary with size 1654.3 KiB\n",
      "25/05/05 20:53:50 WARN DAGScheduler: Broadcasting large task binary with size 1653.1 KiB\n",
      "25/05/05 20:53:50 WARN DAGScheduler: Broadcasting large task binary with size 1654.3 KiB\n",
      "25/05/05 20:53:50 WARN DAGScheduler: Broadcasting large task binary with size 1653.1 KiB\n",
      "25/05/05 20:53:51 WARN DAGScheduler: Broadcasting large task binary with size 1654.3 KiB\n",
      "25/05/05 20:53:51 WARN DAGScheduler: Broadcasting large task binary with size 1653.1 KiB\n",
      "25/05/05 20:53:51 WARN DAGScheduler: Broadcasting large task binary with size 1654.3 KiB\n",
      "25/05/05 20:53:51 WARN DAGScheduler: Broadcasting large task binary with size 1653.1 KiB\n",
      "25/05/05 20:53:51 WARN DAGScheduler: Broadcasting large task binary with size 1654.3 KiB\n",
      "25/05/05 20:53:51 WARN DAGScheduler: Broadcasting large task binary with size 1653.1 KiB\n",
      "25/05/05 20:53:51 WARN DAGScheduler: Broadcasting large task binary with size 1654.3 KiB\n",
      "25/05/05 20:53:51 WARN DAGScheduler: Broadcasting large task binary with size 1653.1 KiB\n",
      "25/05/05 20:53:51 WARN DAGScheduler: Broadcasting large task binary with size 1654.3 KiB\n",
      "25/05/05 20:53:52 WARN DAGScheduler: Broadcasting large task binary with size 1653.1 KiB\n",
      "25/05/05 20:53:52 WARN DAGScheduler: Broadcasting large task binary with size 1654.3 KiB\n",
      "25/05/05 20:53:52 WARN DAGScheduler: Broadcasting large task binary with size 1653.1 KiB\n",
      "25/05/05 20:53:52 WARN DAGScheduler: Broadcasting large task binary with size 1654.3 KiB\n",
      "25/05/05 20:53:52 WARN DAGScheduler: Broadcasting large task binary with size 1653.1 KiB\n",
      "25/05/05 20:53:52 WARN DAGScheduler: Broadcasting large task binary with size 1654.3 KiB\n",
      "25/05/05 20:53:52 WARN DAGScheduler: Broadcasting large task binary with size 1653.1 KiB\n",
      "25/05/05 20:53:52 WARN DAGScheduler: Broadcasting large task binary with size 1654.3 KiB\n",
      "25/05/05 20:53:52 WARN DAGScheduler: Broadcasting large task binary with size 1653.1 KiB\n",
      "25/05/05 20:53:52 WARN DAGScheduler: Broadcasting large task binary with size 1654.3 KiB\n",
      "25/05/05 20:53:53 WARN DAGScheduler: Broadcasting large task binary with size 1653.1 KiB\n",
      "25/05/05 20:53:53 WARN DAGScheduler: Broadcasting large task binary with size 1654.3 KiB\n",
      "25/05/05 20:53:53 WARN DAGScheduler: Broadcasting large task binary with size 1653.1 KiB\n",
      "25/05/05 20:53:53 WARN DAGScheduler: Broadcasting large task binary with size 1654.3 KiB\n",
      "25/05/05 20:53:53 WARN DAGScheduler: Broadcasting large task binary with size 1653.1 KiB\n",
      "25/05/05 20:53:53 WARN DAGScheduler: Broadcasting large task binary with size 1654.3 KiB\n",
      "25/05/05 20:53:53 WARN DAGScheduler: Broadcasting large task binary with size 1653.1 KiB\n",
      "25/05/05 20:53:53 WARN DAGScheduler: Broadcasting large task binary with size 1654.3 KiB\n",
      "25/05/05 20:53:53 WARN DAGScheduler: Broadcasting large task binary with size 1653.1 KiB\n",
      "25/05/05 20:53:53 WARN DAGScheduler: Broadcasting large task binary with size 1654.3 KiB\n",
      "25/05/05 20:53:54 WARN DAGScheduler: Broadcasting large task binary with size 1653.1 KiB\n",
      "25/05/05 20:53:54 WARN DAGScheduler: Broadcasting large task binary with size 1654.3 KiB\n",
      "25/05/05 20:53:54 WARN DAGScheduler: Broadcasting large task binary with size 1653.1 KiB\n",
      "25/05/05 20:53:54 WARN DAGScheduler: Broadcasting large task binary with size 1654.3 KiB\n",
      "25/05/05 20:53:54 WARN DAGScheduler: Broadcasting large task binary with size 1653.1 KiB\n",
      "25/05/05 20:53:54 WARN DAGScheduler: Broadcasting large task binary with size 1654.3 KiB\n",
      "25/05/05 20:53:54 WARN DAGScheduler: Broadcasting large task binary with size 1653.1 KiB\n",
      "25/05/05 20:53:54 WARN DAGScheduler: Broadcasting large task binary with size 1654.3 KiB\n",
      "25/05/05 20:53:55 WARN DAGScheduler: Broadcasting large task binary with size 1653.1 KiB\n",
      "25/05/05 20:53:55 WARN DAGScheduler: Broadcasting large task binary with size 1654.3 KiB\n",
      "25/05/05 20:53:55 WARN DAGScheduler: Broadcasting large task binary with size 1653.1 KiB\n",
      "25/05/05 20:53:55 WARN DAGScheduler: Broadcasting large task binary with size 1654.3 KiB\n",
      "25/05/05 20:53:55 WARN DAGScheduler: Broadcasting large task binary with size 1653.1 KiB\n",
      "25/05/05 20:53:55 WARN DAGScheduler: Broadcasting large task binary with size 1654.3 KiB\n",
      "25/05/05 20:53:55 WARN DAGScheduler: Broadcasting large task binary with size 1653.1 KiB\n",
      "25/05/05 20:53:55 WARN DAGScheduler: Broadcasting large task binary with size 1654.3 KiB\n",
      "25/05/05 20:53:55 WARN DAGScheduler: Broadcasting large task binary with size 1653.1 KiB\n",
      "25/05/05 20:53:55 WARN DAGScheduler: Broadcasting large task binary with size 1654.3 KiB\n",
      "25/05/05 20:53:56 WARN DAGScheduler: Broadcasting large task binary with size 1653.1 KiB\n",
      "25/05/05 20:53:56 WARN DAGScheduler: Broadcasting large task binary with size 1654.3 KiB\n",
      "25/05/05 20:53:56 WARN DAGScheduler: Broadcasting large task binary with size 1653.1 KiB\n",
      "25/05/05 20:53:56 WARN DAGScheduler: Broadcasting large task binary with size 1654.3 KiB\n",
      "25/05/05 20:53:56 WARN DAGScheduler: Broadcasting large task binary with size 1653.1 KiB\n",
      "25/05/05 20:53:56 WARN DAGScheduler: Broadcasting large task binary with size 1654.3 KiB\n",
      "25/05/05 20:53:56 WARN DAGScheduler: Broadcasting large task binary with size 1653.1 KiB\n",
      "25/05/05 20:53:56 WARN DAGScheduler: Broadcasting large task binary with size 1654.3 KiB\n",
      "25/05/05 20:53:57 WARN DAGScheduler: Broadcasting large task binary with size 1653.1 KiB\n",
      "25/05/05 20:53:57 WARN DAGScheduler: Broadcasting large task binary with size 1654.3 KiB\n",
      "25/05/05 20:53:57 WARN DAGScheduler: Broadcasting large task binary with size 1653.1 KiB\n",
      "25/05/05 20:53:57 WARN DAGScheduler: Broadcasting large task binary with size 1654.3 KiB\n",
      "25/05/05 20:53:57 WARN DAGScheduler: Broadcasting large task binary with size 1653.1 KiB\n",
      "25/05/05 20:53:57 WARN DAGScheduler: Broadcasting large task binary with size 1654.3 KiB\n",
      "25/05/05 20:53:57 WARN DAGScheduler: Broadcasting large task binary with size 1653.1 KiB\n",
      "25/05/05 20:53:57 WARN DAGScheduler: Broadcasting large task binary with size 1654.3 KiB\n",
      "25/05/05 20:53:57 WARN DAGScheduler: Broadcasting large task binary with size 1653.1 KiB\n",
      "25/05/05 20:53:58 WARN DAGScheduler: Broadcasting large task binary with size 1654.3 KiB\n",
      "25/05/05 20:53:58 WARN DAGScheduler: Broadcasting large task binary with size 1653.1 KiB\n",
      "25/05/05 20:53:58 WARN DAGScheduler: Broadcasting large task binary with size 1654.3 KiB\n",
      "25/05/05 20:53:58 WARN DAGScheduler: Broadcasting large task binary with size 1653.1 KiB\n",
      "25/05/05 20:53:58 WARN DAGScheduler: Broadcasting large task binary with size 1654.3 KiB\n",
      "25/05/05 20:53:58 WARN DAGScheduler: Broadcasting large task binary with size 1653.1 KiB\n",
      "25/05/05 20:53:58 WARN DAGScheduler: Broadcasting large task binary with size 1654.3 KiB\n",
      "25/05/05 20:53:58 WARN DAGScheduler: Broadcasting large task binary with size 1653.1 KiB\n",
      "25/05/05 20:53:58 WARN DAGScheduler: Broadcasting large task binary with size 1654.3 KiB\n",
      "25/05/05 20:53:59 WARN DAGScheduler: Broadcasting large task binary with size 1653.1 KiB\n",
      "25/05/05 20:53:59 WARN DAGScheduler: Broadcasting large task binary with size 1654.3 KiB\n",
      "25/05/05 20:53:59 WARN DAGScheduler: Broadcasting large task binary with size 1653.1 KiB\n",
      "25/05/05 20:53:59 WARN DAGScheduler: Broadcasting large task binary with size 1654.3 KiB\n",
      "25/05/05 20:53:59 WARN DAGScheduler: Broadcasting large task binary with size 1653.1 KiB\n",
      "25/05/05 20:53:59 WARN DAGScheduler: Broadcasting large task binary with size 1654.3 KiB\n",
      "25/05/05 20:53:59 WARN DAGScheduler: Broadcasting large task binary with size 1653.1 KiB\n",
      "25/05/05 20:53:59 WARN DAGScheduler: Broadcasting large task binary with size 1654.3 KiB\n",
      "25/05/05 20:53:59 WARN DAGScheduler: Broadcasting large task binary with size 1653.1 KiB\n",
      "25/05/05 20:53:59 WARN DAGScheduler: Broadcasting large task binary with size 1654.3 KiB\n",
      "25/05/05 20:54:00 WARN DAGScheduler: Broadcasting large task binary with size 1653.1 KiB\n",
      "25/05/05 20:54:00 WARN DAGScheduler: Broadcasting large task binary with size 1654.3 KiB\n",
      "25/05/05 20:54:00 WARN DAGScheduler: Broadcasting large task binary with size 1653.1 KiB\n",
      "25/05/05 20:54:00 WARN DAGScheduler: Broadcasting large task binary with size 1654.3 KiB\n",
      "25/05/05 20:54:00 WARN DAGScheduler: Broadcasting large task binary with size 1653.1 KiB\n",
      "25/05/05 20:54:00 WARN DAGScheduler: Broadcasting large task binary with size 1654.3 KiB\n",
      "25/05/05 20:54:00 WARN DAGScheduler: Broadcasting large task binary with size 1653.1 KiB\n",
      "25/05/05 20:54:00 WARN DAGScheduler: Broadcasting large task binary with size 1654.3 KiB\n",
      "25/05/05 20:54:00 WARN DAGScheduler: Broadcasting large task binary with size 1653.1 KiB\n",
      "25/05/05 20:54:01 WARN DAGScheduler: Broadcasting large task binary with size 1654.3 KiB\n",
      "25/05/05 20:54:01 WARN DAGScheduler: Broadcasting large task binary with size 1653.1 KiB\n",
      "25/05/05 20:54:01 WARN DAGScheduler: Broadcasting large task binary with size 1654.3 KiB\n",
      "25/05/05 20:54:01 WARN DAGScheduler: Broadcasting large task binary with size 1653.1 KiB\n",
      "25/05/05 20:54:01 WARN DAGScheduler: Broadcasting large task binary with size 1654.3 KiB\n",
      "25/05/05 20:54:01 WARN DAGScheduler: Broadcasting large task binary with size 1653.1 KiB\n",
      "25/05/05 20:54:01 WARN DAGScheduler: Broadcasting large task binary with size 1654.3 KiB\n",
      "25/05/05 20:54:01 WARN DAGScheduler: Broadcasting large task binary with size 1653.1 KiB\n",
      "25/05/05 20:54:01 WARN DAGScheduler: Broadcasting large task binary with size 1654.3 KiB\n",
      "25/05/05 20:54:02 WARN DAGScheduler: Broadcasting large task binary with size 1653.1 KiB\n",
      "25/05/05 20:54:02 WARN DAGScheduler: Broadcasting large task binary with size 1654.3 KiB\n",
      "25/05/05 20:54:02 WARN DAGScheduler: Broadcasting large task binary with size 1653.1 KiB\n",
      "25/05/05 20:54:02 WARN DAGScheduler: Broadcasting large task binary with size 1654.3 KiB\n",
      "25/05/05 20:54:02 WARN DAGScheduler: Broadcasting large task binary with size 1653.1 KiB\n",
      "25/05/05 20:54:02 WARN DAGScheduler: Broadcasting large task binary with size 1654.3 KiB\n",
      "25/05/05 20:54:02 WARN DAGScheduler: Broadcasting large task binary with size 1653.1 KiB\n",
      "25/05/05 20:54:02 WARN DAGScheduler: Broadcasting large task binary with size 1654.3 KiB\n",
      "25/05/05 20:54:02 WARN DAGScheduler: Broadcasting large task binary with size 1653.1 KiB\n",
      "25/05/05 20:54:02 WARN DAGScheduler: Broadcasting large task binary with size 1654.3 KiB\n",
      "25/05/05 20:54:03 WARN DAGScheduler: Broadcasting large task binary with size 1654.3 KiB\n",
      "25/05/05 20:54:03 WARN DAGScheduler: Broadcasting large task binary with size 1691.9 KiB\n",
      "25/05/05 20:54:03 WARN DAGScheduler: Broadcasting large task binary with size 1653.1 KiB\n",
      "25/05/05 20:54:03 WARN DAGScheduler: Broadcasting large task binary with size 1654.3 KiB\n",
      "25/05/05 20:54:03 WARN DAGScheduler: Broadcasting large task binary with size 1653.1 KiB\n",
      "25/05/05 20:54:03 WARN DAGScheduler: Broadcasting large task binary with size 1654.3 KiB\n",
      "25/05/05 20:54:03 WARN DAGScheduler: Broadcasting large task binary with size 1653.1 KiB\n",
      "25/05/05 20:54:03 WARN DAGScheduler: Broadcasting large task binary with size 1693.0 KiB\n",
      "25/05/05 20:54:04 WARN DAGScheduler: Broadcasting large task binary with size 1654.3 KiB\n",
      "25/05/05 20:54:04 WARN DAGScheduler: Broadcasting large task binary with size 1608.5 KiB\n",
      "25/05/05 20:54:04 WARN DAGScheduler: Broadcasting large task binary with size 1653.1 KiB\n",
      "25/05/05 20:54:04 WARN DAGScheduler: Broadcasting large task binary with size 1654.3 KiB\n",
      "25/05/05 20:54:04 WARN DAGScheduler: Broadcasting large task binary with size 1653.1 KiB\n",
      "25/05/05 20:54:04 WARN DAGScheduler: Broadcasting large task binary with size 1654.3 KiB\n",
      "25/05/05 20:54:04 WARN DAGScheduler: Broadcasting large task binary with size 1653.1 KiB\n",
      "25/05/05 20:54:04 WARN DAGScheduler: Broadcasting large task binary with size 1694.8 KiB\n",
      "25/05/05 20:54:04 WARN DAGScheduler: Broadcasting large task binary with size 1654.3 KiB\n",
      "25/05/05 20:54:05 WARN DAGScheduler: Broadcasting large task binary with size 1653.1 KiB\n",
      "25/05/05 20:54:05 WARN DAGScheduler: Broadcasting large task binary with size 1654.3 KiB\n",
      "25/05/05 20:54:05 WARN DAGScheduler: Broadcasting large task binary with size 1653.1 KiB\n",
      "25/05/05 20:54:05 WARN DAGScheduler: Broadcasting large task binary with size 1654.3 KiB\n",
      "25/05/05 20:54:05 WARN DAGScheduler: Broadcasting large task binary with size 1653.1 KiB\n",
      "25/05/05 20:54:05 WARN DAGScheduler: Broadcasting large task binary with size 1695.9 KiB\n",
      "25/05/05 20:54:05 WARN DAGScheduler: Broadcasting large task binary with size 1654.3 KiB\n",
      "25/05/05 20:54:06 WARN DAGScheduler: Broadcasting large task binary with size 1653.1 KiB\n",
      "25/05/05 20:54:06 WARN DAGScheduler: Broadcasting large task binary with size 1654.3 KiB\n",
      "25/05/05 20:54:06 WARN DAGScheduler: Broadcasting large task binary with size 1653.1 KiB\n",
      "25/05/05 20:54:06 WARN DAGScheduler: Broadcasting large task binary with size 1654.3 KiB\n",
      "25/05/05 20:54:06 WARN DAGScheduler: Broadcasting large task binary with size 1653.1 KiB\n",
      "25/05/05 20:54:06 WARN DAGScheduler: Broadcasting large task binary with size 1654.3 KiB\n",
      "25/05/05 20:54:06 WARN DAGScheduler: Broadcasting large task binary with size 1653.1 KiB\n",
      "25/05/05 20:54:06 WARN DAGScheduler: Broadcasting large task binary with size 1654.3 KiB\n",
      "25/05/05 20:54:06 WARN DAGScheduler: Broadcasting large task binary with size 1653.1 KiB\n",
      "25/05/05 20:54:06 WARN DAGScheduler: Broadcasting large task binary with size 1654.3 KiB\n",
      "25/05/05 20:54:07 WARN DAGScheduler: Broadcasting large task binary with size 1653.1 KiB\n",
      "25/05/05 20:54:07 WARN DAGScheduler: Broadcasting large task binary with size 1654.3 KiB\n",
      "25/05/05 20:54:07 WARN DAGScheduler: Broadcasting large task binary with size 1653.1 KiB\n",
      "25/05/05 20:54:07 WARN DAGScheduler: Broadcasting large task binary with size 1654.3 KiB\n",
      "25/05/05 20:54:07 WARN DAGScheduler: Broadcasting large task binary with size 1653.1 KiB\n",
      "25/05/05 20:54:07 WARN DAGScheduler: Broadcasting large task binary with size 1654.3 KiB\n",
      "25/05/05 20:54:07 WARN DAGScheduler: Broadcasting large task binary with size 1653.1 KiB\n",
      "25/05/05 20:54:07 WARN DAGScheduler: Broadcasting large task binary with size 1654.3 KiB\n",
      "25/05/05 20:54:07 WARN DAGScheduler: Broadcasting large task binary with size 1653.1 KiB\n",
      "25/05/05 20:54:08 WARN DAGScheduler: Broadcasting large task binary with size 1654.3 KiB\n",
      "25/05/05 20:54:08 WARN DAGScheduler: Broadcasting large task binary with size 1653.1 KiB\n",
      "25/05/05 20:54:08 WARN DAGScheduler: Broadcasting large task binary with size 1654.3 KiB\n",
      "25/05/05 20:54:08 WARN DAGScheduler: Broadcasting large task binary with size 1653.1 KiB\n",
      "25/05/05 20:54:08 WARN DAGScheduler: Broadcasting large task binary with size 1654.3 KiB\n",
      "25/05/05 20:54:08 WARN DAGScheduler: Broadcasting large task binary with size 1653.1 KiB\n",
      "25/05/05 20:54:08 WARN DAGScheduler: Broadcasting large task binary with size 1654.3 KiB\n",
      "25/05/05 20:54:08 WARN DAGScheduler: Broadcasting large task binary with size 1654.3 KiB\n",
      "25/05/05 20:54:08 WARN DAGScheduler: Broadcasting large task binary with size 1695.4 KiB\n",
      "25/05/05 20:54:09 WARN DAGScheduler: Broadcasting large task binary with size 1653.1 KiB\n",
      "25/05/05 20:54:09 WARN DAGScheduler: Broadcasting large task binary with size 1654.3 KiB\n",
      "25/05/05 20:54:09 WARN DAGScheduler: Broadcasting large task binary with size 1653.1 KiB\n",
      "25/05/05 20:54:09 WARN DAGScheduler: Broadcasting large task binary with size 1696.6 KiB\n",
      "25/05/05 20:54:09 WARN DAGScheduler: Broadcasting large task binary with size 1654.3 KiB\n",
      "25/05/05 20:54:09 WARN DAGScheduler: Broadcasting large task binary with size 1698.3 KiB\n",
      "25/05/05 20:54:09 WARN DAGScheduler: Broadcasting large task binary with size 1653.1 KiB\n",
      "25/05/05 20:54:09 WARN DAGScheduler: Broadcasting large task binary with size 1654.3 KiB\n",
      "25/05/05 20:54:10 WARN DAGScheduler: Broadcasting large task binary with size 1653.1 KiB\n",
      "25/05/05 20:54:10 WARN DAGScheduler: Broadcasting large task binary with size 1699.5 KiB\n",
      "25/05/05 20:54:10 WARN DAGScheduler: Broadcasting large task binary with size 1654.3 KiB\n",
      "25/05/05 20:54:10 WARN DAGScheduler: Broadcasting large task binary with size 1653.1 KiB\n",
      "25/05/05 20:54:10 WARN DAGScheduler: Broadcasting large task binary with size 1654.3 KiB\n",
      "25/05/05 20:54:10 WARN DAGScheduler: Broadcasting large task binary with size 1654.3 KiB\n",
      "25/05/05 20:54:10 WARN DAGScheduler: Broadcasting large task binary with size 1694.9 KiB\n",
      "25/05/05 20:54:11 WARN DAGScheduler: Broadcasting large task binary with size 1684.7 KiB\n",
      "25/05/05 20:54:11 WARN DAGScheduler: Broadcasting large task binary with size 1696.0 KiB\n",
      "25/05/05 20:54:11 WARN DAGScheduler: Broadcasting large task binary with size 1697.8 KiB\n",
      "25/05/05 20:54:11 WARN DAGScheduler: Broadcasting large task binary with size 1685.8 KiB\n",
      "25/05/05 20:54:11 WARN DAGScheduler: Broadcasting large task binary with size 1698.9 KiB\n",
      "25/05/05 20:54:11 WARN DAGScheduler: Broadcasting large task binary with size 1687.6 KiB\n",
      "25/05/05 20:54:12 WARN DAGScheduler: Broadcasting large task binary with size 1688.7 KiB\n",
      "25/05/05 20:54:12 WARN DAGScheduler: Broadcasting large task binary with size 1608.5 KiB\n",
      "25/05/05 20:54:12 WARN DAGScheduler: Broadcasting large task binary with size 1608.5 KiB\n",
      "25/05/05 20:54:12 WARN DAGScheduler: Broadcasting large task binary with size 1608.5 KiB\n",
      "25/05/05 20:54:12 WARN DAGScheduler: Broadcasting large task binary with size 1608.5 KiB\n",
      "25/05/05 20:54:12 WARN DAGScheduler: Broadcasting large task binary with size 1652.3 KiB\n",
      "25/05/05 20:54:12 WARN DAGScheduler: Broadcasting large task binary with size 1652.3 KiB\n",
      "25/05/05 20:54:13 WARN DAGScheduler: Broadcasting large task binary with size 1652.3 KiB\n",
      "25/05/05 20:54:13 WARN DAGScheduler: Broadcasting large task binary with size 1652.3 KiB\n",
      "25/05/05 20:54:13 WARN DAGScheduler: Broadcasting large task binary with size 1653.5 KiB\n",
      "25/05/05 20:54:13 WARN DAGScheduler: Broadcasting large task binary with size 1653.1 KiB\n",
      "25/05/05 20:54:13 WARN DAGScheduler: Broadcasting large task binary with size 1653.5 KiB\n",
      "25/05/05 20:54:13 WARN DAGScheduler: Broadcasting large task binary with size 1653.1 KiB\n",
      "25/05/05 20:54:13 WARN DAGScheduler: Broadcasting large task binary with size 1653.5 KiB\n",
      "25/05/05 20:54:14 WARN DAGScheduler: Broadcasting large task binary with size 1653.1 KiB\n",
      "25/05/05 20:54:14 WARN DAGScheduler: Broadcasting large task binary with size 1653.5 KiB\n",
      "25/05/05 20:54:14 WARN DAGScheduler: Broadcasting large task binary with size 1653.1 KiB\n",
      "25/05/05 20:54:14 WARN DAGScheduler: Broadcasting large task binary with size 1654.3 KiB\n",
      "25/05/05 20:54:14 WARN DAGScheduler: Broadcasting large task binary with size 1653.1 KiB\n",
      "25/05/05 20:54:14 WARN DAGScheduler: Broadcasting large task binary with size 1654.3 KiB\n",
      "25/05/05 20:54:14 WARN DAGScheduler: Broadcasting large task binary with size 1653.1 KiB\n",
      "25/05/05 20:54:15 WARN DAGScheduler: Broadcasting large task binary with size 1654.3 KiB\n",
      "25/05/05 20:54:15 WARN DAGScheduler: Broadcasting large task binary with size 1653.1 KiB\n",
      "25/05/05 20:54:15 WARN DAGScheduler: Broadcasting large task binary with size 1654.3 KiB\n",
      "25/05/05 20:54:15 WARN DAGScheduler: Broadcasting large task binary with size 1653.1 KiB\n",
      "25/05/05 20:54:15 WARN DAGScheduler: Broadcasting large task binary with size 1654.3 KiB\n",
      "25/05/05 20:54:15 WARN DAGScheduler: Broadcasting large task binary with size 1653.1 KiB\n",
      "25/05/05 20:54:15 WARN DAGScheduler: Broadcasting large task binary with size 1654.3 KiB\n",
      "25/05/05 20:54:16 WARN DAGScheduler: Broadcasting large task binary with size 1653.1 KiB\n",
      "25/05/05 20:54:16 WARN DAGScheduler: Broadcasting large task binary with size 1654.3 KiB\n",
      "25/05/05 20:54:16 WARN DAGScheduler: Broadcasting large task binary with size 1653.1 KiB\n",
      "25/05/05 20:54:16 WARN DAGScheduler: Broadcasting large task binary with size 1654.3 KiB\n",
      "25/05/05 20:54:16 WARN DAGScheduler: Broadcasting large task binary with size 1653.1 KiB\n",
      "25/05/05 20:54:16 WARN DAGScheduler: Broadcasting large task binary with size 1654.3 KiB\n",
      "25/05/05 20:54:16 WARN DAGScheduler: Broadcasting large task binary with size 1653.1 KiB\n",
      "25/05/05 20:54:16 WARN DAGScheduler: Broadcasting large task binary with size 1654.3 KiB\n",
      "25/05/05 20:54:16 WARN DAGScheduler: Broadcasting large task binary with size 1653.1 KiB\n",
      "25/05/05 20:54:17 WARN DAGScheduler: Broadcasting large task binary with size 1654.3 KiB\n",
      "25/05/05 20:54:17 WARN DAGScheduler: Broadcasting large task binary with size 1653.1 KiB\n",
      "25/05/05 20:54:17 WARN DAGScheduler: Broadcasting large task binary with size 1654.3 KiB\n",
      "25/05/05 20:54:17 WARN DAGScheduler: Broadcasting large task binary with size 1653.1 KiB\n",
      "25/05/05 20:54:17 WARN DAGScheduler: Broadcasting large task binary with size 1654.3 KiB\n",
      "25/05/05 20:54:17 WARN DAGScheduler: Broadcasting large task binary with size 1653.1 KiB\n",
      "25/05/05 20:54:17 WARN DAGScheduler: Broadcasting large task binary with size 1654.3 KiB\n",
      "25/05/05 20:54:17 WARN DAGScheduler: Broadcasting large task binary with size 1653.1 KiB\n",
      "25/05/05 20:54:17 WARN DAGScheduler: Broadcasting large task binary with size 1654.3 KiB\n",
      "25/05/05 20:54:18 WARN DAGScheduler: Broadcasting large task binary with size 1653.1 KiB\n",
      "25/05/05 20:54:18 WARN DAGScheduler: Broadcasting large task binary with size 1654.3 KiB\n",
      "25/05/05 20:54:18 WARN DAGScheduler: Broadcasting large task binary with size 1653.1 KiB\n",
      "25/05/05 20:54:18 WARN DAGScheduler: Broadcasting large task binary with size 1654.3 KiB\n",
      "25/05/05 20:54:18 WARN DAGScheduler: Broadcasting large task binary with size 1653.1 KiB\n",
      "25/05/05 20:54:18 WARN DAGScheduler: Broadcasting large task binary with size 1654.3 KiB\n",
      "25/05/05 20:54:18 WARN DAGScheduler: Broadcasting large task binary with size 1653.1 KiB\n",
      "25/05/05 20:54:18 WARN DAGScheduler: Broadcasting large task binary with size 1654.3 KiB\n",
      "25/05/05 20:54:18 WARN DAGScheduler: Broadcasting large task binary with size 1653.1 KiB\n",
      "25/05/05 20:54:18 WARN DAGScheduler: Broadcasting large task binary with size 1654.3 KiB\n",
      "25/05/05 20:54:19 WARN DAGScheduler: Broadcasting large task binary with size 1653.1 KiB\n",
      "25/05/05 20:54:19 WARN DAGScheduler: Broadcasting large task binary with size 1654.3 KiB\n",
      "25/05/05 20:54:19 WARN DAGScheduler: Broadcasting large task binary with size 1653.1 KiB\n",
      "25/05/05 20:54:19 WARN DAGScheduler: Broadcasting large task binary with size 1654.3 KiB\n",
      "25/05/05 20:54:19 WARN DAGScheduler: Broadcasting large task binary with size 1653.1 KiB\n",
      "25/05/05 20:54:19 WARN DAGScheduler: Broadcasting large task binary with size 1654.3 KiB\n",
      "25/05/05 20:54:19 WARN DAGScheduler: Broadcasting large task binary with size 1653.1 KiB\n",
      "25/05/05 20:54:19 WARN DAGScheduler: Broadcasting large task binary with size 1654.3 KiB\n",
      "25/05/05 20:54:20 WARN DAGScheduler: Broadcasting large task binary with size 1653.1 KiB\n",
      "25/05/05 20:54:20 WARN DAGScheduler: Broadcasting large task binary with size 1654.3 KiB\n",
      "25/05/05 20:54:20 WARN DAGScheduler: Broadcasting large task binary with size 1653.1 KiB\n",
      "25/05/05 20:54:20 WARN DAGScheduler: Broadcasting large task binary with size 1654.3 KiB\n",
      "25/05/05 20:54:20 WARN DAGScheduler: Broadcasting large task binary with size 1653.1 KiB\n",
      "25/05/05 20:54:20 WARN DAGScheduler: Broadcasting large task binary with size 1654.3 KiB\n",
      "25/05/05 20:54:20 WARN DAGScheduler: Broadcasting large task binary with size 1653.1 KiB\n",
      "25/05/05 20:54:20 WARN DAGScheduler: Broadcasting large task binary with size 1654.3 KiB\n",
      "25/05/05 20:54:20 WARN DAGScheduler: Broadcasting large task binary with size 1653.1 KiB\n",
      "25/05/05 20:54:20 WARN DAGScheduler: Broadcasting large task binary with size 1654.3 KiB\n",
      "25/05/05 20:54:21 WARN DAGScheduler: Broadcasting large task binary with size 1653.1 KiB\n",
      "25/05/05 20:54:21 WARN DAGScheduler: Broadcasting large task binary with size 1654.3 KiB\n",
      "25/05/05 20:54:21 WARN DAGScheduler: Broadcasting large task binary with size 1653.1 KiB\n",
      "25/05/05 20:54:21 WARN DAGScheduler: Broadcasting large task binary with size 1654.3 KiB\n",
      "25/05/05 20:54:21 WARN DAGScheduler: Broadcasting large task binary with size 1653.1 KiB\n",
      "25/05/05 20:54:21 WARN DAGScheduler: Broadcasting large task binary with size 1654.3 KiB\n",
      "25/05/05 20:54:21 WARN DAGScheduler: Broadcasting large task binary with size 1653.1 KiB\n",
      "25/05/05 20:54:21 WARN DAGScheduler: Broadcasting large task binary with size 1654.3 KiB\n",
      "25/05/05 20:54:21 WARN DAGScheduler: Broadcasting large task binary with size 1653.1 KiB\n",
      "25/05/05 20:54:21 WARN DAGScheduler: Broadcasting large task binary with size 1654.3 KiB\n",
      "25/05/05 20:54:22 WARN DAGScheduler: Broadcasting large task binary with size 1653.1 KiB\n",
      "25/05/05 20:54:22 WARN DAGScheduler: Broadcasting large task binary with size 1654.3 KiB\n",
      "25/05/05 20:54:22 WARN DAGScheduler: Broadcasting large task binary with size 1653.1 KiB\n",
      "25/05/05 20:54:22 WARN DAGScheduler: Broadcasting large task binary with size 1654.3 KiB\n",
      "25/05/05 20:54:22 WARN DAGScheduler: Broadcasting large task binary with size 1653.1 KiB\n",
      "25/05/05 20:54:22 WARN DAGScheduler: Broadcasting large task binary with size 1654.3 KiB\n",
      "25/05/05 20:54:22 WARN DAGScheduler: Broadcasting large task binary with size 1653.1 KiB\n",
      "25/05/05 20:54:22 WARN DAGScheduler: Broadcasting large task binary with size 1654.3 KiB\n",
      "25/05/05 20:54:22 WARN DAGScheduler: Broadcasting large task binary with size 1653.1 KiB\n",
      "25/05/05 20:54:23 WARN DAGScheduler: Broadcasting large task binary with size 1654.3 KiB\n",
      "25/05/05 20:54:23 WARN DAGScheduler: Broadcasting large task binary with size 1653.1 KiB\n",
      "25/05/05 20:54:23 WARN DAGScheduler: Broadcasting large task binary with size 1654.3 KiB\n",
      "25/05/05 20:54:23 WARN DAGScheduler: Broadcasting large task binary with size 1653.1 KiB\n",
      "25/05/05 20:54:23 WARN DAGScheduler: Broadcasting large task binary with size 1654.3 KiB\n",
      "25/05/05 20:54:23 WARN DAGScheduler: Broadcasting large task binary with size 1653.1 KiB\n",
      "25/05/05 20:54:23 WARN DAGScheduler: Broadcasting large task binary with size 1654.3 KiB\n",
      "25/05/05 20:54:23 WARN DAGScheduler: Broadcasting large task binary with size 1653.1 KiB\n",
      "25/05/05 20:54:23 WARN DAGScheduler: Broadcasting large task binary with size 1654.3 KiB\n",
      "25/05/05 20:54:24 WARN DAGScheduler: Broadcasting large task binary with size 1653.1 KiB\n",
      "25/05/05 20:54:24 WARN DAGScheduler: Broadcasting large task binary with size 1654.3 KiB\n",
      "25/05/05 20:54:24 WARN DAGScheduler: Broadcasting large task binary with size 1653.1 KiB\n",
      "25/05/05 20:54:24 WARN DAGScheduler: Broadcasting large task binary with size 1654.3 KiB\n",
      "25/05/05 20:54:24 WARN DAGScheduler: Broadcasting large task binary with size 1653.1 KiB\n",
      "25/05/05 20:54:24 WARN DAGScheduler: Broadcasting large task binary with size 1654.3 KiB\n",
      "25/05/05 20:54:24 WARN DAGScheduler: Broadcasting large task binary with size 1653.1 KiB\n",
      "25/05/05 20:54:24 WARN DAGScheduler: Broadcasting large task binary with size 1654.3 KiB\n",
      "25/05/05 20:54:24 WARN DAGScheduler: Broadcasting large task binary with size 1653.1 KiB\n",
      "25/05/05 20:54:25 WARN DAGScheduler: Broadcasting large task binary with size 1654.3 KiB\n",
      "25/05/05 20:54:25 WARN DAGScheduler: Broadcasting large task binary with size 1653.1 KiB\n",
      "25/05/05 20:54:25 WARN DAGScheduler: Broadcasting large task binary with size 1654.3 KiB\n",
      "25/05/05 20:54:25 WARN DAGScheduler: Broadcasting large task binary with size 1653.1 KiB\n",
      "25/05/05 20:54:25 WARN DAGScheduler: Broadcasting large task binary with size 1654.3 KiB\n",
      "25/05/05 20:54:25 WARN DAGScheduler: Broadcasting large task binary with size 1653.1 KiB\n",
      "25/05/05 20:54:25 WARN DAGScheduler: Broadcasting large task binary with size 1654.3 KiB\n",
      "25/05/05 20:54:25 WARN DAGScheduler: Broadcasting large task binary with size 1653.1 KiB\n",
      "25/05/05 20:54:25 WARN DAGScheduler: Broadcasting large task binary with size 1654.3 KiB\n",
      "25/05/05 20:54:26 WARN DAGScheduler: Broadcasting large task binary with size 1653.1 KiB\n",
      "25/05/05 20:54:26 WARN DAGScheduler: Broadcasting large task binary with size 1654.3 KiB\n",
      "25/05/05 20:54:26 WARN DAGScheduler: Broadcasting large task binary with size 1653.1 KiB\n",
      "25/05/05 20:54:26 WARN DAGScheduler: Broadcasting large task binary with size 1654.3 KiB\n",
      "25/05/05 20:54:26 WARN DAGScheduler: Broadcasting large task binary with size 1653.1 KiB\n",
      "25/05/05 20:54:26 WARN DAGScheduler: Broadcasting large task binary with size 1654.3 KiB\n",
      "25/05/05 20:54:26 WARN DAGScheduler: Broadcasting large task binary with size 1653.1 KiB\n",
      "25/05/05 20:54:26 WARN DAGScheduler: Broadcasting large task binary with size 1654.3 KiB\n",
      "25/05/05 20:54:26 WARN DAGScheduler: Broadcasting large task binary with size 1653.1 KiB\n",
      "25/05/05 20:54:26 WARN DAGScheduler: Broadcasting large task binary with size 1654.3 KiB\n",
      "25/05/05 20:54:27 WARN DAGScheduler: Broadcasting large task binary with size 1653.1 KiB\n",
      "25/05/05 20:54:27 WARN DAGScheduler: Broadcasting large task binary with size 1654.3 KiB\n",
      "25/05/05 20:54:27 WARN DAGScheduler: Broadcasting large task binary with size 1653.1 KiB\n",
      "25/05/05 20:54:27 WARN DAGScheduler: Broadcasting large task binary with size 1654.3 KiB\n",
      "25/05/05 20:54:27 WARN DAGScheduler: Broadcasting large task binary with size 1653.1 KiB\n",
      "25/05/05 20:54:27 WARN DAGScheduler: Broadcasting large task binary with size 1654.3 KiB\n",
      "25/05/05 20:54:27 WARN DAGScheduler: Broadcasting large task binary with size 1653.1 KiB\n",
      "25/05/05 20:54:27 WARN DAGScheduler: Broadcasting large task binary with size 1654.3 KiB\n",
      "25/05/05 20:54:27 WARN DAGScheduler: Broadcasting large task binary with size 1653.1 KiB\n",
      "25/05/05 20:54:28 WARN DAGScheduler: Broadcasting large task binary with size 1654.3 KiB\n",
      "25/05/05 20:54:28 WARN DAGScheduler: Broadcasting large task binary with size 1653.1 KiB\n",
      "25/05/05 20:54:28 WARN DAGScheduler: Broadcasting large task binary with size 1654.3 KiB\n",
      "25/05/05 20:54:28 WARN DAGScheduler: Broadcasting large task binary with size 1653.1 KiB\n",
      "25/05/05 20:54:28 WARN DAGScheduler: Broadcasting large task binary with size 1654.3 KiB\n",
      "25/05/05 20:54:28 WARN DAGScheduler: Broadcasting large task binary with size 1653.1 KiB\n",
      "25/05/05 20:54:28 WARN DAGScheduler: Broadcasting large task binary with size 1654.3 KiB\n",
      "25/05/05 20:54:28 WARN DAGScheduler: Broadcasting large task binary with size 1653.1 KiB\n",
      "25/05/05 20:54:28 WARN DAGScheduler: Broadcasting large task binary with size 1654.3 KiB\n",
      "25/05/05 20:54:29 WARN DAGScheduler: Broadcasting large task binary with size 1653.1 KiB\n",
      "25/05/05 20:54:29 WARN DAGScheduler: Broadcasting large task binary with size 1654.3 KiB\n",
      "25/05/05 20:54:29 WARN DAGScheduler: Broadcasting large task binary with size 1653.1 KiB\n",
      "25/05/05 20:54:29 WARN DAGScheduler: Broadcasting large task binary with size 1654.3 KiB\n",
      "25/05/05 20:54:29 WARN DAGScheduler: Broadcasting large task binary with size 1653.1 KiB\n",
      "25/05/05 20:54:29 WARN DAGScheduler: Broadcasting large task binary with size 1654.3 KiB\n",
      "25/05/05 20:54:29 WARN DAGScheduler: Broadcasting large task binary with size 1653.1 KiB\n",
      "25/05/05 20:54:29 WARN DAGScheduler: Broadcasting large task binary with size 1654.3 KiB\n",
      "25/05/05 20:54:29 WARN DAGScheduler: Broadcasting large task binary with size 1653.1 KiB\n",
      "25/05/05 20:54:29 WARN DAGScheduler: Broadcasting large task binary with size 1654.3 KiB\n",
      "25/05/05 20:54:30 WARN DAGScheduler: Broadcasting large task binary with size 1653.1 KiB\n",
      "25/05/05 20:54:30 WARN DAGScheduler: Broadcasting large task binary with size 1654.3 KiB\n",
      "25/05/05 20:54:30 WARN DAGScheduler: Broadcasting large task binary with size 1653.1 KiB\n",
      "25/05/05 20:54:30 WARN DAGScheduler: Broadcasting large task binary with size 1654.3 KiB\n",
      "25/05/05 20:54:30 WARN DAGScheduler: Broadcasting large task binary with size 1653.1 KiB\n",
      "25/05/05 20:54:30 WARN DAGScheduler: Broadcasting large task binary with size 1654.3 KiB\n",
      "25/05/05 20:54:30 WARN DAGScheduler: Broadcasting large task binary with size 1653.1 KiB\n",
      "25/05/05 20:54:30 WARN DAGScheduler: Broadcasting large task binary with size 1654.3 KiB\n",
      "25/05/05 20:54:31 WARN DAGScheduler: Broadcasting large task binary with size 1653.1 KiB\n",
      "25/05/05 20:54:31 WARN DAGScheduler: Broadcasting large task binary with size 1654.3 KiB\n",
      "25/05/05 20:54:31 WARN DAGScheduler: Broadcasting large task binary with size 1653.1 KiB\n",
      "25/05/05 20:54:31 WARN DAGScheduler: Broadcasting large task binary with size 1654.3 KiB\n",
      "25/05/05 20:54:31 WARN DAGScheduler: Broadcasting large task binary with size 1653.1 KiB\n",
      "25/05/05 20:54:31 WARN DAGScheduler: Broadcasting large task binary with size 1654.3 KiB\n",
      "25/05/05 20:54:31 WARN DAGScheduler: Broadcasting large task binary with size 1653.1 KiB\n",
      "25/05/05 20:54:31 WARN DAGScheduler: Broadcasting large task binary with size 1654.3 KiB\n",
      "25/05/05 20:54:31 WARN DAGScheduler: Broadcasting large task binary with size 1653.1 KiB\n",
      "25/05/05 20:54:31 WARN DAGScheduler: Broadcasting large task binary with size 1654.3 KiB\n",
      "25/05/05 20:54:32 WARN DAGScheduler: Broadcasting large task binary with size 1653.1 KiB\n",
      "25/05/05 20:54:32 WARN DAGScheduler: Broadcasting large task binary with size 1654.3 KiB\n",
      "25/05/05 20:54:32 WARN DAGScheduler: Broadcasting large task binary with size 1653.1 KiB\n",
      "25/05/05 20:54:32 WARN DAGScheduler: Broadcasting large task binary with size 1654.3 KiB\n",
      "25/05/05 20:54:32 WARN DAGScheduler: Broadcasting large task binary with size 1653.1 KiB\n",
      "25/05/05 20:54:32 WARN DAGScheduler: Broadcasting large task binary with size 1654.3 KiB\n",
      "25/05/05 20:54:32 WARN DAGScheduler: Broadcasting large task binary with size 1653.1 KiB\n",
      "25/05/05 20:54:32 WARN DAGScheduler: Broadcasting large task binary with size 1654.3 KiB\n",
      "25/05/05 20:54:33 WARN DAGScheduler: Broadcasting large task binary with size 1653.1 KiB\n",
      "25/05/05 20:54:33 WARN DAGScheduler: Broadcasting large task binary with size 1654.3 KiB\n",
      "25/05/05 20:54:33 WARN DAGScheduler: Broadcasting large task binary with size 1653.1 KiB\n",
      "25/05/05 20:54:33 WARN DAGScheduler: Broadcasting large task binary with size 1654.3 KiB\n",
      "25/05/05 20:54:33 WARN DAGScheduler: Broadcasting large task binary with size 1653.1 KiB\n",
      "25/05/05 20:54:33 WARN DAGScheduler: Broadcasting large task binary with size 1654.3 KiB\n",
      "25/05/05 20:54:33 WARN DAGScheduler: Broadcasting large task binary with size 1653.1 KiB\n",
      "25/05/05 20:54:33 WARN DAGScheduler: Broadcasting large task binary with size 1654.3 KiB\n",
      "25/05/05 20:54:33 WARN DAGScheduler: Broadcasting large task binary with size 1653.1 KiB\n",
      "25/05/05 20:54:33 WARN DAGScheduler: Broadcasting large task binary with size 1654.3 KiB\n",
      "25/05/05 20:54:34 WARN DAGScheduler: Broadcasting large task binary with size 1653.1 KiB\n",
      "25/05/05 20:54:34 WARN DAGScheduler: Broadcasting large task binary with size 1654.3 KiB\n",
      "25/05/05 20:54:34 WARN DAGScheduler: Broadcasting large task binary with size 1653.1 KiB\n",
      "25/05/05 20:54:34 WARN DAGScheduler: Broadcasting large task binary with size 1654.3 KiB\n",
      "25/05/05 20:54:34 WARN DAGScheduler: Broadcasting large task binary with size 1653.1 KiB\n",
      "25/05/05 20:54:34 WARN DAGScheduler: Broadcasting large task binary with size 1654.3 KiB\n",
      "25/05/05 20:54:34 WARN DAGScheduler: Broadcasting large task binary with size 1653.1 KiB\n",
      "25/05/05 20:54:34 WARN DAGScheduler: Broadcasting large task binary with size 1654.3 KiB\n",
      "25/05/05 20:54:35 WARN DAGScheduler: Broadcasting large task binary with size 1653.1 KiB\n",
      "25/05/05 20:54:35 WARN DAGScheduler: Broadcasting large task binary with size 1654.3 KiB\n",
      "25/05/05 20:54:35 WARN DAGScheduler: Broadcasting large task binary with size 1653.1 KiB\n",
      "25/05/05 20:54:35 WARN DAGScheduler: Broadcasting large task binary with size 1654.3 KiB\n",
      "25/05/05 20:54:35 WARN DAGScheduler: Broadcasting large task binary with size 1653.1 KiB\n",
      "25/05/05 20:54:35 WARN DAGScheduler: Broadcasting large task binary with size 1654.3 KiB\n",
      "25/05/05 20:54:35 WARN DAGScheduler: Broadcasting large task binary with size 1653.1 KiB\n",
      "25/05/05 20:54:35 WARN DAGScheduler: Broadcasting large task binary with size 1654.3 KiB\n",
      "25/05/05 20:54:36 WARN DAGScheduler: Broadcasting large task binary with size 1653.1 KiB\n",
      "25/05/05 20:54:36 WARN DAGScheduler: Broadcasting large task binary with size 1654.3 KiB\n",
      "25/05/05 20:54:36 WARN DAGScheduler: Broadcasting large task binary with size 1653.1 KiB\n",
      "25/05/05 20:54:36 WARN DAGScheduler: Broadcasting large task binary with size 1654.3 KiB\n",
      "25/05/05 20:54:36 WARN DAGScheduler: Broadcasting large task binary with size 1653.1 KiB\n",
      "25/05/05 20:54:36 WARN DAGScheduler: Broadcasting large task binary with size 1654.3 KiB\n",
      "25/05/05 20:54:36 WARN DAGScheduler: Broadcasting large task binary with size 1653.1 KiB\n",
      "25/05/05 20:54:36 WARN DAGScheduler: Broadcasting large task binary with size 1654.3 KiB\n",
      "25/05/05 20:54:36 WARN DAGScheduler: Broadcasting large task binary with size 1653.1 KiB\n",
      "25/05/05 20:54:36 WARN DAGScheduler: Broadcasting large task binary with size 1654.3 KiB\n",
      "25/05/05 20:54:37 WARN DAGScheduler: Broadcasting large task binary with size 1653.1 KiB\n",
      "25/05/05 20:54:37 WARN DAGScheduler: Broadcasting large task binary with size 1654.3 KiB\n",
      "25/05/05 20:54:37 WARN DAGScheduler: Broadcasting large task binary with size 1653.1 KiB\n",
      "25/05/05 20:54:37 WARN DAGScheduler: Broadcasting large task binary with size 1654.3 KiB\n",
      "25/05/05 20:54:37 WARN DAGScheduler: Broadcasting large task binary with size 1653.1 KiB\n",
      "25/05/05 20:54:37 WARN DAGScheduler: Broadcasting large task binary with size 1654.3 KiB\n",
      "25/05/05 20:54:37 WARN DAGScheduler: Broadcasting large task binary with size 1653.1 KiB\n",
      "25/05/05 20:54:37 WARN DAGScheduler: Broadcasting large task binary with size 1654.3 KiB\n",
      "25/05/05 20:54:38 WARN DAGScheduler: Broadcasting large task binary with size 1653.1 KiB\n",
      "25/05/05 20:54:38 WARN DAGScheduler: Broadcasting large task binary with size 1654.3 KiB\n",
      "25/05/05 20:54:38 WARN DAGScheduler: Broadcasting large task binary with size 1653.1 KiB\n",
      "25/05/05 20:54:38 WARN DAGScheduler: Broadcasting large task binary with size 1654.3 KiB\n",
      "25/05/05 20:54:38 WARN DAGScheduler: Broadcasting large task binary with size 1653.1 KiB\n",
      "25/05/05 20:54:38 WARN DAGScheduler: Broadcasting large task binary with size 1654.3 KiB\n",
      "25/05/05 20:54:38 WARN DAGScheduler: Broadcasting large task binary with size 1653.1 KiB\n",
      "25/05/05 20:54:38 WARN DAGScheduler: Broadcasting large task binary with size 1654.3 KiB\n",
      "25/05/05 20:54:38 WARN DAGScheduler: Broadcasting large task binary with size 1653.1 KiB\n",
      "25/05/05 20:54:38 WARN DAGScheduler: Broadcasting large task binary with size 1654.3 KiB\n",
      "25/05/05 20:54:39 WARN DAGScheduler: Broadcasting large task binary with size 1653.1 KiB\n",
      "25/05/05 20:54:39 WARN DAGScheduler: Broadcasting large task binary with size 1654.3 KiB\n",
      "25/05/05 20:54:39 WARN DAGScheduler: Broadcasting large task binary with size 1653.1 KiB\n",
      "25/05/05 20:54:39 WARN DAGScheduler: Broadcasting large task binary with size 1654.3 KiB\n",
      "25/05/05 20:54:39 WARN DAGScheduler: Broadcasting large task binary with size 1653.1 KiB\n",
      "25/05/05 20:54:39 WARN DAGScheduler: Broadcasting large task binary with size 1654.3 KiB\n",
      "25/05/05 20:54:39 WARN DAGScheduler: Broadcasting large task binary with size 1653.1 KiB\n",
      "25/05/05 20:54:39 WARN DAGScheduler: Broadcasting large task binary with size 1654.3 KiB\n",
      "25/05/05 20:54:39 WARN DAGScheduler: Broadcasting large task binary with size 1653.1 KiB\n",
      "25/05/05 20:54:39 WARN DAGScheduler: Broadcasting large task binary with size 1654.3 KiB\n",
      "25/05/05 20:54:40 WARN DAGScheduler: Broadcasting large task binary with size 1653.1 KiB\n",
      "25/05/05 20:54:40 WARN DAGScheduler: Broadcasting large task binary with size 1654.3 KiB\n",
      "25/05/05 20:54:40 WARN DAGScheduler: Broadcasting large task binary with size 1653.1 KiB\n",
      "25/05/05 20:54:40 WARN DAGScheduler: Broadcasting large task binary with size 1654.3 KiB\n",
      "25/05/05 20:54:40 WARN DAGScheduler: Broadcasting large task binary with size 1653.1 KiB\n",
      "25/05/05 20:54:40 WARN DAGScheduler: Broadcasting large task binary with size 1654.3 KiB\n",
      "25/05/05 20:54:40 WARN DAGScheduler: Broadcasting large task binary with size 1653.1 KiB\n",
      "25/05/05 20:54:40 WARN DAGScheduler: Broadcasting large task binary with size 1654.3 KiB\n",
      "25/05/05 20:54:41 WARN DAGScheduler: Broadcasting large task binary with size 1653.1 KiB\n",
      "25/05/05 20:54:41 WARN DAGScheduler: Broadcasting large task binary with size 1654.3 KiB\n",
      "25/05/05 20:54:41 WARN DAGScheduler: Broadcasting large task binary with size 1653.1 KiB\n",
      "25/05/05 20:54:41 WARN DAGScheduler: Broadcasting large task binary with size 1654.3 KiB\n",
      "25/05/05 20:54:41 WARN DAGScheduler: Broadcasting large task binary with size 1653.1 KiB\n",
      "25/05/05 20:54:41 WARN DAGScheduler: Broadcasting large task binary with size 1654.3 KiB\n",
      "25/05/05 20:54:41 WARN DAGScheduler: Broadcasting large task binary with size 1653.1 KiB\n",
      "25/05/05 20:54:41 WARN DAGScheduler: Broadcasting large task binary with size 1654.3 KiB\n",
      "25/05/05 20:54:42 WARN DAGScheduler: Broadcasting large task binary with size 1653.1 KiB\n",
      "25/05/05 20:54:42 WARN DAGScheduler: Broadcasting large task binary with size 1654.3 KiB\n",
      "25/05/05 20:54:42 WARN DAGScheduler: Broadcasting large task binary with size 1653.1 KiB\n",
      "25/05/05 20:54:42 WARN DAGScheduler: Broadcasting large task binary with size 1654.3 KiB\n",
      "25/05/05 20:54:42 WARN DAGScheduler: Broadcasting large task binary with size 1653.1 KiB\n",
      "25/05/05 20:54:42 WARN DAGScheduler: Broadcasting large task binary with size 1654.3 KiB\n",
      "25/05/05 20:54:42 WARN DAGScheduler: Broadcasting large task binary with size 1654.3 KiB\n",
      "25/05/05 20:54:42 WARN DAGScheduler: Broadcasting large task binary with size 1684.1 KiB\n",
      "25/05/05 20:54:42 WARN DAGScheduler: Broadcasting large task binary with size 1653.1 KiB\n",
      "25/05/05 20:54:43 WARN DAGScheduler: Broadcasting large task binary with size 1654.3 KiB\n",
      "25/05/05 20:54:43 WARN DAGScheduler: Broadcasting large task binary with size 1653.1 KiB\n",
      "25/05/05 20:54:43 WARN DAGScheduler: Broadcasting large task binary with size 1654.3 KiB\n",
      "25/05/05 20:54:43 WARN DAGScheduler: Broadcasting large task binary with size 1653.1 KiB\n",
      "25/05/05 20:54:43 WARN DAGScheduler: Broadcasting large task binary with size 1685.2 KiB\n",
      "25/05/05 20:54:43 WARN DAGScheduler: Broadcasting large task binary with size 1654.3 KiB\n",
      "25/05/05 20:54:43 WARN DAGScheduler: Broadcasting large task binary with size 1608.5 KiB\n",
      "25/05/05 20:54:43 WARN DAGScheduler: Broadcasting large task binary with size 1653.1 KiB\n",
      "25/05/05 20:54:43 WARN DAGScheduler: Broadcasting large task binary with size 1654.3 KiB\n",
      "25/05/05 20:54:44 WARN DAGScheduler: Broadcasting large task binary with size 1653.1 KiB\n",
      "25/05/05 20:54:44 WARN DAGScheduler: Broadcasting large task binary with size 1654.3 KiB\n",
      "25/05/05 20:54:44 WARN DAGScheduler: Broadcasting large task binary with size 1653.1 KiB\n",
      "25/05/05 20:54:44 WARN DAGScheduler: Broadcasting large task binary with size 1687.0 KiB\n",
      "25/05/05 20:54:44 WARN DAGScheduler: Broadcasting large task binary with size 1654.3 KiB\n",
      "25/05/05 20:54:44 WARN DAGScheduler: Broadcasting large task binary with size 1653.1 KiB\n",
      "25/05/05 20:54:44 WARN DAGScheduler: Broadcasting large task binary with size 1654.3 KiB\n",
      "25/05/05 20:54:44 WARN DAGScheduler: Broadcasting large task binary with size 1653.1 KiB\n",
      "25/05/05 20:54:44 WARN DAGScheduler: Broadcasting large task binary with size 1654.3 KiB\n",
      "25/05/05 20:54:45 WARN DAGScheduler: Broadcasting large task binary with size 1653.1 KiB\n",
      "25/05/05 20:54:45 WARN DAGScheduler: Broadcasting large task binary with size 1688.1 KiB\n",
      "25/05/05 20:54:45 WARN DAGScheduler: Broadcasting large task binary with size 1654.3 KiB\n",
      "25/05/05 20:54:45 WARN DAGScheduler: Broadcasting large task binary with size 1653.1 KiB\n",
      "25/05/05 20:54:45 WARN DAGScheduler: Broadcasting large task binary with size 1654.3 KiB\n",
      "25/05/05 20:54:45 WARN DAGScheduler: Broadcasting large task binary with size 1653.1 KiB\n",
      "25/05/05 20:54:45 WARN DAGScheduler: Broadcasting large task binary with size 1654.3 KiB\n",
      "25/05/05 20:54:46 WARN DAGScheduler: Broadcasting large task binary with size 1653.1 KiB\n",
      "25/05/05 20:54:46 WARN DAGScheduler: Broadcasting large task binary with size 1654.3 KiB\n",
      "25/05/05 20:54:46 WARN DAGScheduler: Broadcasting large task binary with size 1653.1 KiB\n",
      "25/05/05 20:54:46 WARN DAGScheduler: Broadcasting large task binary with size 1654.3 KiB\n",
      "25/05/05 20:54:46 WARN DAGScheduler: Broadcasting large task binary with size 1653.1 KiB\n",
      "25/05/05 20:54:46 WARN DAGScheduler: Broadcasting large task binary with size 1654.3 KiB\n",
      "25/05/05 20:54:46 WARN DAGScheduler: Broadcasting large task binary with size 1653.1 KiB\n",
      "25/05/05 20:54:46 WARN DAGScheduler: Broadcasting large task binary with size 1654.3 KiB\n",
      "25/05/05 20:54:46 WARN DAGScheduler: Broadcasting large task binary with size 1653.1 KiB\n",
      "25/05/05 20:54:46 WARN DAGScheduler: Broadcasting large task binary with size 1654.3 KiB\n",
      "25/05/05 20:54:47 WARN DAGScheduler: Broadcasting large task binary with size 1653.1 KiB\n",
      "25/05/05 20:54:47 WARN DAGScheduler: Broadcasting large task binary with size 1654.3 KiB\n",
      "25/05/05 20:54:47 WARN DAGScheduler: Broadcasting large task binary with size 1653.1 KiB\n",
      "25/05/05 20:54:47 WARN DAGScheduler: Broadcasting large task binary with size 1654.3 KiB\n",
      "25/05/05 20:54:47 WARN DAGScheduler: Broadcasting large task binary with size 1653.1 KiB\n",
      "25/05/05 20:54:47 WARN DAGScheduler: Broadcasting large task binary with size 1654.3 KiB\n",
      "25/05/05 20:54:47 WARN DAGScheduler: Broadcasting large task binary with size 1653.1 KiB\n",
      "25/05/05 20:54:47 WARN DAGScheduler: Broadcasting large task binary with size 1654.3 KiB\n",
      "25/05/05 20:54:47 WARN DAGScheduler: Broadcasting large task binary with size 1653.1 KiB\n",
      "25/05/05 20:54:47 WARN DAGScheduler: Broadcasting large task binary with size 1654.3 KiB\n",
      "25/05/05 20:54:48 WARN DAGScheduler: Broadcasting large task binary with size 1653.1 KiB\n",
      "25/05/05 20:54:48 WARN DAGScheduler: Broadcasting large task binary with size 1654.3 KiB\n",
      "25/05/05 20:54:48 WARN DAGScheduler: Broadcasting large task binary with size 1653.1 KiB\n",
      "25/05/05 20:54:48 WARN DAGScheduler: Broadcasting large task binary with size 1654.3 KiB\n",
      "25/05/05 20:54:48 WARN DAGScheduler: Broadcasting large task binary with size 1653.1 KiB\n",
      "25/05/05 20:54:48 WARN DAGScheduler: Broadcasting large task binary with size 1654.3 KiB\n",
      "25/05/05 20:54:48 WARN DAGScheduler: Broadcasting large task binary with size 1653.1 KiB\n",
      "25/05/05 20:54:48 WARN DAGScheduler: Broadcasting large task binary with size 1654.3 KiB\n",
      "25/05/05 20:54:49 WARN DAGScheduler: Broadcasting large task binary with size 1653.1 KiB\n",
      "25/05/05 20:54:49 WARN DAGScheduler: Broadcasting large task binary with size 1654.3 KiB\n",
      "25/05/05 20:54:49 WARN DAGScheduler: Broadcasting large task binary with size 1653.1 KiB\n",
      "25/05/05 20:54:49 WARN DAGScheduler: Broadcasting large task binary with size 1654.3 KiB\n",
      "25/05/05 20:54:49 WARN DAGScheduler: Broadcasting large task binary with size 1653.1 KiB\n",
      "25/05/05 20:54:49 WARN DAGScheduler: Broadcasting large task binary with size 1654.3 KiB\n",
      "25/05/05 20:54:49 WARN DAGScheduler: Broadcasting large task binary with size 1653.1 KiB\n",
      "25/05/05 20:54:49 WARN DAGScheduler: Broadcasting large task binary with size 1654.3 KiB\n",
      "25/05/05 20:54:50 WARN DAGScheduler: Broadcasting large task binary with size 1653.1 KiB\n",
      "25/05/05 20:54:50 WARN DAGScheduler: Broadcasting large task binary with size 1654.3 KiB\n",
      "25/05/05 20:54:50 WARN DAGScheduler: Broadcasting large task binary with size 1653.1 KiB\n",
      "25/05/05 20:54:50 WARN DAGScheduler: Broadcasting large task binary with size 1654.3 KiB\n",
      "25/05/05 20:54:50 WARN DAGScheduler: Broadcasting large task binary with size 1695.1 KiB\n",
      "25/05/05 20:54:50 WARN DAGScheduler: Broadcasting large task binary with size 1654.3 KiB\n",
      "25/05/05 20:54:50 WARN DAGScheduler: Broadcasting large task binary with size 1653.1 KiB\n",
      "25/05/05 20:54:50 WARN DAGScheduler: Broadcasting large task binary with size 1654.3 KiB\n",
      "25/05/05 20:54:50 WARN DAGScheduler: Broadcasting large task binary with size 1653.1 KiB\n",
      "25/05/05 20:54:50 WARN DAGScheduler: Broadcasting large task binary with size 1696.3 KiB\n",
      "25/05/05 20:54:51 WARN DAGScheduler: Broadcasting large task binary with size 1654.3 KiB\n",
      "25/05/05 20:54:51 WARN DAGScheduler: Broadcasting large task binary with size 1698.1 KiB\n",
      "25/05/05 20:54:51 WARN DAGScheduler: Broadcasting large task binary with size 1653.1 KiB\n",
      "25/05/05 20:54:51 WARN DAGScheduler: Broadcasting large task binary with size 1654.3 KiB\n",
      "25/05/05 20:54:51 WARN DAGScheduler: Broadcasting large task binary with size 1653.1 KiB\n",
      "25/05/05 20:54:51 WARN DAGScheduler: Broadcasting large task binary with size 1699.2 KiB\n",
      "25/05/05 20:54:51 WARN DAGScheduler: Broadcasting large task binary with size 1654.3 KiB\n",
      "25/05/05 20:54:51 WARN DAGScheduler: Broadcasting large task binary with size 1653.1 KiB\n",
      "25/05/05 20:54:52 WARN DAGScheduler: Broadcasting large task binary with size 1654.3 KiB\n",
      "25/05/05 20:54:52 WARN DAGScheduler: Broadcasting large task binary with size 1653.1 KiB\n",
      "25/05/05 20:54:52 WARN DAGScheduler: Broadcasting large task binary with size 1654.3 KiB\n",
      "25/05/05 20:54:52 WARN DAGScheduler: Broadcasting large task binary with size 1653.1 KiB\n",
      "25/05/05 20:54:52 WARN DAGScheduler: Broadcasting large task binary with size 1654.3 KiB\n",
      "25/05/05 20:54:52 WARN DAGScheduler: Broadcasting large task binary with size 1653.1 KiB\n",
      "25/05/05 20:54:52 WARN DAGScheduler: Broadcasting large task binary with size 1654.3 KiB\n",
      "25/05/05 20:54:52 WARN DAGScheduler: Broadcasting large task binary with size 1653.1 KiB\n",
      "25/05/05 20:54:52 WARN DAGScheduler: Broadcasting large task binary with size 1654.3 KiB\n",
      "25/05/05 20:54:53 WARN DAGScheduler: Broadcasting large task binary with size 1654.3 KiB\n",
      "25/05/05 20:54:53 WARN DAGScheduler: Broadcasting large task binary with size 1694.5 KiB\n",
      "25/05/05 20:54:53 WARN DAGScheduler: Broadcasting large task binary with size 1653.1 KiB\n",
      "25/05/05 20:54:53 WARN DAGScheduler: Broadcasting large task binary with size 1695.6 KiB\n",
      "25/05/05 20:54:53 WARN DAGScheduler: Broadcasting large task binary with size 1654.3 KiB\n",
      "25/05/05 20:54:53 WARN DAGScheduler: Broadcasting large task binary with size 1697.4 KiB\n",
      "25/05/05 20:54:53 WARN DAGScheduler: Broadcasting large task binary with size 1653.1 KiB\n",
      "25/05/05 20:54:54 WARN DAGScheduler: Broadcasting large task binary with size 1698.5 KiB\n",
      "25/05/05 20:54:54 WARN DAGScheduler: Broadcasting large task binary with size 1654.3 KiB\n",
      "25/05/05 20:54:54 WARN DAGScheduler: Broadcasting large task binary with size 1653.1 KiB\n",
      "25/05/05 20:54:54 WARN DAGScheduler: Broadcasting large task binary with size 1654.3 KiB\n",
      "25/05/05 20:54:55 WARN DAGScheduler: Broadcasting large task binary with size 1653.1 KiB\n",
      "25/05/05 20:54:55 WARN DAGScheduler: Broadcasting large task binary with size 1654.3 KiB\n",
      "25/05/05 20:54:55 WARN DAGScheduler: Broadcasting large task binary with size 1653.1 KiB\n",
      "25/05/05 20:54:55 WARN DAGScheduler: Broadcasting large task binary with size 1654.3 KiB\n",
      "25/05/05 20:54:55 WARN DAGScheduler: Broadcasting large task binary with size 1653.1 KiB\n",
      "25/05/05 20:54:55 WARN DAGScheduler: Broadcasting large task binary with size 1654.3 KiB\n",
      "25/05/05 20:54:56 WARN DAGScheduler: Broadcasting large task binary with size 1653.1 KiB\n",
      "25/05/05 20:54:56 WARN DAGScheduler: Broadcasting large task binary with size 1654.3 KiB\n",
      "25/05/05 20:54:56 WARN DAGScheduler: Broadcasting large task binary with size 1653.1 KiB\n",
      "25/05/05 20:54:56 WARN DAGScheduler: Broadcasting large task binary with size 1654.3 KiB\n",
      "25/05/05 20:54:56 WARN DAGScheduler: Broadcasting large task binary with size 1691.9 KiB\n",
      "25/05/05 20:54:57 WARN DAGScheduler: Broadcasting large task binary with size 1693.0 KiB\n",
      "25/05/05 20:54:57 WARN DAGScheduler: Broadcasting large task binary with size 1694.8 KiB\n",
      "25/05/05 20:54:57 WARN DAGScheduler: Broadcasting large task binary with size 1695.9 KiB\n",
      "25/05/05 20:54:57 WARN DAGScheduler: Broadcasting large task binary with size 1634.6 KiB\n",
      "25/05/05 20:54:58 WARN DAGScheduler: Broadcasting large task binary with size 1635.8 KiB\n",
      "25/05/05 20:54:58 WARN DAGScheduler: Broadcasting large task binary with size 1635.4 KiB\n",
      "25/05/05 20:54:58 WARN DAGScheduler: Broadcasting large task binary with size 1636.6 KiB\n",
      "25/05/05 20:54:58 WARN DAGScheduler: Broadcasting large task binary with size 1635.4 KiB\n",
      "25/05/05 20:54:58 WARN DAGScheduler: Broadcasting large task binary with size 1636.6 KiB\n",
      "25/05/05 20:54:59 WARN DAGScheduler: Broadcasting large task binary with size 1635.4 KiB\n",
      "25/05/05 20:54:59 WARN DAGScheduler: Broadcasting large task binary with size 1636.6 KiB\n",
      "25/05/05 20:54:59 WARN DAGScheduler: Broadcasting large task binary with size 1635.4 KiB\n",
      "25/05/05 20:54:59 WARN DAGScheduler: Broadcasting large task binary with size 1636.6 KiB\n",
      "25/05/05 20:54:59 WARN DAGScheduler: Broadcasting large task binary with size 1635.4 KiB\n",
      "25/05/05 20:55:00 WARN DAGScheduler: Broadcasting large task binary with size 1636.6 KiB\n",
      "25/05/05 20:55:00 WARN DAGScheduler: Broadcasting large task binary with size 1635.4 KiB\n",
      "25/05/05 20:55:00 WARN DAGScheduler: Broadcasting large task binary with size 1636.6 KiB\n",
      "25/05/05 20:55:00 WARN DAGScheduler: Broadcasting large task binary with size 1635.4 KiB\n",
      "25/05/05 20:55:00 WARN DAGScheduler: Broadcasting large task binary with size 1636.6 KiB\n",
      "25/05/05 20:55:00 WARN DAGScheduler: Broadcasting large task binary with size 1635.4 KiB\n",
      "25/05/05 20:55:01 WARN DAGScheduler: Broadcasting large task binary with size 1636.6 KiB\n",
      "25/05/05 20:55:01 WARN DAGScheduler: Broadcasting large task binary with size 1635.4 KiB\n",
      "25/05/05 20:55:01 WARN DAGScheduler: Broadcasting large task binary with size 1636.6 KiB\n",
      "25/05/05 20:55:01 WARN DAGScheduler: Broadcasting large task binary with size 1635.4 KiB\n",
      "25/05/05 20:55:01 WARN DAGScheduler: Broadcasting large task binary with size 1636.6 KiB\n",
      "25/05/05 20:55:02 WARN DAGScheduler: Broadcasting large task binary with size 1635.4 KiB\n",
      "25/05/05 20:55:02 WARN DAGScheduler: Broadcasting large task binary with size 1636.6 KiB\n",
      "25/05/05 20:55:02 WARN DAGScheduler: Broadcasting large task binary with size 1635.4 KiB\n",
      "25/05/05 20:55:02 WARN DAGScheduler: Broadcasting large task binary with size 1636.6 KiB\n",
      "25/05/05 20:55:02 WARN DAGScheduler: Broadcasting large task binary with size 1635.4 KiB\n",
      "25/05/05 20:55:03 WARN DAGScheduler: Broadcasting large task binary with size 1636.6 KiB\n",
      "25/05/05 20:55:03 WARN DAGScheduler: Broadcasting large task binary with size 1635.4 KiB\n",
      "25/05/05 20:55:03 WARN DAGScheduler: Broadcasting large task binary with size 1636.6 KiB\n",
      "25/05/05 20:55:03 WARN DAGScheduler: Broadcasting large task binary with size 1635.4 KiB\n",
      "25/05/05 20:55:03 WARN DAGScheduler: Broadcasting large task binary with size 1636.6 KiB\n",
      "25/05/05 20:55:03 WARN DAGScheduler: Broadcasting large task binary with size 1635.4 KiB\n",
      "25/05/05 20:55:04 WARN DAGScheduler: Broadcasting large task binary with size 1636.6 KiB\n",
      "25/05/05 20:55:04 WARN DAGScheduler: Broadcasting large task binary with size 1635.4 KiB\n",
      "25/05/05 20:55:04 WARN DAGScheduler: Broadcasting large task binary with size 1636.6 KiB\n",
      "25/05/05 20:55:04 WARN DAGScheduler: Broadcasting large task binary with size 1635.4 KiB\n",
      "25/05/05 20:55:04 WARN DAGScheduler: Broadcasting large task binary with size 1636.6 KiB\n",
      "25/05/05 20:55:05 WARN DAGScheduler: Broadcasting large task binary with size 1635.4 KiB\n",
      "25/05/05 20:55:05 WARN DAGScheduler: Broadcasting large task binary with size 1636.6 KiB\n",
      "25/05/05 20:55:05 WARN DAGScheduler: Broadcasting large task binary with size 1635.4 KiB\n",
      "25/05/05 20:55:05 WARN DAGScheduler: Broadcasting large task binary with size 1636.6 KiB\n",
      "25/05/05 20:55:05 WARN DAGScheduler: Broadcasting large task binary with size 1635.4 KiB\n",
      "25/05/05 20:55:06 WARN DAGScheduler: Broadcasting large task binary with size 1636.6 KiB\n",
      "25/05/05 20:55:06 WARN DAGScheduler: Broadcasting large task binary with size 1635.4 KiB\n",
      "25/05/05 20:55:06 WARN DAGScheduler: Broadcasting large task binary with size 1636.6 KiB\n",
      "25/05/05 20:55:06 WARN DAGScheduler: Broadcasting large task binary with size 1635.4 KiB\n",
      "25/05/05 20:55:06 WARN DAGScheduler: Broadcasting large task binary with size 1636.6 KiB\n",
      "25/05/05 20:55:06 WARN DAGScheduler: Broadcasting large task binary with size 1635.4 KiB\n",
      "25/05/05 20:55:07 WARN DAGScheduler: Broadcasting large task binary with size 1636.6 KiB\n",
      "25/05/05 20:55:07 WARN DAGScheduler: Broadcasting large task binary with size 1635.4 KiB\n",
      "25/05/05 20:55:07 WARN DAGScheduler: Broadcasting large task binary with size 1636.6 KiB\n",
      "25/05/05 20:55:07 WARN DAGScheduler: Broadcasting large task binary with size 1635.4 KiB\n",
      "25/05/05 20:55:07 WARN DAGScheduler: Broadcasting large task binary with size 1636.6 KiB\n",
      "25/05/05 20:55:07 WARN DAGScheduler: Broadcasting large task binary with size 1635.4 KiB\n",
      "25/05/05 20:55:08 WARN DAGScheduler: Broadcasting large task binary with size 1636.6 KiB\n",
      "25/05/05 20:55:08 WARN DAGScheduler: Broadcasting large task binary with size 1635.4 KiB\n",
      "25/05/05 20:55:08 WARN DAGScheduler: Broadcasting large task binary with size 1636.6 KiB\n",
      "25/05/05 20:55:08 WARN DAGScheduler: Broadcasting large task binary with size 1635.4 KiB\n",
      "25/05/05 20:55:08 WARN DAGScheduler: Broadcasting large task binary with size 1636.6 KiB\n",
      "25/05/05 20:55:09 WARN DAGScheduler: Broadcasting large task binary with size 1635.4 KiB\n",
      "25/05/05 20:55:09 WARN DAGScheduler: Broadcasting large task binary with size 1636.6 KiB\n",
      "25/05/05 20:55:09 WARN DAGScheduler: Broadcasting large task binary with size 1635.4 KiB\n",
      "25/05/05 20:55:09 WARN DAGScheduler: Broadcasting large task binary with size 1636.6 KiB\n",
      "25/05/05 20:55:09 WARN DAGScheduler: Broadcasting large task binary with size 1635.4 KiB\n",
      "25/05/05 20:55:09 WARN DAGScheduler: Broadcasting large task binary with size 1636.6 KiB\n",
      "25/05/05 20:55:10 WARN DAGScheduler: Broadcasting large task binary with size 1674.8 KiB\n",
      "25/05/05 20:55:10 WARN DAGScheduler: Broadcasting large task binary with size 1676.0 KiB\n"
     ]
    },
    {
     "data": {
      "text/plain": [
       "LinearRegressionModel: uid=LinearRegression_0d67ccc2ed51, numFeatures=9436"
      ]
     },
     "execution_count": 55,
     "metadata": {},
     "output_type": "execute_result"
    }
   ],
   "source": [
    "from pyspark.ml.tuning import ParamGridBuilder, CrossValidator \n",
    "\n",
    "import numpy as np\n",
    "# Подготовка данных\n",
    "# train_data.cache()\n",
    "# sample_data = train_data.sample(False, 0.001, seed=42)\n",
    "# sample_data.cache()\n",
    "grid = ParamGridBuilder()\\\n",
    "    .addGrid(model_lr.regParam, np.logspace(-2, -1, 2))\\\n",
    "    .addGrid(lr.elasticNetParam, [0.2, 0.6])\\\n",
    "    .build()\n",
    "\n",
    "cv = CrossValidator(estimator = lr, \n",
    "                    estimatorParamMaps = grid, \n",
    "                    evaluator = evaluator1_rmse,\n",
    "                    parallelism = 5,\n",
    "                    numFolds=3)\n",
    "\n",
    "cvModel = cv.fit(train_data)\n",
    "bestModel = cvModel.bestModel\n",
    "bestModel"
   ]
  },
  {
   "cell_type": "code",
   "execution_count": null,
   "id": "ef5ad629-3665-4ea1-b576-a1f735f761bf",
   "metadata": {},
   "outputs": [],
   "source": []
  },
  {
   "cell_type": "markdown",
   "id": "8a27e31c-959e-438c-bec0-1f109d7e2c15",
   "metadata": {},
   "source": [
    "## Best model 1\n"
   ]
  },
  {
   "cell_type": "code",
   "execution_count": 56,
   "id": "8d86fc18-eb29-4f03-bfef-ed3aa1daa4fa",
   "metadata": {},
   "outputs": [
    {
     "name": "stdout",
     "output_type": "stream",
     "text": [
      "{Param(parent='LinearRegression_0d67ccc2ed51', name='labelCol', doc='label column name.'): 'label',\n",
      " Param(parent='LinearRegression_0d67ccc2ed51', name='fitIntercept', doc='whether to fit an intercept term.'): True,\n",
      " Param(parent='LinearRegression_0d67ccc2ed51', name='epsilon', doc='The shape parameter to control the amount of robustness. Must be > 1.0. Only valid when loss is huber'): 1.35,\n",
      " Param(parent='LinearRegression_0d67ccc2ed51', name='regParam', doc='regularization parameter (>= 0).'): 0.1,\n",
      " Param(parent='LinearRegression_0d67ccc2ed51', name='featuresCol', doc='features column name.'): 'features',\n",
      " Param(parent='LinearRegression_0d67ccc2ed51', name='maxIter', doc='max number of iterations (>= 0).'): 30,\n",
      " Param(parent='LinearRegression_0d67ccc2ed51', name='tol', doc='the convergence tolerance for iterative algorithms (>= 0).'): 1e-06,\n",
      " Param(parent='LinearRegression_0d67ccc2ed51', name='solver', doc='The solver algorithm for optimization. Supported options: auto, normal, l-bfgs.'): 'auto',\n",
      " Param(parent='LinearRegression_0d67ccc2ed51', name='loss', doc='The loss function to be optimized. Supported options: squaredError, huber.'): 'squaredError',\n",
      " Param(parent='LinearRegression_0d67ccc2ed51', name='standardization', doc='whether to standardize the training features before fitting the model.'): True,\n",
      " Param(parent='LinearRegression_0d67ccc2ed51', name='maxBlockSizeInMB', doc='maximum memory in MB for stacking input data into blocks. Data is stacked within partitions. If more than remaining data size in a partition then it is adjusted to the data size. Default 0.0 represents choosing optimal value, depends on specific algorithm. Must be >= 0.'): 0.0,\n",
      " Param(parent='LinearRegression_0d67ccc2ed51', name='elasticNetParam', doc='the ElasticNet mixing parameter, in range [0, 1]. For alpha = 0, the penalty is an L2 penalty. For alpha = 1, it is an L1 penalty.'): 0.6,\n",
      " Param(parent='LinearRegression_0d67ccc2ed51', name='predictionCol', doc='prediction column name.'): 'prediction',\n",
      " Param(parent='LinearRegression_0d67ccc2ed51', name='aggregationDepth', doc='suggested depth for treeAggregate (>= 2).'): 2}\n"
     ]
    }
   ],
   "source": [
    "from pprint import pprint\n",
    "model1 = bestModel\n",
    "pprint(model1.extractParamMap())"
   ]
  },
  {
   "cell_type": "markdown",
   "id": "632f666a-f792-4b50-b38f-b39f9208ab25",
   "metadata": {},
   "source": [
    "## Save the model to HDFS"
   ]
  },
  {
   "cell_type": "code",
   "execution_count": 57,
   "id": "e562da25-53d1-46dc-ac5d-68a6e9041927",
   "metadata": {},
   "outputs": [
    {
     "name": "stderr",
     "output_type": "stream",
     "text": [
      "get: `model1/model1/data/_SUCCESS': File exists                                 \n",
      "get: `model1/model1/metadata/_SUCCESS': File exists\n",
      "get: `model1/model1/metadata/part-00000': File exists\n"
     ]
    },
    {
     "data": {
      "text/plain": [
       "''"
      ]
     },
     "execution_count": 57,
     "metadata": {},
     "output_type": "execute_result"
    }
   ],
   "source": [
    "model1.write().overwrite().save(\"project/big_data_project/models/model1\")\n",
    "\n",
    "# Run it from root directory of the repository\n",
    "run(\"hdfs dfs -get project/big_data_project/models/model1 model1\")"
   ]
  },
  {
   "cell_type": "code",
   "execution_count": 58,
   "id": "2d223183-464e-44eb-ad3a-efa40af253a7",
   "metadata": {},
   "outputs": [],
   "source": [
    "# run(\"hdfs dfs -ls project/big_data_project/models/model1\")"
   ]
  },
  {
   "cell_type": "code",
   "execution_count": null,
   "id": "a1f63f17-d5dd-4727-862e-b69c33a3a9ca",
   "metadata": {},
   "outputs": [],
   "source": []
  },
  {
   "cell_type": "markdown",
   "id": "f0e9b220-54e1-49ce-802c-fc005d8f63c3",
   "metadata": {},
   "source": [
    "## Predict for test data using best model1"
   ]
  },
  {
   "cell_type": "code",
   "execution_count": 59,
   "id": "cf8a05de-dcae-4bb0-8cf1-de760a62e0fb",
   "metadata": {},
   "outputs": [
    {
     "name": "stderr",
     "output_type": "stream",
     "text": [
      "25/05/05 20:55:27 WARN DAGScheduler: Broadcasting large task binary with size 3.1 MiB\n",
      "[Stage 1996:>                                                       (0 + 1) / 1]\r"
     ]
    },
    {
     "name": "stdout",
     "output_type": "stream",
     "text": [
      "+--------------------+-----+--------------------+------------------+\n",
      "|            features|label|     indexedFeatures|        prediction|\n",
      "+--------------------+-----+--------------------+------------------+\n",
      "|(9436,[0,3082,309...| 56.0|(9436,[0,3082,309...| 75.48453010114736|\n",
      "|(9436,[0,3082,309...| 35.0|(9436,[0,3082,309...|59.208723893013484|\n",
      "|(9436,[0,3082,309...| 65.0|(9436,[0,3082,309...|  93.7936765696968|\n",
      "|(9436,[0,3082,309...| 99.0|(9436,[0,3082,309...| 96.83784538840973|\n",
      "|(9436,[0,3082,309...| 55.0|(9436,[0,3082,309...|   65.514911412728|\n",
      "|(9436,[0,3082,309...|175.0|(9436,[0,3082,309...| 98.32958577716545|\n",
      "|(9436,[0,3082,309...| 70.0|(9436,[0,3082,309...| 96.92847238517697|\n",
      "|(9436,[0,3082,309...| 98.0|(9436,[0,3082,309...|105.23352105140384|\n",
      "|(9436,[0,3082,309...| 80.0|(9436,[0,3082,309...|100.63568541619861|\n",
      "|(9436,[0,3082,309...| 75.0|(9436,[0,3082,309...| 96.06447718111394|\n",
      "|(9436,[0,3082,309...| 80.0|(9436,[0,3082,309...|101.76763617829147|\n",
      "|(9436,[0,3082,309...| 85.0|(9436,[0,3082,309...|  61.9993723845173|\n",
      "|(9436,[0,3082,309...| 50.0|(9436,[0,3082,309...|105.37203281378152|\n",
      "|(9436,[0,3082,309...| 50.0|(9436,[0,3082,309...| 72.60669416585279|\n",
      "|(9436,[0,3082,309...| 70.0|(9436,[0,3082,309...|  99.8363590668514|\n",
      "|(9436,[0,3082,309...| 85.0|(9436,[0,3082,309...|  84.3303716140581|\n",
      "|(9436,[0,3082,309...| 58.0|(9436,[0,3082,309...| 92.17801584700828|\n",
      "|(9436,[0,3082,309...|124.0|(9436,[0,3082,309...| 94.93983264354938|\n",
      "|(9436,[0,3082,309...|130.0|(9436,[0,3082,309...| 95.30898803506534|\n",
      "|(9436,[0,3082,309...| 49.0|(9436,[0,3082,309...| 77.91798245976224|\n",
      "+--------------------+-----+--------------------+------------------+\n",
      "only showing top 20 rows\n",
      "\n"
     ]
    },
    {
     "name": "stderr",
     "output_type": "stream",
     "text": [
      "                                                                                \r"
     ]
    }
   ],
   "source": [
    "predictions = model1.transform(test_data)\n",
    "predictions.show()"
   ]
  },
  {
   "cell_type": "code",
   "execution_count": 60,
   "id": "096936c5-a575-48b7-92d2-be22893e892c",
   "metadata": {},
   "outputs": [
    {
     "name": "stderr",
     "output_type": "stream",
     "text": [
      "25/05/05 20:55:42 WARN DAGScheduler: Broadcasting large task binary with size 3.3 MiB\n",
      "                                                                                \r"
     ]
    },
    {
     "data": {
      "text/plain": [
       "''"
      ]
     },
     "execution_count": 60,
     "metadata": {},
     "output_type": "execute_result"
    }
   ],
   "source": [
    "predictions.select(\"label\", \"prediction\")\\\n",
    "    .coalesce(1)\\\n",
    "    .write\\\n",
    "    .mode(\"overwrite\")\\\n",
    "    .format(\"csv\")\\\n",
    "    .option(\"sep\", \",\")\\\n",
    "    .option(\"header\",\"true\")\\\n",
    "    .save(\"project/big_data_project/output/model1_predictions.csv\")\n",
    "\n",
    "# Run it from root directory of the repository\n",
    "run(\"hdfs dfs -cat project/big_data_project/output/model1_predictions.csv/*.csv > ../output/model1_predictions.csv\")"
   ]
  },
  {
   "cell_type": "markdown",
   "id": "89f9a43d-80ce-4ec1-930f-671a240673d9",
   "metadata": {},
   "source": [
    "## Evaluate the best model1"
   ]
  },
  {
   "cell_type": "code",
   "execution_count": 61,
   "id": "1d0cc0e6-7d0d-4030-a372-375e5e9b84f7",
   "metadata": {},
   "outputs": [
    {
     "name": "stderr",
     "output_type": "stream",
     "text": [
      "25/05/05 20:56:02 WARN DAGScheduler: Broadcasting large task binary with size 3.1 MiB\n",
      "25/05/05 20:56:17 WARN DAGScheduler: Broadcasting large task binary with size 3.1 MiB\n",
      "[Stage 2029:>                                                       (0 + 2) / 2]\r"
     ]
    },
    {
     "name": "stdout",
     "output_type": "stream",
     "text": [
      "Root Mean Squared Error (RMSE) on test data = 73.69420253157189\n",
      "R^2 on test data = 0.7247992734344332\n"
     ]
    },
    {
     "name": "stderr",
     "output_type": "stream",
     "text": [
      "                                                                                \r"
     ]
    }
   ],
   "source": [
    "from pyspark.ml.evaluation import RegressionEvaluator \n",
    "\n",
    "# Evaluate the performance of the model\n",
    "evaluator1_rmse = RegressionEvaluator(labelCol=\"label\", predictionCol=\"prediction\", metricName=\"rmse\")\n",
    "evaluator1_r2 = RegressionEvaluator(labelCol=\"label\", predictionCol=\"prediction\", metricName=\"r2\")\n",
    "\n",
    "rmse1 = evaluator1_rmse.evaluate(predictions)\n",
    "r21 = evaluator1_r2.evaluate(predictions)\n",
    "\n",
    "print(\"Root Mean Squared Error (RMSE) on test data = {}\".format(rmse1))\n",
    "print(\"R^2 on test data = {}\".format(r21))"
   ]
  },
  {
   "cell_type": "markdown",
   "id": "5308587c-3e52-41c6-ba7d-494d53cc45b1",
   "metadata": {},
   "source": [
    "# Second model"
   ]
  },
  {
   "cell_type": "markdown",
   "id": "d929b5a0-a159-4c94-ae56-086d3cf52df0",
   "metadata": {},
   "source": [
    "## Build a model"
   ]
  },
  {
   "cell_type": "code",
   "execution_count": 62,
   "id": "55d8981a-e274-4ab7-9d03-fefdc068b51b",
   "metadata": {},
   "outputs": [
    {
     "name": "stderr",
     "output_type": "stream",
     "text": [
      "25/05/05 20:56:20 WARN DAGScheduler: Broadcasting large task binary with size 1630.7 KiB\n",
      "25/05/05 20:56:20 WARN DAGScheduler: Broadcasting large task binary with size 1630.8 KiB\n",
      "25/05/05 20:56:20 WARN DAGScheduler: Broadcasting large task binary with size 1634.9 KiB\n",
      "25/05/05 20:56:21 WARN DAGScheduler: Broadcasting large task binary with size 1895.2 KiB\n",
      "25/05/05 20:56:30 WARN DAGScheduler: Broadcasting large task binary with size 1896.1 KiB\n",
      "25/05/05 20:56:34 WARN DAGScheduler: Broadcasting large task binary with size 1896.8 KiB\n",
      "25/05/05 20:56:37 WARN DAGScheduler: Broadcasting large task binary with size 1898.0 KiB\n",
      "25/05/05 20:56:41 WARN DAGScheduler: Broadcasting large task binary with size 1900.4 KiB\n",
      "25/05/05 20:56:45 WARN DAGScheduler: Broadcasting large task binary with size 1907.8 KiB\n",
      "25/05/05 20:56:49 WARN DAGScheduler: Broadcasting large task binary with size 1908.3 KiB\n",
      "25/05/05 20:56:52 WARN DAGScheduler: Broadcasting large task binary with size 1908.9 KiB\n",
      "25/05/05 20:56:55 WARN DAGScheduler: Broadcasting large task binary with size 1910.1 KiB\n",
      "25/05/05 20:56:59 WARN DAGScheduler: Broadcasting large task binary with size 1912.4 KiB\n",
      "25/05/05 20:57:03 WARN DAGScheduler: Broadcasting large task binary with size 1915.5 KiB\n",
      "25/05/05 20:57:07 WARN DAGScheduler: Broadcasting large task binary with size 1916.0 KiB\n",
      "25/05/05 20:57:10 WARN DAGScheduler: Broadcasting large task binary with size 1916.6 KiB\n",
      "25/05/05 20:57:14 WARN DAGScheduler: Broadcasting large task binary with size 1917.8 KiB\n",
      "25/05/05 20:57:17 WARN DAGScheduler: Broadcasting large task binary with size 1920.2 KiB\n",
      "25/05/05 20:57:22 WARN DAGScheduler: Broadcasting large task binary with size 1922.9 KiB\n",
      "25/05/05 20:57:26 WARN DAGScheduler: Broadcasting large task binary with size 1923.4 KiB\n",
      "25/05/05 20:57:29 WARN DAGScheduler: Broadcasting large task binary with size 1924.0 KiB\n",
      "25/05/05 20:57:32 WARN DAGScheduler: Broadcasting large task binary with size 1925.3 KiB\n",
      "25/05/05 20:57:36 WARN DAGScheduler: Broadcasting large task binary with size 1927.7 KiB\n",
      "25/05/05 20:57:40 WARN DAGScheduler: Broadcasting large task binary with size 1930.1 KiB\n",
      "25/05/05 20:57:45 WARN DAGScheduler: Broadcasting large task binary with size 1930.7 KiB\n",
      "25/05/05 20:57:47 WARN DAGScheduler: Broadcasting large task binary with size 1931.3 KiB\n",
      "25/05/05 20:57:51 WARN DAGScheduler: Broadcasting large task binary with size 1932.5 KiB\n",
      "25/05/05 20:57:55 WARN DAGScheduler: Broadcasting large task binary with size 1934.6 KiB\n",
      "25/05/05 20:57:59 WARN DAGScheduler: Broadcasting large task binary with size 1937.1 KiB\n",
      "25/05/05 20:58:04 WARN DAGScheduler: Broadcasting large task binary with size 1937.6 KiB\n",
      "25/05/05 20:58:07 WARN DAGScheduler: Broadcasting large task binary with size 1938.2 KiB\n",
      "25/05/05 20:58:10 WARN DAGScheduler: Broadcasting large task binary with size 1939.4 KiB\n",
      "25/05/05 20:58:14 WARN DAGScheduler: Broadcasting large task binary with size 1941.7 KiB\n",
      "25/05/05 20:58:18 WARN DAGScheduler: Broadcasting large task binary with size 1944.7 KiB\n",
      "25/05/05 20:58:23 WARN DAGScheduler: Broadcasting large task binary with size 1945.2 KiB\n",
      "25/05/05 20:58:26 WARN DAGScheduler: Broadcasting large task binary with size 1945.8 KiB\n",
      "25/05/05 20:58:29 WARN DAGScheduler: Broadcasting large task binary with size 1947.1 KiB\n",
      "25/05/05 20:58:32 WARN DAGScheduler: Broadcasting large task binary with size 1949.2 KiB\n",
      "25/05/05 20:58:37 WARN DAGScheduler: Broadcasting large task binary with size 1951.6 KiB\n",
      "25/05/05 20:58:41 WARN DAGScheduler: Broadcasting large task binary with size 1952.2 KiB\n",
      "25/05/05 20:58:44 WARN DAGScheduler: Broadcasting large task binary with size 1952.8 KiB\n",
      "25/05/05 20:58:47 WARN DAGScheduler: Broadcasting large task binary with size 1954.0 KiB\n",
      "25/05/05 20:58:51 WARN DAGScheduler: Broadcasting large task binary with size 1956.1 KiB\n",
      "25/05/05 20:58:55 WARN DAGScheduler: Broadcasting large task binary with size 1958.5 KiB\n",
      "25/05/05 20:58:59 WARN DAGScheduler: Broadcasting large task binary with size 1959.0 KiB\n",
      "25/05/05 20:59:02 WARN DAGScheduler: Broadcasting large task binary with size 1959.6 KiB\n",
      "25/05/05 20:59:06 WARN DAGScheduler: Broadcasting large task binary with size 1960.8 KiB\n",
      "25/05/05 20:59:09 WARN DAGScheduler: Broadcasting large task binary with size 1963.1 KiB\n",
      "25/05/05 20:59:14 WARN DAGScheduler: Broadcasting large task binary with size 1965.4 KiB\n",
      "25/05/05 20:59:18 WARN DAGScheduler: Broadcasting large task binary with size 1965.9 KiB\n",
      "25/05/05 20:59:21 WARN DAGScheduler: Broadcasting large task binary with size 1966.5 KiB\n",
      "25/05/05 20:59:24 WARN DAGScheduler: Broadcasting large task binary with size 1967.7 KiB\n",
      "25/05/05 20:59:28 WARN DAGScheduler: Broadcasting large task binary with size 1970.1 KiB\n",
      "                                                                                \r"
     ]
    }
   ],
   "source": [
    "from pyspark.ml.regression import GBTRegressor\n",
    "\n",
    "# Create Linear Regression Model\n",
    "gbt = GBTRegressor(maxIter=10)\n",
    "\n",
    "# Fit the data to the pipeline stages\n",
    "model_gbt = gbt.fit(train_data)"
   ]
  },
  {
   "cell_type": "markdown",
   "id": "7b1c9a67-fe61-49fe-898f-017df0c4006b",
   "metadata": {},
   "source": [
    "## Predict for test data"
   ]
  },
  {
   "cell_type": "code",
   "execution_count": 63,
   "id": "6cb95001-9d15-4da4-98df-2b87c0c39200",
   "metadata": {},
   "outputs": [
    {
     "name": "stderr",
     "output_type": "stream",
     "text": [
      "25/05/05 20:59:45 WARN DAGScheduler: Broadcasting large task binary with size 3.1 MiB\n",
      "[Stage 2409:>                                                       (0 + 1) / 1]\r"
     ]
    },
    {
     "name": "stdout",
     "output_type": "stream",
     "text": [
      "+--------------------+-----+--------------------+-----------------+\n",
      "|            features|label|     indexedFeatures|       prediction|\n",
      "+--------------------+-----+--------------------+-----------------+\n",
      "|(9436,[0,3082,309...| 56.0|(9436,[0,3082,309...|88.00206916226688|\n",
      "|(9436,[0,3082,309...| 35.0|(9436,[0,3082,309...|76.01269335997698|\n",
      "|(9436,[0,3082,309...| 65.0|(9436,[0,3082,309...|88.00206916226688|\n",
      "|(9436,[0,3082,309...| 99.0|(9436,[0,3082,309...|89.86170069017531|\n",
      "|(9436,[0,3082,309...| 55.0|(9436,[0,3082,309...|83.48651310211898|\n",
      "|(9436,[0,3082,309...|175.0|(9436,[0,3082,309...|89.86170069017531|\n",
      "|(9436,[0,3082,309...| 70.0|(9436,[0,3082,309...|89.86170069017531|\n",
      "|(9436,[0,3082,309...| 98.0|(9436,[0,3082,309...|89.86170069017531|\n",
      "|(9436,[0,3082,309...| 80.0|(9436,[0,3082,309...|89.86170069017531|\n",
      "|(9436,[0,3082,309...| 75.0|(9436,[0,3082,309...|83.48651310211898|\n",
      "|(9436,[0,3082,309...| 80.0|(9436,[0,3082,309...|89.86170069017531|\n",
      "|(9436,[0,3082,309...| 85.0|(9436,[0,3082,309...|80.98237164177534|\n",
      "|(9436,[0,3082,309...| 50.0|(9436,[0,3082,309...|88.00206916226688|\n",
      "|(9436,[0,3082,309...| 50.0|(9436,[0,3082,309...|79.12274011386691|\n",
      "|(9436,[0,3082,309...| 70.0|(9436,[0,3082,309...|89.86170069017531|\n",
      "|(9436,[0,3082,309...| 85.0|(9436,[0,3082,309...|83.48651310211898|\n",
      "|(9436,[0,3082,309...| 58.0|(9436,[0,3082,309...|88.00206916226688|\n",
      "|(9436,[0,3082,309...|124.0|(9436,[0,3082,309...|89.86170069017531|\n",
      "|(9436,[0,3082,309...|130.0|(9436,[0,3082,309...|89.86170069017531|\n",
      "|(9436,[0,3082,309...| 49.0|(9436,[0,3082,309...|80.98237164177534|\n",
      "+--------------------+-----+--------------------+-----------------+\n",
      "only showing top 20 rows\n",
      "\n"
     ]
    },
    {
     "name": "stderr",
     "output_type": "stream",
     "text": [
      "                                                                                \r"
     ]
    }
   ],
   "source": [
    "predictions = model_gbt.transform(test_data)\n",
    "predictions.show()"
   ]
  },
  {
   "cell_type": "markdown",
   "id": "6c94da6f-f913-45ec-a377-d9c42dacb075",
   "metadata": {},
   "source": [
    "## Evaluate the model"
   ]
  },
  {
   "cell_type": "code",
   "execution_count": 64,
   "id": "f3508997-af5a-4882-8fd6-8d0a5be07ccb",
   "metadata": {},
   "outputs": [
    {
     "name": "stderr",
     "output_type": "stream",
     "text": [
      "25/05/05 21:00:00 WARN DAGScheduler: Broadcasting large task binary with size 3.1 MiB\n",
      "25/05/05 21:00:16 WARN DAGScheduler: Broadcasting large task binary with size 3.1 MiB\n",
      "[Stage 2431:>                                                       (0 + 2) / 2]\r"
     ]
    },
    {
     "name": "stdout",
     "output_type": "stream",
     "text": [
      "Root Mean Squared Error (RMSE) on test data = 70.8211085495895\n",
      "R^2 on test data = 0.7458393164580558\n"
     ]
    },
    {
     "name": "stderr",
     "output_type": "stream",
     "text": [
      "                                                                                \r"
     ]
    }
   ],
   "source": [
    "from pyspark.ml.evaluation import RegressionEvaluator \n",
    "\n",
    "# Evaluate the performance of the model\n",
    "evaluator2_rmse = RegressionEvaluator(labelCol=\"label\", predictionCol=\"prediction\", metricName=\"rmse\")\n",
    "evaluator2_r2 = RegressionEvaluator(labelCol=\"label\", predictionCol=\"prediction\", metricName=\"r2\")\n",
    "\n",
    "rmse2 = evaluator2_rmse.evaluate(predictions)\n",
    "r22 = evaluator2_r2.evaluate(predictions)\n",
    "\n",
    "print(\"Root Mean Squared Error (RMSE) on test data = {}\".format(rmse2))\n",
    "print(\"R^2 on test data = {}\".format(r22))"
   ]
  },
  {
   "cell_type": "markdown",
   "id": "943a2d06-39bd-4c71-b0cc-18a63d995949",
   "metadata": {},
   "source": [
    "## Hyperparameter optimization"
   ]
  },
  {
   "cell_type": "code",
   "execution_count": 65,
   "id": "b99e50b9-5090-45ed-bfa7-7ddca0706176",
   "metadata": {},
   "outputs": [
    {
     "data": {
      "text/plain": [
       "[Param(parent='GBTRegressor_e7007ff84291', name='cacheNodeIds', doc='If false, the algorithm will pass trees to executors to match instances with nodes. If true, the algorithm will cache node IDs for each instance. Caching can speed up training of deeper trees. Users can set how often should the cache be checkpointed or disable it by setting checkpointInterval.'),\n",
       " Param(parent='GBTRegressor_e7007ff84291', name='checkpointInterval', doc='set checkpoint interval (>= 1) or disable checkpoint (-1). E.g. 10 means that the cache will get checkpointed every 10 iterations. Note: this setting will be ignored if the checkpoint directory is not set in the SparkContext.'),\n",
       " Param(parent='GBTRegressor_e7007ff84291', name='featureSubsetStrategy', doc=\"The number of features to consider for splits at each tree node. Supported options: 'auto' (choose automatically for task: If numTrees == 1, set to 'all'. If numTrees > 1 (forest), set to 'sqrt' for classification and to 'onethird' for regression), 'all' (use all features), 'onethird' (use 1/3 of the features), 'sqrt' (use sqrt(number of features)), 'log2' (use log2(number of features)), 'n' (when n is in the range (0, 1.0], use n * number of features. When n is in the range (1, number of features), use n features). default = 'auto'\"),\n",
       " Param(parent='GBTRegressor_e7007ff84291', name='featuresCol', doc='features column name.'),\n",
       " Param(parent='GBTRegressor_e7007ff84291', name='impurity', doc='Criterion used for information gain calculation (case-insensitive). Supported options: variance'),\n",
       " Param(parent='GBTRegressor_e7007ff84291', name='labelCol', doc='label column name.'),\n",
       " Param(parent='GBTRegressor_e7007ff84291', name='leafCol', doc='Leaf indices column name. Predicted leaf index of each instance in each tree by preorder.'),\n",
       " Param(parent='GBTRegressor_e7007ff84291', name='lossType', doc='Loss function which GBT tries to minimize (case-insensitive). Supported options: squared, absolute'),\n",
       " Param(parent='GBTRegressor_e7007ff84291', name='maxBins', doc='Max number of bins for discretizing continuous features.  Must be >=2 and >= number of categories for any categorical feature.'),\n",
       " Param(parent='GBTRegressor_e7007ff84291', name='maxDepth', doc='Maximum depth of the tree. (>= 0) E.g., depth 0 means 1 leaf node; depth 1 means 1 internal node + 2 leaf nodes. Must be in range [0, 30].'),\n",
       " Param(parent='GBTRegressor_e7007ff84291', name='maxIter', doc='max number of iterations (>= 0).'),\n",
       " Param(parent='GBTRegressor_e7007ff84291', name='maxMemoryInMB', doc='Maximum memory in MB allocated to histogram aggregation. If too small, then 1 node will be split per iteration, and its aggregates may exceed this size.'),\n",
       " Param(parent='GBTRegressor_e7007ff84291', name='minInfoGain', doc='Minimum information gain for a split to be considered at a tree node.'),\n",
       " Param(parent='GBTRegressor_e7007ff84291', name='minInstancesPerNode', doc='Minimum number of instances each child must have after split. If a split causes the left or right child to have fewer than minInstancesPerNode, the split will be discarded as invalid. Should be >= 1.'),\n",
       " Param(parent='GBTRegressor_e7007ff84291', name='minWeightFractionPerNode', doc='Minimum fraction of the weighted sample count that each child must have after split. If a split causes the fraction of the total weight in the left or right child to be less than minWeightFractionPerNode, the split will be discarded as invalid. Should be in interval [0.0, 0.5).'),\n",
       " Param(parent='GBTRegressor_e7007ff84291', name='predictionCol', doc='prediction column name.'),\n",
       " Param(parent='GBTRegressor_e7007ff84291', name='seed', doc='random seed.'),\n",
       " Param(parent='GBTRegressor_e7007ff84291', name='stepSize', doc='Step size (a.k.a. learning rate) in interval (0, 1] for shrinking the contribution of each estimator.'),\n",
       " Param(parent='GBTRegressor_e7007ff84291', name='subsamplingRate', doc='Fraction of the training data used for learning each decision tree, in range (0, 1].'),\n",
       " Param(parent='GBTRegressor_e7007ff84291', name='validationIndicatorCol', doc='name of the column that indicates whether each row is for training or for validation. False indicates training; true indicates validation.'),\n",
       " Param(parent='GBTRegressor_e7007ff84291', name='validationTol', doc='Threshold for stopping early when fit with validation is used. If the error rate on the validation input changes by less than the validationTol, then learning will stop early (before `maxIter`). This parameter is ignored when fit without validation is used.'),\n",
       " Param(parent='GBTRegressor_e7007ff84291', name='weightCol', doc='weight column name. If this is not set or empty, we treat all instance weights as 1.0.')]"
      ]
     },
     "execution_count": 65,
     "metadata": {},
     "output_type": "execute_result"
    }
   ],
   "source": [
    "model_gbt.params"
   ]
  },
  {
   "cell_type": "code",
   "execution_count": 66,
   "id": "5dea6a22-9f7a-483b-818e-0b4e62f723e3",
   "metadata": {},
   "outputs": [
    {
     "name": "stderr",
     "output_type": "stream",
     "text": [
      "25/05/05 21:00:18 WARN DAGScheduler: Broadcasting large task binary with size 1608.5 KiB\n",
      "25/05/05 21:00:18 WARN DAGScheduler: Broadcasting large task binary with size 1608.5 KiB\n",
      "25/05/05 21:00:18 WARN DAGScheduler: Broadcasting large task binary with size 1608.5 KiB\n",
      "25/05/05 21:00:18 WARN DAGScheduler: Broadcasting large task binary with size 1608.5 KiB\n",
      "25/05/05 21:00:19 WARN DAGScheduler: Broadcasting large task binary with size 1648.4 KiB\n",
      "25/05/05 21:00:19 WARN DAGScheduler: Broadcasting large task binary with size 1648.4 KiB\n",
      "25/05/05 21:00:19 WARN DAGScheduler: Broadcasting large task binary with size 1648.4 KiB\n",
      "25/05/05 21:00:19 WARN DAGScheduler: Broadcasting large task binary with size 1648.4 KiB\n",
      "25/05/05 21:00:19 WARN DAGScheduler: Broadcasting large task binary with size 1648.4 KiB\n",
      "25/05/05 21:00:19 WARN DAGScheduler: Broadcasting large task binary with size 1648.4 KiB\n",
      "25/05/05 21:00:20 WARN DAGScheduler: Broadcasting large task binary with size 1648.4 KiB\n",
      "25/05/05 21:00:20 WARN DAGScheduler: Broadcasting large task binary with size 1652.6 KiB\n",
      "25/05/05 21:00:20 WARN DAGScheduler: Broadcasting large task binary with size 1652.6 KiB\n",
      "25/05/05 21:00:20 WARN DAGScheduler: Broadcasting large task binary with size 1648.4 KiB\n",
      "25/05/05 21:00:20 WARN DAGScheduler: Broadcasting large task binary with size 1652.6 KiB\n",
      "25/05/05 21:00:20 WARN DAGScheduler: Broadcasting large task binary with size 1912.9 KiB\n",
      "25/05/05 21:00:21 WARN DAGScheduler: Broadcasting large task binary with size 1912.9 KiB\n",
      "25/05/05 21:00:21 WARN DAGScheduler: Broadcasting large task binary with size 1652.6 KiB\n",
      "25/05/05 21:00:22 WARN DAGScheduler: Broadcasting large task binary with size 1912.9 KiB\n",
      "25/05/05 21:00:27 WARN DAGScheduler: Broadcasting large task binary with size 1913.8 KiB\n",
      "25/05/05 21:00:32 WARN DAGScheduler: Broadcasting large task binary with size 1913.8 KiB\n",
      "25/05/05 21:00:33 WARN DAGScheduler: Broadcasting large task binary with size 1912.9 KiB\n",
      "25/05/05 21:00:38 WARN DAGScheduler: Broadcasting large task binary with size 1913.8 KiB\n",
      "25/05/05 21:00:40 WARN DAGScheduler: Broadcasting large task binary with size 1914.5 KiB\n",
      "25/05/05 21:00:43 WARN DAGScheduler: Broadcasting large task binary with size 1914.5 KiB\n",
      "25/05/05 21:00:48 WARN DAGScheduler: Broadcasting large task binary with size 1913.8 KiB\n",
      "25/05/05 21:00:50 WARN DAGScheduler: Broadcasting large task binary with size 1914.5 KiB\n",
      "25/05/05 21:00:53 WARN DAGScheduler: Broadcasting large task binary with size 1915.7 KiB\n",
      "25/05/05 21:00:55 WARN DAGScheduler: Broadcasting large task binary with size 1921.3 KiB\n",
      "25/05/05 21:00:57 WARN DAGScheduler: Broadcasting large task binary with size 1914.5 KiB\n",
      "25/05/05 21:01:00 WARN DAGScheduler: Broadcasting large task binary with size 1921.3 KiB\n",
      "25/05/05 21:01:03 WARN DAGScheduler: Broadcasting large task binary with size 1918.1 KiB\n",
      "25/05/05 21:01:06 WARN DAGScheduler: Broadcasting large task binary with size 1921.8 KiB\n",
      "25/05/05 21:01:08 WARN DAGScheduler: Broadcasting large task binary with size 1915.7 KiB\n",
      "25/05/05 21:01:11 WARN DAGScheduler: Broadcasting large task binary with size 1921.8 KiB\n",
      "25/05/05 21:01:15 WARN DAGScheduler: Broadcasting large task binary with size 1925.5 KiB\n",
      "25/05/05 21:01:17 WARN DAGScheduler: Broadcasting large task binary with size 1922.4 KiB\n",
      "25/05/05 21:01:20 WARN DAGScheduler: Broadcasting large task binary with size 1918.1 KiB\n",
      "25/05/05 21:01:22 WARN DAGScheduler: Broadcasting large task binary with size 1922.4 KiB\n",
      "25/05/05 21:01:25 WARN DAGScheduler: Broadcasting large task binary with size 1926.0 KiB\n",
      "25/05/05 21:01:28 WARN DAGScheduler: Broadcasting large task binary with size 1924.8 KiB\n",
      "25/05/05 21:01:31 WARN DAGScheduler: Broadcasting large task binary with size 1925.5 KiB\n",
      "25/05/05 21:01:34 WARN DAGScheduler: Broadcasting large task binary with size 1924.8 KiB\n",
      "25/05/05 21:01:36 WARN DAGScheduler: Broadcasting large task binary with size 1926.6 KiB\n",
      "25/05/05 21:01:39 WARN DAGScheduler: Broadcasting large task binary with size 1925.4 KiB\n",
      "25/05/05 21:01:42 WARN DAGScheduler: Broadcasting large task binary with size 1926.1 KiB\n",
      "25/05/05 21:01:44 WARN DAGScheduler: Broadcasting large task binary with size 1925.4 KiB\n",
      "25/05/05 21:01:47 WARN DAGScheduler: Broadcasting large task binary with size 1927.8 KiB\n",
      "25/05/05 21:01:50 WARN DAGScheduler: Broadcasting large task binary with size 1926.0 KiB\n",
      "25/05/05 21:01:52 WARN DAGScheduler: Broadcasting large task binary with size 1926.7 KiB\n",
      "25/05/05 21:01:54 WARN DAGScheduler: Broadcasting large task binary with size 1926.0 KiB\n",
      "25/05/05 21:01:57 WARN DAGScheduler: Broadcasting large task binary with size 1930.1 KiB\n",
      "25/05/05 21:02:00 WARN DAGScheduler: Broadcasting large task binary with size 1928.3 KiB\n",
      "25/05/05 21:02:02 WARN DAGScheduler: Broadcasting large task binary with size 1927.8 KiB\n",
      "25/05/05 21:02:05 WARN DAGScheduler: Broadcasting large task binary with size 1928.3 KiB\n",
      "25/05/05 21:02:09 WARN DAGScheduler: Broadcasting large task binary with size 1933.1 KiB\n",
      "25/05/05 21:02:11 WARN DAGScheduler: Broadcasting large task binary with size 1928.7 KiB\n",
      "25/05/05 21:02:14 WARN DAGScheduler: Broadcasting large task binary with size 1930.1 KiB\n",
      "25/05/05 21:02:17 WARN DAGScheduler: Broadcasting large task binary with size 1928.7 KiB\n",
      "25/05/05 21:02:21 WARN DAGScheduler: Broadcasting large task binary with size 1933.6 KiB\n",
      "25/05/05 21:02:23 WARN DAGScheduler: Broadcasting large task binary with size 1929.4 KiB\n",
      "25/05/05 21:02:27 WARN DAGScheduler: Broadcasting large task binary with size 1933.2 KiB\n",
      "25/05/05 21:02:29 WARN DAGScheduler: Broadcasting large task binary with size 1929.4 KiB\n",
      "25/05/05 21:02:31 WARN DAGScheduler: Broadcasting large task binary with size 1934.2 KiB\n",
      "25/05/05 21:02:34 WARN DAGScheduler: Broadcasting large task binary with size 1931.6 KiB\n",
      "25/05/05 21:02:36 WARN DAGScheduler: Broadcasting large task binary with size 1933.7 KiB\n",
      "25/05/05 21:02:39 WARN DAGScheduler: Broadcasting large task binary with size 1931.6 KiB\n",
      "25/05/05 21:02:41 WARN DAGScheduler: Broadcasting large task binary with size 1935.4 KiB\n",
      "25/05/05 21:02:44 WARN DAGScheduler: Broadcasting large task binary with size 1932.1 KiB\n",
      "25/05/05 21:02:48 WARN DAGScheduler: Broadcasting large task binary with size 1934.3 KiB\n",
      "25/05/05 21:02:53 WARN DAGScheduler: Broadcasting large task binary with size 1932.1 KiB\n",
      "25/05/05 21:02:58 WARN DAGScheduler: Broadcasting large task binary with size 1937.8 KiB\n",
      "25/05/05 21:03:02 WARN DAGScheduler: Broadcasting large task binary with size 1932.7 KiB\n",
      "25/05/05 21:03:05 WARN DAGScheduler: Broadcasting large task binary with size 1935.5 KiB\n",
      "25/05/05 21:03:09 WARN DAGScheduler: Broadcasting large task binary with size 1932.7 KiB\n",
      "25/05/05 21:03:13 WARN DAGScheduler: Broadcasting large task binary with size 1940.3 KiB\n",
      "25/05/05 21:03:16 WARN DAGScheduler: Broadcasting large task binary with size 1935.0 KiB\n",
      "25/05/05 21:03:20 WARN DAGScheduler: Broadcasting large task binary with size 1937.9 KiB\n",
      "25/05/05 21:03:22 WARN DAGScheduler: Broadcasting large task binary with size 1935.0 KiB\n",
      "25/05/05 21:03:25 WARN DAGScheduler: Broadcasting large task binary with size 1940.8 KiB\n",
      "25/05/05 21:03:28 WARN DAGScheduler: Broadcasting large task binary with size 1935.6 KiB\n",
      "25/05/05 21:03:36 WARN DAGScheduler: Broadcasting large task binary with size 1940.7 KiB\n",
      "25/05/05 21:03:40 WARN DAGScheduler: Broadcasting large task binary with size 1935.6 KiB\n",
      "25/05/05 21:03:43 WARN DAGScheduler: Broadcasting large task binary with size 1941.4 KiB\n",
      "25/05/05 21:03:45 WARN DAGScheduler: Broadcasting large task binary with size 1936.1 KiB\n",
      "25/05/05 21:03:49 WARN DAGScheduler: Broadcasting large task binary with size 1941.2 KiB\n",
      "25/05/05 21:03:51 WARN DAGScheduler: Broadcasting large task binary with size 1936.1 KiB\n",
      "25/05/05 21:03:54 WARN DAGScheduler: Broadcasting large task binary with size 1942.4 KiB\n",
      "25/05/05 21:03:57 WARN DAGScheduler: Broadcasting large task binary with size 1938.4 KiB\n",
      "25/05/05 21:04:00 WARN DAGScheduler: Broadcasting large task binary with size 1941.8 KiB\n",
      "25/05/05 21:04:02 WARN DAGScheduler: Broadcasting large task binary with size 1938.4 KiB\n",
      "25/05/05 21:04:06 WARN DAGScheduler: Broadcasting large task binary with size 1944.2 KiB\n",
      "25/05/05 21:04:10 WARN DAGScheduler: Broadcasting large task binary with size 1938.9 KiB\n",
      "25/05/05 21:04:14 WARN DAGScheduler: Broadcasting large task binary with size 1942.7 KiB\n",
      "25/05/05 21:04:17 WARN DAGScheduler: Broadcasting large task binary with size 1938.9 KiB\n",
      "25/05/05 21:04:20 WARN DAGScheduler: Broadcasting large task binary with size 1946.8 KiB\n",
      "25/05/05 21:04:23 WARN DAGScheduler: Broadcasting large task binary with size 1939.5 KiB\n",
      "25/05/05 21:04:26 WARN DAGScheduler: Broadcasting large task binary with size 1944.5 KiB\n",
      "25/05/05 21:04:28 WARN DAGScheduler: Broadcasting large task binary with size 1939.5 KiB\n",
      "25/05/05 21:04:31 WARN DAGScheduler: Broadcasting large task binary with size 1947.3 KiB\n",
      "25/05/05 21:04:33 WARN DAGScheduler: Broadcasting large task binary with size 1941.7 KiB\n",
      "25/05/05 21:04:37 WARN DAGScheduler: Broadcasting large task binary with size 1947.1 KiB\n",
      "25/05/05 21:04:40 WARN DAGScheduler: Broadcasting large task binary with size 1941.7 KiB\n",
      "25/05/05 21:04:42 WARN DAGScheduler: Broadcasting large task binary with size 1947.9 KiB\n",
      "25/05/05 21:04:47 WARN DAGScheduler: Broadcasting large task binary with size 1942.2 KiB\n",
      "25/05/05 21:04:52 WARN DAGScheduler: Broadcasting large task binary with size 1947.6 KiB\n",
      "25/05/05 21:04:55 WARN DAGScheduler: Broadcasting large task binary with size 1942.2 KiB\n",
      "25/05/05 21:04:58 WARN DAGScheduler: Broadcasting large task binary with size 1948.8 KiB\n",
      "25/05/05 21:05:02 WARN DAGScheduler: Broadcasting large task binary with size 1942.8 KiB\n",
      "25/05/05 21:05:05 WARN DAGScheduler: Broadcasting large task binary with size 1948.2 KiB\n",
      "25/05/05 21:05:08 WARN DAGScheduler: Broadcasting large task binary with size 1942.8 KiB\n",
      "25/05/05 21:05:12 WARN DAGScheduler: Broadcasting large task binary with size 1950.5 KiB\n",
      "25/05/05 21:05:15 WARN DAGScheduler: Broadcasting large task binary with size 1945.1 KiB\n",
      "25/05/05 21:05:19 WARN DAGScheduler: Broadcasting large task binary with size 1949.4 KiB\n",
      "25/05/05 21:05:23 WARN DAGScheduler: Broadcasting large task binary with size 1945.1 KiB\n",
      "25/05/05 21:05:26 WARN DAGScheduler: Broadcasting large task binary with size 1953.1 KiB\n",
      "25/05/05 21:05:29 WARN DAGScheduler: Broadcasting large task binary with size 1945.5 KiB\n",
      "25/05/05 21:05:32 WARN DAGScheduler: Broadcasting large task binary with size 1951.4 KiB\n",
      "25/05/05 21:05:35 WARN DAGScheduler: Broadcasting large task binary with size 1945.5 KiB\n",
      "25/05/05 21:05:38 WARN DAGScheduler: Broadcasting large task binary with size 1953.6 KiB\n",
      "25/05/05 21:05:41 WARN DAGScheduler: Broadcasting large task binary with size 1946.1 KiB\n",
      "25/05/05 21:05:44 WARN DAGScheduler: Broadcasting large task binary with size 1953.8 KiB\n",
      "25/05/05 21:05:46 WARN DAGScheduler: Broadcasting large task binary with size 1946.1 KiB\n",
      "25/05/05 21:05:49 WARN DAGScheduler: Broadcasting large task binary with size 1954.2 KiB\n",
      "25/05/05 21:05:51 WARN DAGScheduler: Broadcasting large task binary with size 1948.4 KiB\n",
      "25/05/05 21:05:54 WARN DAGScheduler: Broadcasting large task binary with size 1954.3 KiB\n",
      "25/05/05 21:05:57 WARN DAGScheduler: Broadcasting large task binary with size 1948.4 KiB\n",
      "25/05/05 21:05:59 WARN DAGScheduler: Broadcasting large task binary with size 1955.4 KiB\n",
      "25/05/05 21:06:02 WARN DAGScheduler: Broadcasting large task binary with size 1948.9 KiB\n",
      "25/05/05 21:06:05 WARN DAGScheduler: Broadcasting large task binary with size 1954.9 KiB\n",
      "25/05/05 21:06:07 WARN DAGScheduler: Broadcasting large task binary with size 1948.9 KiB\n",
      "25/05/05 21:06:11 WARN DAGScheduler: Broadcasting large task binary with size 1957.7 KiB\n",
      "25/05/05 21:06:13 WARN DAGScheduler: Broadcasting large task binary with size 1949.5 KiB\n",
      "25/05/05 21:06:15 WARN DAGScheduler: Broadcasting large task binary with size 1956.1 KiB\n",
      "25/05/05 21:06:17 WARN DAGScheduler: Broadcasting large task binary with size 1949.5 KiB\n",
      "25/05/05 21:06:21 WARN DAGScheduler: Broadcasting large task binary with size 1960.5 KiB\n",
      "25/05/05 21:06:23 WARN DAGScheduler: Broadcasting large task binary with size 1608.5 KiB\n",
      "25/05/05 21:06:26 WARN DAGScheduler: Broadcasting large task binary with size 1958.2 KiB\n",
      "25/05/05 21:06:28 WARN DAGScheduler: Broadcasting large task binary with size 1608.5 KiB\n",
      "25/05/05 21:06:31 WARN DAGScheduler: Broadcasting large task binary with size 1961.0 KiB\n",
      "25/05/05 21:06:31 WARN DAGScheduler: Broadcasting large task binary with size 1640.3 KiB\n",
      "25/05/05 21:06:34 WARN DAGScheduler: Broadcasting large task binary with size 1960.7 KiB\n",
      "25/05/05 21:06:35 WARN DAGScheduler: Broadcasting large task binary with size 1640.3 KiB\n",
      "25/05/05 21:06:37 WARN DAGScheduler: Broadcasting large task binary with size 1961.7 KiB\n",
      "25/05/05 21:06:37 WARN DAGScheduler: Broadcasting large task binary with size 1641.4 KiB\n",
      "25/05/05 21:06:40 WARN DAGScheduler: Broadcasting large task binary with size 1961.2 KiB\n",
      "25/05/05 21:06:40 WARN DAGScheduler: Broadcasting large task binary with size 1641.4 KiB\n",
      "25/05/05 21:06:43 WARN DAGScheduler: Broadcasting large task binary with size 1962.8 KiB\n",
      "25/05/05 21:06:45 WARN DAGScheduler: Broadcasting large task binary with size 1961.9 KiB\n",
      "25/05/05 21:06:48 WARN DAGScheduler: Broadcasting large task binary with size 1965.2 KiB\n",
      "25/05/05 21:06:51 WARN DAGScheduler: Broadcasting large task binary with size 1963.0 KiB\n",
      "25/05/05 21:06:54 WARN DAGScheduler: Broadcasting large task binary with size 1968.0 KiB\n",
      "25/05/05 21:06:57 WARN DAGScheduler: Broadcasting large task binary with size 1965.4 KiB\n",
      "25/05/05 21:07:00 WARN DAGScheduler: Broadcasting large task binary with size 1968.5 KiB\n",
      "25/05/05 21:07:03 WARN DAGScheduler: Broadcasting large task binary with size 1967.9 KiB\n",
      "25/05/05 21:07:06 WARN DAGScheduler: Broadcasting large task binary with size 1969.1 KiB\n",
      "25/05/05 21:07:08 WARN DAGScheduler: Broadcasting large task binary with size 1968.4 KiB\n",
      "25/05/05 21:07:11 WARN DAGScheduler: Broadcasting large task binary with size 1970.0 KiB\n",
      "25/05/05 21:07:15 WARN DAGScheduler: Broadcasting large task binary with size 1969.0 KiB\n",
      "25/05/05 21:07:17 WARN DAGScheduler: Broadcasting large task binary with size 1971.8 KiB\n",
      "25/05/05 21:07:20 WARN DAGScheduler: Broadcasting large task binary with size 1969.9 KiB\n",
      "25/05/05 21:07:23 WARN DAGScheduler: Broadcasting large task binary with size 1974.2 KiB\n",
      "25/05/05 21:07:26 WARN DAGScheduler: Broadcasting large task binary with size 1971.7 KiB\n",
      "25/05/05 21:07:28 WARN DAGScheduler: Broadcasting large task binary with size 1974.7 KiB\n",
      "25/05/05 21:07:32 WARN DAGScheduler: Broadcasting large task binary with size 1974.1 KiB\n",
      "25/05/05 21:07:34 WARN DAGScheduler: Broadcasting large task binary with size 1975.3 KiB\n",
      "25/05/05 21:07:37 WARN DAGScheduler: Broadcasting large task binary with size 1974.6 KiB\n",
      "25/05/05 21:07:39 WARN DAGScheduler: Broadcasting large task binary with size 1976.5 KiB\n",
      "25/05/05 21:07:42 WARN DAGScheduler: Broadcasting large task binary with size 1975.2 KiB\n",
      "25/05/05 21:07:44 WARN DAGScheduler: Broadcasting large task binary with size 1978.8 KiB\n",
      "25/05/05 21:07:47 WARN DAGScheduler: Broadcasting large task binary with size 1976.5 KiB\n",
      "25/05/05 21:07:50 WARN DAGScheduler: Broadcasting large task binary with size 1981.6 KiB\n",
      "25/05/05 21:07:53 WARN DAGScheduler: Broadcasting large task binary with size 1978.9 KiB\n",
      "25/05/05 21:07:56 WARN DAGScheduler: Broadcasting large task binary with size 1982.1 KiB\n",
      "25/05/05 21:08:00 WARN DAGScheduler: Broadcasting large task binary with size 1981.4 KiB\n",
      "25/05/05 21:08:02 WARN DAGScheduler: Broadcasting large task binary with size 1982.7 KiB\n",
      "25/05/05 21:08:05 WARN DAGScheduler: Broadcasting large task binary with size 1981.9 KiB\n",
      "25/05/05 21:08:07 WARN DAGScheduler: Broadcasting large task binary with size 1983.9 KiB\n",
      "25/05/05 21:08:09 WARN DAGScheduler: Broadcasting large task binary with size 1982.5 KiB\n",
      "25/05/05 21:08:12 WARN DAGScheduler: Broadcasting large task binary with size 1986.3 KiB\n",
      "25/05/05 21:08:15 WARN DAGScheduler: Broadcasting large task binary with size 1983.7 KiB\n",
      "25/05/05 21:08:18 WARN DAGScheduler: Broadcasting large task binary with size 1640.3 KiB\n",
      "25/05/05 21:08:21 WARN DAGScheduler: Broadcasting large task binary with size 1985.8 KiB\n",
      "25/05/05 21:08:21 WARN DAGScheduler: Broadcasting large task binary with size 1641.4 KiB\n",
      "25/05/05 21:08:24 WARN DAGScheduler: Broadcasting large task binary with size 1640.3 KiB\n",
      "25/05/05 21:08:24 WARN DAGScheduler: Broadcasting large task binary with size 1641.4 KiB\n",
      "25/05/05 21:08:25 WARN DAGScheduler: Broadcasting large task binary with size 1608.6 KiB\n",
      "25/05/05 21:08:25 WARN DAGScheduler: Broadcasting large task binary with size 1608.6 KiB\n",
      "25/05/05 21:08:25 WARN DAGScheduler: Broadcasting large task binary with size 1608.6 KiB\n",
      "25/05/05 21:08:25 WARN DAGScheduler: Broadcasting large task binary with size 1608.6 KiB\n",
      "25/05/05 21:08:25 WARN DAGScheduler: Broadcasting large task binary with size 1648.4 KiB\n",
      "25/05/05 21:08:25 WARN DAGScheduler: Broadcasting large task binary with size 1648.4 KiB\n",
      "25/05/05 21:08:25 WARN DAGScheduler: Broadcasting large task binary with size 1648.4 KiB\n",
      "25/05/05 21:08:25 WARN DAGScheduler: Broadcasting large task binary with size 1648.5 KiB\n",
      "25/05/05 21:08:26 WARN DAGScheduler: Broadcasting large task binary with size 1648.5 KiB\n",
      "25/05/05 21:08:26 WARN DAGScheduler: Broadcasting large task binary with size 1648.4 KiB\n",
      "25/05/05 21:08:26 WARN DAGScheduler: Broadcasting large task binary with size 1648.5 KiB\n",
      "25/05/05 21:08:26 WARN DAGScheduler: Broadcasting large task binary with size 1652.6 KiB\n",
      "25/05/05 21:08:26 WARN DAGScheduler: Broadcasting large task binary with size 1652.6 KiB\n",
      "25/05/05 21:08:26 WARN DAGScheduler: Broadcasting large task binary with size 1648.5 KiB\n",
      "25/05/05 21:08:26 WARN DAGScheduler: Broadcasting large task binary with size 1652.6 KiB\n",
      "25/05/05 21:08:27 WARN DAGScheduler: Broadcasting large task binary with size 1912.9 KiB\n",
      "25/05/05 21:08:27 WARN DAGScheduler: Broadcasting large task binary with size 1912.9 KiB\n",
      "25/05/05 21:08:27 WARN DAGScheduler: Broadcasting large task binary with size 1652.6 KiB\n",
      "25/05/05 21:08:28 WARN DAGScheduler: Broadcasting large task binary with size 1912.9 KiB\n",
      "25/05/05 21:08:33 WARN DAGScheduler: Broadcasting large task binary with size 1913.8 KiB\n",
      "25/05/05 21:08:38 WARN DAGScheduler: Broadcasting large task binary with size 1913.8 KiB\n",
      "25/05/05 21:08:39 WARN DAGScheduler: Broadcasting large task binary with size 1912.9 KiB\n",
      "25/05/05 21:08:44 WARN DAGScheduler: Broadcasting large task binary with size 1913.8 KiB\n",
      "25/05/05 21:08:46 WARN DAGScheduler: Broadcasting large task binary with size 1914.5 KiB\n",
      "25/05/05 21:08:49 WARN DAGScheduler: Broadcasting large task binary with size 1914.5 KiB\n",
      "25/05/05 21:08:54 WARN DAGScheduler: Broadcasting large task binary with size 1913.8 KiB\n",
      "25/05/05 21:08:56 WARN DAGScheduler: Broadcasting large task binary with size 1914.5 KiB\n",
      "25/05/05 21:08:58 WARN DAGScheduler: Broadcasting large task binary with size 1921.3 KiB\n",
      "25/05/05 21:09:01 WARN DAGScheduler: Broadcasting large task binary with size 1921.3 KiB\n",
      "25/05/05 21:09:03 WARN DAGScheduler: Broadcasting large task binary with size 1914.5 KiB\n",
      "25/05/05 21:09:05 WARN DAGScheduler: Broadcasting large task binary with size 1915.7 KiB\n",
      "25/05/05 21:09:08 WARN DAGScheduler: Broadcasting large task binary with size 1921.8 KiB\n",
      "25/05/05 21:09:11 WARN DAGScheduler: Broadcasting large task binary with size 1921.8 KiB\n",
      "25/05/05 21:09:14 WARN DAGScheduler: Broadcasting large task binary with size 1915.7 KiB\n",
      "25/05/05 21:09:16 WARN DAGScheduler: Broadcasting large task binary with size 1918.1 KiB\n",
      "25/05/05 21:09:19 WARN DAGScheduler: Broadcasting large task binary with size 1922.4 KiB\n",
      "25/05/05 21:09:21 WARN DAGScheduler: Broadcasting large task binary with size 1922.4 KiB\n",
      "25/05/05 21:09:24 WARN DAGScheduler: Broadcasting large task binary with size 1918.1 KiB\n",
      "25/05/05 21:09:27 WARN DAGScheduler: Broadcasting large task binary with size 1925.5 KiB\n",
      "25/05/05 21:09:30 WARN DAGScheduler: Broadcasting large task binary with size 1924.9 KiB\n",
      "25/05/05 21:09:32 WARN DAGScheduler: Broadcasting large task binary with size 1924.9 KiB\n",
      "25/05/05 21:09:36 WARN DAGScheduler: Broadcasting large task binary with size 1925.5 KiB\n",
      "25/05/05 21:09:38 WARN DAGScheduler: Broadcasting large task binary with size 1926.0 KiB\n",
      "25/05/05 21:09:41 WARN DAGScheduler: Broadcasting large task binary with size 1925.4 KiB\n",
      "25/05/05 21:09:44 WARN DAGScheduler: Broadcasting large task binary with size 1925.4 KiB\n",
      "25/05/05 21:09:47 WARN DAGScheduler: Broadcasting large task binary with size 1926.0 KiB\n",
      "25/05/05 21:09:50 WARN DAGScheduler: Broadcasting large task binary with size 1926.6 KiB\n",
      "25/05/05 21:09:52 WARN DAGScheduler: Broadcasting large task binary with size 1926.1 KiB\n",
      "25/05/05 21:09:54 WARN DAGScheduler: Broadcasting large task binary with size 1926.1 KiB\n",
      "25/05/05 21:09:56 WARN DAGScheduler: Broadcasting large task binary with size 1926.6 KiB\n",
      "25/05/05 21:09:58 WARN DAGScheduler: Broadcasting large task binary with size 1927.8 KiB\n",
      "25/05/05 21:10:01 WARN DAGScheduler: Broadcasting large task binary with size 1928.3 KiB\n",
      "25/05/05 21:10:03 WARN DAGScheduler: Broadcasting large task binary with size 1928.3 KiB\n",
      "25/05/05 21:10:05 WARN DAGScheduler: Broadcasting large task binary with size 1927.8 KiB\n",
      "25/05/05 21:10:08 WARN DAGScheduler: Broadcasting large task binary with size 1930.2 KiB\n",
      "25/05/05 21:10:11 WARN DAGScheduler: Broadcasting large task binary with size 1928.8 KiB\n",
      "25/05/05 21:10:14 WARN DAGScheduler: Broadcasting large task binary with size 1928.8 KiB\n",
      "25/05/05 21:10:17 WARN DAGScheduler: Broadcasting large task binary with size 1929.9 KiB\n",
      "25/05/05 21:10:22 WARN DAGScheduler: Broadcasting large task binary with size 1933.0 KiB\n",
      "25/05/05 21:10:25 WARN DAGScheduler: Broadcasting large task binary with size 1929.4 KiB\n",
      "25/05/05 21:10:28 WARN DAGScheduler: Broadcasting large task binary with size 1929.4 KiB\n",
      "25/05/05 21:10:32 WARN DAGScheduler: Broadcasting large task binary with size 1932.8 KiB\n",
      "25/05/05 21:10:35 WARN DAGScheduler: Broadcasting large task binary with size 1933.5 KiB\n",
      "25/05/05 21:10:37 WARN DAGScheduler: Broadcasting large task binary with size 1931.7 KiB\n",
      "25/05/05 21:10:40 WARN DAGScheduler: Broadcasting large task binary with size 1931.7 KiB\n",
      "25/05/05 21:10:43 WARN DAGScheduler: Broadcasting large task binary with size 1933.3 KiB\n",
      "25/05/05 21:10:45 WARN DAGScheduler: Broadcasting large task binary with size 1934.1 KiB\n",
      "25/05/05 21:10:48 WARN DAGScheduler: Broadcasting large task binary with size 1932.2 KiB\n",
      "25/05/05 21:10:50 WARN DAGScheduler: Broadcasting large task binary with size 1932.2 KiB\n",
      "25/05/05 21:10:52 WARN DAGScheduler: Broadcasting large task binary with size 1933.8 KiB\n",
      "25/05/05 21:10:55 WARN DAGScheduler: Broadcasting large task binary with size 1935.3 KiB\n",
      "25/05/05 21:10:57 WARN DAGScheduler: Broadcasting large task binary with size 1932.8 KiB\n",
      "25/05/05 21:10:59 WARN DAGScheduler: Broadcasting large task binary with size 1932.8 KiB\n",
      "25/05/05 21:11:02 WARN DAGScheduler: Broadcasting large task binary with size 1935.0 KiB\n",
      "25/05/05 21:11:04 WARN DAGScheduler: Broadcasting large task binary with size 1937.6 KiB\n",
      "25/05/05 21:11:07 WARN DAGScheduler: Broadcasting large task binary with size 1935.1 KiB\n",
      "25/05/05 21:11:09 WARN DAGScheduler: Broadcasting large task binary with size 1935.1 KiB\n",
      "25/05/05 21:11:12 WARN DAGScheduler: Broadcasting large task binary with size 1937.4 KiB\n",
      "25/05/05 21:11:15 WARN DAGScheduler: Broadcasting large task binary with size 1940.5 KiB\n",
      "25/05/05 21:11:18 WARN DAGScheduler: Broadcasting large task binary with size 1935.6 KiB\n",
      "25/05/05 21:11:21 WARN DAGScheduler: Broadcasting large task binary with size 1935.6 KiB\n",
      "25/05/05 21:11:25 WARN DAGScheduler: Broadcasting large task binary with size 1940.2 KiB\n",
      "25/05/05 21:11:27 WARN DAGScheduler: Broadcasting large task binary with size 1941.0 KiB\n",
      "25/05/05 21:11:29 WARN DAGScheduler: Broadcasting large task binary with size 1936.1 KiB\n",
      "25/05/05 21:11:32 WARN DAGScheduler: Broadcasting large task binary with size 1936.1 KiB\n",
      "25/05/05 21:11:34 WARN DAGScheduler: Broadcasting large task binary with size 1940.7 KiB\n",
      "25/05/05 21:11:37 WARN DAGScheduler: Broadcasting large task binary with size 1941.6 KiB\n",
      "25/05/05 21:11:40 WARN DAGScheduler: Broadcasting large task binary with size 1938.5 KiB\n",
      "25/05/05 21:11:42 WARN DAGScheduler: Broadcasting large task binary with size 1938.5 KiB\n",
      "25/05/05 21:11:46 WARN DAGScheduler: Broadcasting large task binary with size 1941.3 KiB\n",
      "25/05/05 21:11:49 WARN DAGScheduler: Broadcasting large task binary with size 1942.7 KiB\n",
      "25/05/05 21:11:52 WARN DAGScheduler: Broadcasting large task binary with size 1938.9 KiB\n",
      "25/05/05 21:11:55 WARN DAGScheduler: Broadcasting large task binary with size 1938.9 KiB\n",
      "25/05/05 21:11:58 WARN DAGScheduler: Broadcasting large task binary with size 1942.4 KiB\n",
      "25/05/05 21:12:01 WARN DAGScheduler: Broadcasting large task binary with size 1945.1 KiB\n",
      "25/05/05 21:12:03 WARN DAGScheduler: Broadcasting large task binary with size 1939.6 KiB\n",
      "25/05/05 21:12:06 WARN DAGScheduler: Broadcasting large task binary with size 1939.6 KiB\n",
      "25/05/05 21:12:09 WARN DAGScheduler: Broadcasting large task binary with size 1944.8 KiB\n",
      "25/05/05 21:12:13 WARN DAGScheduler: Broadcasting large task binary with size 1947.7 KiB\n",
      "25/05/05 21:12:15 WARN DAGScheduler: Broadcasting large task binary with size 1941.7 KiB\n",
      "25/05/05 21:12:18 WARN DAGScheduler: Broadcasting large task binary with size 1941.9 KiB\n",
      "25/05/05 21:12:21 WARN DAGScheduler: Broadcasting large task binary with size 1947.5 KiB\n",
      "25/05/05 21:12:24 WARN DAGScheduler: Broadcasting large task binary with size 1948.2 KiB\n",
      "25/05/05 21:12:27 WARN DAGScheduler: Broadcasting large task binary with size 1942.2 KiB\n",
      "25/05/05 21:12:30 WARN DAGScheduler: Broadcasting large task binary with size 1942.4 KiB\n",
      "25/05/05 21:12:33 WARN DAGScheduler: Broadcasting large task binary with size 1947.9 KiB\n",
      "25/05/05 21:12:35 WARN DAGScheduler: Broadcasting large task binary with size 1948.8 KiB\n",
      "25/05/05 21:12:37 WARN DAGScheduler: Broadcasting large task binary with size 1942.8 KiB\n",
      "25/05/05 21:12:39 WARN DAGScheduler: Broadcasting large task binary with size 1943.0 KiB\n",
      "25/05/05 21:12:41 WARN DAGScheduler: Broadcasting large task binary with size 1948.6 KiB\n",
      "25/05/05 21:12:44 WARN DAGScheduler: Broadcasting large task binary with size 1950.0 KiB\n",
      "25/05/05 21:12:46 WARN DAGScheduler: Broadcasting large task binary with size 1945.1 KiB\n",
      "25/05/05 21:12:48 WARN DAGScheduler: Broadcasting large task binary with size 1945.3 KiB\n",
      "25/05/05 21:12:51 WARN DAGScheduler: Broadcasting large task binary with size 1949.8 KiB\n",
      "25/05/05 21:12:54 WARN DAGScheduler: Broadcasting large task binary with size 1952.3 KiB\n",
      "25/05/05 21:12:56 WARN DAGScheduler: Broadcasting large task binary with size 1945.6 KiB\n",
      "25/05/05 21:12:59 WARN DAGScheduler: Broadcasting large task binary with size 1945.8 KiB\n",
      "25/05/05 21:13:02 WARN DAGScheduler: Broadcasting large task binary with size 1952.1 KiB\n",
      "25/05/05 21:13:06 WARN DAGScheduler: Broadcasting large task binary with size 1955.2 KiB\n",
      "25/05/05 21:13:08 WARN DAGScheduler: Broadcasting large task binary with size 1946.2 KiB\n",
      "25/05/05 21:13:10 WARN DAGScheduler: Broadcasting large task binary with size 1946.4 KiB\n",
      "25/05/05 21:13:14 WARN DAGScheduler: Broadcasting large task binary with size 1954.9 KiB\n",
      "25/05/05 21:13:16 WARN DAGScheduler: Broadcasting large task binary with size 1955.7 KiB\n",
      "25/05/05 21:13:19 WARN DAGScheduler: Broadcasting large task binary with size 1948.5 KiB\n",
      "25/05/05 21:13:23 WARN DAGScheduler: Broadcasting large task binary with size 1948.7 KiB\n",
      "25/05/05 21:13:27 WARN DAGScheduler: Broadcasting large task binary with size 1955.4 KiB\n",
      "25/05/05 21:13:29 WARN DAGScheduler: Broadcasting large task binary with size 1956.2 KiB\n",
      "25/05/05 21:13:32 WARN DAGScheduler: Broadcasting large task binary with size 1949.0 KiB\n",
      "25/05/05 21:13:35 WARN DAGScheduler: Broadcasting large task binary with size 1949.2 KiB\n",
      "25/05/05 21:13:37 WARN DAGScheduler: Broadcasting large task binary with size 1956.0 KiB\n",
      "25/05/05 21:13:39 WARN DAGScheduler: Broadcasting large task binary with size 1957.4 KiB\n",
      "25/05/05 21:13:41 WARN DAGScheduler: Broadcasting large task binary with size 1949.6 KiB\n",
      "25/05/05 21:13:44 WARN DAGScheduler: Broadcasting large task binary with size 1949.8 KiB\n",
      "25/05/05 21:13:46 WARN DAGScheduler: Broadcasting large task binary with size 1957.1 KiB\n",
      "25/05/05 21:13:52 WARN DAGScheduler: Broadcasting large task binary with size 1959.9 KiB\n",
      "25/05/05 21:13:55 WARN DAGScheduler: Broadcasting large task binary with size 1608.5 KiB\n",
      "25/05/05 21:13:58 WARN DAGScheduler: Broadcasting large task binary with size 1608.5 KiB\n",
      "25/05/05 21:14:02 WARN DAGScheduler: Broadcasting large task binary with size 1959.6 KiB\n",
      "25/05/05 21:14:06 WARN DAGScheduler: Broadcasting large task binary with size 1962.9 KiB\n",
      "25/05/05 21:14:07 WARN DAGScheduler: Broadcasting large task binary with size 1640.3 KiB\n",
      "25/05/05 21:14:07 WARN DAGScheduler: Broadcasting large task binary with size 1640.3 KiB\n",
      "25/05/05 21:14:12 WARN DAGScheduler: Broadcasting large task binary with size 1962.1 KiB\n",
      "25/05/05 21:14:15 WARN DAGScheduler: Broadcasting large task binary with size 1963.4 KiB\n",
      "25/05/05 21:14:15 WARN DAGScheduler: Broadcasting large task binary with size 1641.4 KiB\n",
      "25/05/05 21:14:15 WARN DAGScheduler: Broadcasting large task binary with size 1641.4 KiB\n",
      "25/05/05 21:14:19 WARN DAGScheduler: Broadcasting large task binary with size 1962.5 KiB\n",
      "25/05/05 21:14:21 WARN DAGScheduler: Broadcasting large task binary with size 1963.9 KiB\n",
      "25/05/05 21:14:24 WARN DAGScheduler: Broadcasting large task binary with size 1963.1 KiB\n",
      "25/05/05 21:14:26 WARN DAGScheduler: Broadcasting large task binary with size 1965.1 KiB\n",
      "25/05/05 21:14:29 WARN DAGScheduler: Broadcasting large task binary with size 1964.3 KiB\n",
      "25/05/05 21:14:34 WARN DAGScheduler: Broadcasting large task binary with size 1967.5 KiB\n",
      "25/05/05 21:14:38 WARN DAGScheduler: Broadcasting large task binary with size 1966.8 KiB\n",
      "25/05/05 21:14:43 WARN DAGScheduler: Broadcasting large task binary with size 1970.5 KiB\n",
      "25/05/05 21:14:47 WARN DAGScheduler: Broadcasting large task binary with size 1969.5 KiB\n",
      "25/05/05 21:14:51 WARN DAGScheduler: Broadcasting large task binary with size 1971.0 KiB\n",
      "25/05/05 21:14:55 WARN DAGScheduler: Broadcasting large task binary with size 1970.0 KiB\n",
      "25/05/05 21:14:58 WARN DAGScheduler: Broadcasting large task binary with size 1971.6 KiB\n",
      "25/05/05 21:15:00 WARN DAGScheduler: Broadcasting large task binary with size 1970.6 KiB\n",
      "25/05/05 21:15:03 WARN DAGScheduler: Broadcasting large task binary with size 1972.8 KiB\n",
      "25/05/05 21:15:05 WARN DAGScheduler: Broadcasting large task binary with size 1971.8 KiB\n",
      "25/05/05 21:15:08 WARN DAGScheduler: Broadcasting large task binary with size 1975.2 KiB\n",
      "25/05/05 21:15:11 WARN DAGScheduler: Broadcasting large task binary with size 1974.2 KiB\n",
      "25/05/05 21:15:14 WARN DAGScheduler: Broadcasting large task binary with size 1977.8 KiB\n",
      "25/05/05 21:15:19 WARN DAGScheduler: Broadcasting large task binary with size 1976.9 KiB\n",
      "25/05/05 21:15:24 WARN DAGScheduler: Broadcasting large task binary with size 1978.3 KiB\n",
      "25/05/05 21:15:29 WARN DAGScheduler: Broadcasting large task binary with size 1977.4 KiB\n",
      "25/05/05 21:15:32 WARN DAGScheduler: Broadcasting large task binary with size 1978.9 KiB\n",
      "25/05/05 21:15:34 WARN DAGScheduler: Broadcasting large task binary with size 1978.0 KiB\n",
      "25/05/05 21:15:36 WARN DAGScheduler: Broadcasting large task binary with size 1980.2 KiB\n",
      "25/05/05 21:15:39 WARN DAGScheduler: Broadcasting large task binary with size 1979.2 KiB\n",
      "25/05/05 21:15:41 WARN DAGScheduler: Broadcasting large task binary with size 1982.3 KiB\n",
      "25/05/05 21:15:44 WARN DAGScheduler: Broadcasting large task binary with size 1981.6 KiB\n",
      "25/05/05 21:15:47 WARN DAGScheduler: Broadcasting large task binary with size 1984.8 KiB\n",
      "25/05/05 21:15:51 WARN DAGScheduler: Broadcasting large task binary with size 1983.7 KiB\n",
      "25/05/05 21:15:54 WARN DAGScheduler: Broadcasting large task binary with size 1985.3 KiB\n",
      "25/05/05 21:15:56 WARN DAGScheduler: Broadcasting large task binary with size 1984.2 KiB\n",
      "25/05/05 21:15:59 WARN DAGScheduler: Broadcasting large task binary with size 1985.9 KiB\n",
      "25/05/05 21:16:02 WARN DAGScheduler: Broadcasting large task binary with size 1984.8 KiB\n",
      "25/05/05 21:16:06 WARN DAGScheduler: Broadcasting large task binary with size 1987.1 KiB\n",
      "25/05/05 21:16:09 WARN DAGScheduler: Broadcasting large task binary with size 1985.9 KiB\n",
      "25/05/05 21:16:12 WARN DAGScheduler: Broadcasting large task binary with size 1989.4 KiB\n",
      "25/05/05 21:16:15 WARN DAGScheduler: Broadcasting large task binary with size 1987.7 KiB\n",
      "25/05/05 21:16:19 WARN DAGScheduler: Broadcasting large task binary with size 1640.3 KiB\n",
      "25/05/05 21:16:22 WARN DAGScheduler: Broadcasting large task binary with size 1641.4 KiB\n",
      "25/05/05 21:16:22 WARN DAGScheduler: Broadcasting large task binary with size 1640.3 KiB\n",
      "25/05/05 21:16:22 WARN DAGScheduler: Broadcasting large task binary with size 1641.4 KiB\n",
      "25/05/05 21:16:22 WARN DAGScheduler: Broadcasting large task binary with size 1608.5 KiB\n",
      "25/05/05 21:16:22 WARN DAGScheduler: Broadcasting large task binary with size 1608.5 KiB\n",
      "25/05/05 21:16:22 WARN DAGScheduler: Broadcasting large task binary with size 1608.5 KiB\n",
      "25/05/05 21:16:22 WARN DAGScheduler: Broadcasting large task binary with size 1608.5 KiB\n",
      "25/05/05 21:16:23 WARN DAGScheduler: Broadcasting large task binary with size 1648.4 KiB\n",
      "25/05/05 21:16:23 WARN DAGScheduler: Broadcasting large task binary with size 1648.4 KiB\n",
      "25/05/05 21:16:23 WARN DAGScheduler: Broadcasting large task binary with size 1648.4 KiB\n",
      "25/05/05 21:16:23 WARN DAGScheduler: Broadcasting large task binary with size 1648.4 KiB\n",
      "25/05/05 21:16:23 WARN DAGScheduler: Broadcasting large task binary with size 1648.4 KiB\n",
      "25/05/05 21:16:23 WARN DAGScheduler: Broadcasting large task binary with size 1648.4 KiB\n",
      "25/05/05 21:16:23 WARN DAGScheduler: Broadcasting large task binary with size 1648.4 KiB\n",
      "25/05/05 21:16:23 WARN DAGScheduler: Broadcasting large task binary with size 1652.6 KiB\n",
      "25/05/05 21:16:24 WARN DAGScheduler: Broadcasting large task binary with size 1652.6 KiB\n",
      "25/05/05 21:16:24 WARN DAGScheduler: Broadcasting large task binary with size 1652.6 KiB\n",
      "25/05/05 21:16:24 WARN DAGScheduler: Broadcasting large task binary with size 1648.4 KiB\n",
      "25/05/05 21:16:24 WARN DAGScheduler: Broadcasting large task binary with size 1912.9 KiB\n",
      "25/05/05 21:16:24 WARN DAGScheduler: Broadcasting large task binary with size 1912.9 KiB\n",
      "25/05/05 21:16:25 WARN DAGScheduler: Broadcasting large task binary with size 1912.9 KiB\n",
      "25/05/05 21:16:25 WARN DAGScheduler: Broadcasting large task binary with size 1652.6 KiB\n",
      "25/05/05 21:16:31 WARN DAGScheduler: Broadcasting large task binary with size 1913.8 KiB\n",
      "25/05/05 21:16:37 WARN DAGScheduler: Broadcasting large task binary with size 1913.8 KiB\n",
      "25/05/05 21:16:46 WARN DAGScheduler: Broadcasting large task binary with size 1913.8 KiB\n",
      "25/05/05 21:16:47 WARN DAGScheduler: Broadcasting large task binary with size 1912.9 KiB\n",
      "25/05/05 21:16:49 WARN DAGScheduler: Broadcasting large task binary with size 1914.5 KiB\n",
      "25/05/05 21:16:51 WARN DAGScheduler: Broadcasting large task binary with size 1914.5 KiB\n",
      "25/05/05 21:16:54 WARN DAGScheduler: Broadcasting large task binary with size 1914.5 KiB\n",
      "25/05/05 21:16:58 WARN DAGScheduler: Broadcasting large task binary with size 1913.8 KiB\n",
      "25/05/05 21:17:01 WARN DAGScheduler: Broadcasting large task binary with size 1915.7 KiB\n",
      "25/05/05 21:17:03 WARN DAGScheduler: Broadcasting large task binary with size 1921.3 KiB\n",
      "25/05/05 21:17:05 WARN DAGScheduler: Broadcasting large task binary with size 1921.3 KiB\n",
      "25/05/05 21:17:07 WARN DAGScheduler: Broadcasting large task binary with size 1914.5 KiB\n",
      "25/05/05 21:17:09 WARN DAGScheduler: Broadcasting large task binary with size 1918.1 KiB\n",
      "25/05/05 21:17:12 WARN DAGScheduler: Broadcasting large task binary with size 1921.8 KiB\n",
      "25/05/05 21:17:14 WARN DAGScheduler: Broadcasting large task binary with size 1921.8 KiB\n",
      "25/05/05 21:17:17 WARN DAGScheduler: Broadcasting large task binary with size 1915.7 KiB\n",
      "25/05/05 21:17:20 WARN DAGScheduler: Broadcasting large task binary with size 1925.5 KiB\n",
      "25/05/05 21:17:22 WARN DAGScheduler: Broadcasting large task binary with size 1922.4 KiB\n",
      "25/05/05 21:17:24 WARN DAGScheduler: Broadcasting large task binary with size 1922.4 KiB\n",
      "25/05/05 21:17:26 WARN DAGScheduler: Broadcasting large task binary with size 1918.1 KiB\n",
      "25/05/05 21:17:29 WARN DAGScheduler: Broadcasting large task binary with size 1926.0 KiB\n",
      "25/05/05 21:17:31 WARN DAGScheduler: Broadcasting large task binary with size 1924.9 KiB\n",
      "25/05/05 21:17:33 WARN DAGScheduler: Broadcasting large task binary with size 1924.9 KiB\n",
      "25/05/05 21:17:37 WARN DAGScheduler: Broadcasting large task binary with size 1925.5 KiB\n",
      "25/05/05 21:17:39 WARN DAGScheduler: Broadcasting large task binary with size 1926.6 KiB\n",
      "25/05/05 21:17:42 WARN DAGScheduler: Broadcasting large task binary with size 1925.4 KiB\n",
      "25/05/05 21:17:44 WARN DAGScheduler: Broadcasting large task binary with size 1925.4 KiB\n",
      "25/05/05 21:17:47 WARN DAGScheduler: Broadcasting large task binary with size 1926.0 KiB\n",
      "25/05/05 21:17:49 WARN DAGScheduler: Broadcasting large task binary with size 1927.8 KiB\n",
      "25/05/05 21:17:52 WARN DAGScheduler: Broadcasting large task binary with size 1926.0 KiB\n",
      "25/05/05 21:17:54 WARN DAGScheduler: Broadcasting large task binary with size 1926.0 KiB\n",
      "25/05/05 21:17:56 WARN DAGScheduler: Broadcasting large task binary with size 1926.6 KiB\n",
      "25/05/05 21:17:59 WARN DAGScheduler: Broadcasting large task binary with size 1930.2 KiB\n",
      "25/05/05 21:18:01 WARN DAGScheduler: Broadcasting large task binary with size 1928.3 KiB\n",
      "25/05/05 21:18:03 WARN DAGScheduler: Broadcasting large task binary with size 1928.3 KiB\n",
      "25/05/05 21:18:06 WARN DAGScheduler: Broadcasting large task binary with size 1927.8 KiB\n",
      "25/05/05 21:18:09 WARN DAGScheduler: Broadcasting large task binary with size 1933.1 KiB\n",
      "25/05/05 21:18:12 WARN DAGScheduler: Broadcasting large task binary with size 1928.7 KiB\n",
      "25/05/05 21:18:15 WARN DAGScheduler: Broadcasting large task binary with size 1928.7 KiB\n",
      "25/05/05 21:18:17 WARN DAGScheduler: Broadcasting large task binary with size 1930.2 KiB\n",
      "25/05/05 21:18:20 WARN DAGScheduler: Broadcasting large task binary with size 1933.7 KiB\n",
      "25/05/05 21:18:22 WARN DAGScheduler: Broadcasting large task binary with size 1929.4 KiB\n",
      "25/05/05 21:18:24 WARN DAGScheduler: Broadcasting large task binary with size 1929.4 KiB\n",
      "25/05/05 21:18:28 WARN DAGScheduler: Broadcasting large task binary with size 1933.2 KiB\n",
      "25/05/05 21:18:30 WARN DAGScheduler: Broadcasting large task binary with size 1934.3 KiB\n",
      "25/05/05 21:18:32 WARN DAGScheduler: Broadcasting large task binary with size 1931.6 KiB\n",
      "25/05/05 21:18:34 WARN DAGScheduler: Broadcasting large task binary with size 1931.6 KiB\n",
      "25/05/05 21:18:37 WARN DAGScheduler: Broadcasting large task binary with size 1933.7 KiB\n",
      "25/05/05 21:18:40 WARN DAGScheduler: Broadcasting large task binary with size 1935.4 KiB\n",
      "25/05/05 21:18:42 WARN DAGScheduler: Broadcasting large task binary with size 1932.2 KiB\n",
      "25/05/05 21:18:45 WARN DAGScheduler: Broadcasting large task binary with size 1932.2 KiB\n",
      "25/05/05 21:18:47 WARN DAGScheduler: Broadcasting large task binary with size 1934.3 KiB\n",
      "25/05/05 21:18:50 WARN DAGScheduler: Broadcasting large task binary with size 1937.9 KiB\n",
      "25/05/05 21:18:52 WARN DAGScheduler: Broadcasting large task binary with size 1932.7 KiB\n",
      "25/05/05 21:18:54 WARN DAGScheduler: Broadcasting large task binary with size 1932.7 KiB\n",
      "25/05/05 21:18:57 WARN DAGScheduler: Broadcasting large task binary with size 1935.4 KiB\n",
      "25/05/05 21:19:00 WARN DAGScheduler: Broadcasting large task binary with size 1940.4 KiB\n",
      "25/05/05 21:19:02 WARN DAGScheduler: Broadcasting large task binary with size 1935.0 KiB\n",
      "25/05/05 21:19:05 WARN DAGScheduler: Broadcasting large task binary with size 1935.0 KiB\n",
      "25/05/05 21:19:08 WARN DAGScheduler: Broadcasting large task binary with size 1937.9 KiB\n",
      "25/05/05 21:19:11 WARN DAGScheduler: Broadcasting large task binary with size 1940.9 KiB\n",
      "25/05/05 21:19:14 WARN DAGScheduler: Broadcasting large task binary with size 1935.5 KiB\n",
      "25/05/05 21:19:17 WARN DAGScheduler: Broadcasting large task binary with size 1935.5 KiB\n",
      "25/05/05 21:19:20 WARN DAGScheduler: Broadcasting large task binary with size 1940.8 KiB\n",
      "25/05/05 21:19:22 WARN DAGScheduler: Broadcasting large task binary with size 1941.5 KiB\n",
      "25/05/05 21:19:24 WARN DAGScheduler: Broadcasting large task binary with size 1936.2 KiB\n",
      "25/05/05 21:19:26 WARN DAGScheduler: Broadcasting large task binary with size 1936.2 KiB\n",
      "25/05/05 21:19:29 WARN DAGScheduler: Broadcasting large task binary with size 1941.3 KiB\n",
      "25/05/05 21:19:31 WARN DAGScheduler: Broadcasting large task binary with size 1942.7 KiB\n",
      "25/05/05 21:19:34 WARN DAGScheduler: Broadcasting large task binary with size 1938.4 KiB\n",
      "25/05/05 21:19:36 WARN DAGScheduler: Broadcasting large task binary with size 1938.4 KiB\n",
      "25/05/05 21:19:38 WARN DAGScheduler: Broadcasting large task binary with size 1941.9 KiB\n",
      "25/05/05 21:19:41 WARN DAGScheduler: Broadcasting large task binary with size 1945.2 KiB\n",
      "25/05/05 21:19:44 WARN DAGScheduler: Broadcasting large task binary with size 1938.9 KiB\n",
      "25/05/05 21:19:46 WARN DAGScheduler: Broadcasting large task binary with size 1938.9 KiB\n",
      "25/05/05 21:19:49 WARN DAGScheduler: Broadcasting large task binary with size 1943.1 KiB\n",
      "25/05/05 21:19:52 WARN DAGScheduler: Broadcasting large task binary with size 1947.7 KiB\n",
      "25/05/05 21:19:54 WARN DAGScheduler: Broadcasting large task binary with size 1939.5 KiB\n",
      "25/05/05 21:19:57 WARN DAGScheduler: Broadcasting large task binary with size 1939.5 KiB\n",
      "25/05/05 21:20:00 WARN DAGScheduler: Broadcasting large task binary with size 1945.6 KiB\n",
      "25/05/05 21:20:02 WARN DAGScheduler: Broadcasting large task binary with size 1948.3 KiB\n",
      "25/05/05 21:20:05 WARN DAGScheduler: Broadcasting large task binary with size 1941.7 KiB\n",
      "25/05/05 21:20:07 WARN DAGScheduler: Broadcasting large task binary with size 1941.7 KiB\n",
      "25/05/05 21:20:10 WARN DAGScheduler: Broadcasting large task binary with size 1948.4 KiB\n",
      "25/05/05 21:20:12 WARN DAGScheduler: Broadcasting large task binary with size 1948.9 KiB\n",
      "25/05/05 21:20:15 WARN DAGScheduler: Broadcasting large task binary with size 1942.2 KiB\n",
      "25/05/05 21:20:17 WARN DAGScheduler: Broadcasting large task binary with size 1942.2 KiB\n",
      "25/05/05 21:20:20 WARN DAGScheduler: Broadcasting large task binary with size 1948.9 KiB\n",
      "25/05/05 21:20:23 WARN DAGScheduler: Broadcasting large task binary with size 1950.0 KiB\n",
      "25/05/05 21:20:25 WARN DAGScheduler: Broadcasting large task binary with size 1942.8 KiB\n",
      "25/05/05 21:20:27 WARN DAGScheduler: Broadcasting large task binary with size 1942.8 KiB\n",
      "25/05/05 21:20:29 WARN DAGScheduler: Broadcasting large task binary with size 1949.5 KiB\n",
      "25/05/05 21:20:32 WARN DAGScheduler: Broadcasting large task binary with size 1952.4 KiB\n",
      "25/05/05 21:20:34 WARN DAGScheduler: Broadcasting large task binary with size 1945.1 KiB\n",
      "25/05/05 21:20:36 WARN DAGScheduler: Broadcasting large task binary with size 1945.1 KiB\n",
      "25/05/05 21:20:39 WARN DAGScheduler: Broadcasting large task binary with size 1950.7 KiB\n",
      "25/05/05 21:20:42 WARN DAGScheduler: Broadcasting large task binary with size 1954.8 KiB\n",
      "25/05/05 21:20:45 WARN DAGScheduler: Broadcasting large task binary with size 1945.6 KiB\n",
      "25/05/05 21:20:48 WARN DAGScheduler: Broadcasting large task binary with size 1945.6 KiB\n",
      "25/05/05 21:20:51 WARN DAGScheduler: Broadcasting large task binary with size 1953.1 KiB\n",
      "25/05/05 21:20:53 WARN DAGScheduler: Broadcasting large task binary with size 1955.3 KiB\n",
      "25/05/05 21:20:55 WARN DAGScheduler: Broadcasting large task binary with size 1946.2 KiB\n",
      "25/05/05 21:20:58 WARN DAGScheduler: Broadcasting large task binary with size 1946.2 KiB\n",
      "25/05/05 21:21:01 WARN DAGScheduler: Broadcasting large task binary with size 1956.1 KiB\n",
      "25/05/05 21:21:03 WARN DAGScheduler: Broadcasting large task binary with size 1955.9 KiB\n",
      "25/05/05 21:21:05 WARN DAGScheduler: Broadcasting large task binary with size 1948.4 KiB\n",
      "25/05/05 21:21:08 WARN DAGScheduler: Broadcasting large task binary with size 1948.4 KiB\n",
      "25/05/05 21:21:11 WARN DAGScheduler: Broadcasting large task binary with size 1956.6 KiB\n",
      "25/05/05 21:21:13 WARN DAGScheduler: Broadcasting large task binary with size 1957.1 KiB\n",
      "25/05/05 21:21:16 WARN DAGScheduler: Broadcasting large task binary with size 1948.9 KiB\n",
      "25/05/05 21:21:19 WARN DAGScheduler: Broadcasting large task binary with size 1948.9 KiB\n",
      "25/05/05 21:21:21 WARN DAGScheduler: Broadcasting large task binary with size 1957.2 KiB\n",
      "25/05/05 21:21:24 WARN DAGScheduler: Broadcasting large task binary with size 1959.5 KiB\n",
      "25/05/05 21:21:25 WARN DAGScheduler: Broadcasting large task binary with size 1949.5 KiB\n",
      "25/05/05 21:21:28 WARN DAGScheduler: Broadcasting large task binary with size 1949.5 KiB\n",
      "25/05/05 21:21:30 WARN DAGScheduler: Broadcasting large task binary with size 1958.4 KiB\n",
      "25/05/05 21:21:33 WARN DAGScheduler: Broadcasting large task binary with size 1962.3 KiB\n",
      "25/05/05 21:21:36 WARN DAGScheduler: Broadcasting large task binary with size 1608.5 KiB\n",
      "25/05/05 21:21:38 WARN DAGScheduler: Broadcasting large task binary with size 1608.5 KiB\n",
      "25/05/05 21:21:41 WARN DAGScheduler: Broadcasting large task binary with size 1960.8 KiB\n",
      "25/05/05 21:21:43 WARN DAGScheduler: Broadcasting large task binary with size 1962.8 KiB\n",
      "25/05/05 21:21:43 WARN DAGScheduler: Broadcasting large task binary with size 1640.3 KiB\n",
      "25/05/05 21:21:43 WARN DAGScheduler: Broadcasting large task binary with size 1640.3 KiB\n",
      "25/05/05 21:21:47 WARN DAGScheduler: Broadcasting large task binary with size 1963.6 KiB\n",
      "25/05/05 21:21:49 WARN DAGScheduler: Broadcasting large task binary with size 1963.4 KiB\n",
      "25/05/05 21:21:49 WARN DAGScheduler: Broadcasting large task binary with size 1641.4 KiB\n",
      "25/05/05 21:21:49 WARN DAGScheduler: Broadcasting large task binary with size 1641.4 KiB\n",
      "25/05/05 21:21:53 WARN DAGScheduler: Broadcasting large task binary with size 1964.1 KiB\n",
      "25/05/05 21:21:56 WARN DAGScheduler: Broadcasting large task binary with size 1964.6 KiB\n",
      "25/05/05 21:21:58 WARN DAGScheduler: Broadcasting large task binary with size 1964.7 KiB\n",
      "25/05/05 21:22:00 WARN DAGScheduler: Broadcasting large task binary with size 1966.9 KiB\n",
      "25/05/05 21:22:04 WARN DAGScheduler: Broadcasting large task binary with size 1965.9 KiB\n",
      "25/05/05 21:22:07 WARN DAGScheduler: Broadcasting large task binary with size 1969.6 KiB\n",
      "25/05/05 21:22:10 WARN DAGScheduler: Broadcasting large task binary with size 1968.3 KiB\n",
      "25/05/05 21:22:13 WARN DAGScheduler: Broadcasting large task binary with size 1970.0 KiB\n",
      "25/05/05 21:22:16 WARN DAGScheduler: Broadcasting large task binary with size 1970.9 KiB\n",
      "25/05/05 21:22:18 WARN DAGScheduler: Broadcasting large task binary with size 1970.6 KiB\n",
      "25/05/05 21:22:21 WARN DAGScheduler: Broadcasting large task binary with size 1971.4 KiB\n",
      "25/05/05 21:22:24 WARN DAGScheduler: Broadcasting large task binary with size 1971.8 KiB\n",
      "25/05/05 21:22:26 WARN DAGScheduler: Broadcasting large task binary with size 1972.0 KiB\n",
      "25/05/05 21:22:29 WARN DAGScheduler: Broadcasting large task binary with size 1974.1 KiB\n",
      "25/05/05 21:22:31 WARN DAGScheduler: Broadcasting large task binary with size 1973.1 KiB\n",
      "25/05/05 21:22:35 WARN DAGScheduler: Broadcasting large task binary with size 1976.9 KiB\n",
      "25/05/05 21:22:38 WARN DAGScheduler: Broadcasting large task binary with size 1975.2 KiB\n",
      "25/05/05 21:22:41 WARN DAGScheduler: Broadcasting large task binary with size 1977.4 KiB\n",
      "25/05/05 21:22:44 WARN DAGScheduler: Broadcasting large task binary with size 1977.5 KiB\n",
      "25/05/05 21:22:46 WARN DAGScheduler: Broadcasting large task binary with size 1978.0 KiB\n",
      "25/05/05 21:22:49 WARN DAGScheduler: Broadcasting large task binary with size 1978.0 KiB\n",
      "25/05/05 21:22:51 WARN DAGScheduler: Broadcasting large task binary with size 1979.3 KiB\n",
      "25/05/05 21:22:53 WARN DAGScheduler: Broadcasting large task binary with size 1978.6 KiB\n",
      "25/05/05 21:22:56 WARN DAGScheduler: Broadcasting large task binary with size 1981.7 KiB\n",
      "25/05/05 21:22:59 WARN DAGScheduler: Broadcasting large task binary with size 1979.9 KiB\n",
      "25/05/05 21:23:02 WARN DAGScheduler: Broadcasting large task binary with size 1984.3 KiB\n",
      "25/05/05 21:23:04 WARN DAGScheduler: Broadcasting large task binary with size 1982.2 KiB\n",
      "25/05/05 21:23:07 WARN DAGScheduler: Broadcasting large task binary with size 1984.8 KiB\n",
      "25/05/05 21:23:11 WARN DAGScheduler: Broadcasting large task binary with size 1985.0 KiB\n",
      "25/05/05 21:23:13 WARN DAGScheduler: Broadcasting large task binary with size 1985.4 KiB\n",
      "25/05/05 21:23:15 WARN DAGScheduler: Broadcasting large task binary with size 1985.5 KiB\n",
      "25/05/05 21:23:18 WARN DAGScheduler: Broadcasting large task binary with size 1986.5 KiB\n",
      "25/05/05 21:23:20 WARN DAGScheduler: Broadcasting large task binary with size 1986.1 KiB\n",
      "25/05/05 21:23:23 WARN DAGScheduler: Broadcasting large task binary with size 1988.9 KiB\n",
      "25/05/05 21:23:25 WARN DAGScheduler: Broadcasting large task binary with size 1987.2 KiB\n",
      "25/05/05 21:23:28 WARN DAGScheduler: Broadcasting large task binary with size 1640.3 KiB\n",
      "25/05/05 21:23:31 WARN DAGScheduler: Broadcasting large task binary with size 1989.6 KiB\n",
      "25/05/05 21:23:31 WARN DAGScheduler: Broadcasting large task binary with size 1641.4 KiB\n",
      "25/05/05 21:23:34 WARN DAGScheduler: Broadcasting large task binary with size 1640.3 KiB\n",
      "25/05/05 21:23:35 WARN DAGScheduler: Broadcasting large task binary with size 1641.4 KiB\n",
      "25/05/05 21:23:35 WARN DAGScheduler: Broadcasting large task binary with size 1630.7 KiB\n",
      "25/05/05 21:23:35 WARN DAGScheduler: Broadcasting large task binary with size 1630.8 KiB\n",
      "25/05/05 21:23:35 WARN DAGScheduler: Broadcasting large task binary with size 1634.9 KiB\n",
      "25/05/05 21:23:36 WARN DAGScheduler: Broadcasting large task binary with size 1895.2 KiB\n",
      "25/05/05 21:23:44 WARN DAGScheduler: Broadcasting large task binary with size 1896.1 KiB\n",
      "25/05/05 21:23:47 WARN DAGScheduler: Broadcasting large task binary with size 1896.8 KiB\n",
      "25/05/05 21:23:50 WARN DAGScheduler: Broadcasting large task binary with size 1898.0 KiB\n",
      "25/05/05 21:23:53 WARN DAGScheduler: Broadcasting large task binary with size 1900.4 KiB\n",
      "25/05/05 21:23:57 WARN DAGScheduler: Broadcasting large task binary with size 1907.8 KiB\n",
      "25/05/05 21:24:02 WARN DAGScheduler: Broadcasting large task binary with size 1908.3 KiB\n",
      "25/05/05 21:24:05 WARN DAGScheduler: Broadcasting large task binary with size 1908.9 KiB\n",
      "25/05/05 21:24:08 WARN DAGScheduler: Broadcasting large task binary with size 1910.1 KiB\n",
      "25/05/05 21:24:12 WARN DAGScheduler: Broadcasting large task binary with size 1912.4 KiB\n",
      "25/05/05 21:24:16 WARN DAGScheduler: Broadcasting large task binary with size 1915.4 KiB\n",
      "25/05/05 21:24:22 WARN DAGScheduler: Broadcasting large task binary with size 1915.9 KiB\n",
      "25/05/05 21:24:30 WARN DAGScheduler: Broadcasting large task binary with size 1916.5 KiB\n",
      "25/05/05 21:24:35 WARN DAGScheduler: Broadcasting large task binary with size 1917.7 KiB\n",
      "25/05/05 21:24:41 WARN DAGScheduler: Broadcasting large task binary with size 1920.1 KiB\n",
      "25/05/05 21:24:48 WARN DAGScheduler: Broadcasting large task binary with size 1923.0 KiB\n",
      "25/05/05 21:24:55 WARN DAGScheduler: Broadcasting large task binary with size 1923.5 KiB\n",
      "25/05/05 21:24:58 WARN DAGScheduler: Broadcasting large task binary with size 1924.1 KiB\n",
      "25/05/05 21:25:02 WARN DAGScheduler: Broadcasting large task binary with size 1925.3 KiB\n",
      "25/05/05 21:25:07 WARN DAGScheduler: Broadcasting large task binary with size 1927.4 KiB\n",
      "25/05/05 21:25:11 WARN DAGScheduler: Broadcasting large task binary with size 1929.9 KiB\n",
      "25/05/05 21:25:15 WARN DAGScheduler: Broadcasting large task binary with size 1930.4 KiB\n",
      "25/05/05 21:25:18 WARN DAGScheduler: Broadcasting large task binary with size 1931.0 KiB\n",
      "25/05/05 21:25:21 WARN DAGScheduler: Broadcasting large task binary with size 1932.2 KiB\n",
      "25/05/05 21:25:25 WARN DAGScheduler: Broadcasting large task binary with size 1934.6 KiB\n",
      "25/05/05 21:25:29 WARN DAGScheduler: Broadcasting large task binary with size 1937.2 KiB\n",
      "25/05/05 21:25:34 WARN DAGScheduler: Broadcasting large task binary with size 1937.7 KiB\n",
      "25/05/05 21:25:37 WARN DAGScheduler: Broadcasting large task binary with size 1938.2 KiB\n",
      "25/05/05 21:25:40 WARN DAGScheduler: Broadcasting large task binary with size 1939.5 KiB\n",
      "25/05/05 21:25:45 WARN DAGScheduler: Broadcasting large task binary with size 1941.8 KiB\n",
      "25/05/05 21:25:50 WARN DAGScheduler: Broadcasting large task binary with size 1944.6 KiB\n",
      "25/05/05 21:25:55 WARN DAGScheduler: Broadcasting large task binary with size 1945.1 KiB\n",
      "25/05/05 21:26:02 WARN DAGScheduler: Broadcasting large task binary with size 1945.7 KiB\n",
      "25/05/05 21:26:07 WARN DAGScheduler: Broadcasting large task binary with size 1946.9 KiB\n",
      "25/05/05 21:26:13 WARN DAGScheduler: Broadcasting large task binary with size 1949.1 KiB\n",
      "25/05/05 21:26:20 WARN DAGScheduler: Broadcasting large task binary with size 1951.5 KiB\n",
      "25/05/05 21:26:26 WARN DAGScheduler: Broadcasting large task binary with size 1952.0 KiB\n",
      "25/05/05 21:26:30 WARN DAGScheduler: Broadcasting large task binary with size 1952.6 KiB\n",
      "25/05/05 21:26:34 WARN DAGScheduler: Broadcasting large task binary with size 1953.7 KiB\n",
      "25/05/05 21:26:38 WARN DAGScheduler: Broadcasting large task binary with size 1956.1 KiB\n",
      "25/05/05 21:26:43 WARN DAGScheduler: Broadcasting large task binary with size 1958.8 KiB\n",
      "25/05/05 21:26:48 WARN DAGScheduler: Broadcasting large task binary with size 1959.3 KiB\n",
      "25/05/05 21:26:51 WARN DAGScheduler: Broadcasting large task binary with size 1959.9 KiB\n",
      "25/05/05 21:26:54 WARN DAGScheduler: Broadcasting large task binary with size 1961.1 KiB\n",
      "25/05/05 21:26:58 WARN DAGScheduler: Broadcasting large task binary with size 1963.4 KiB\n",
      "25/05/05 21:27:03 WARN DAGScheduler: Broadcasting large task binary with size 1965.6 KiB\n",
      "25/05/05 21:27:07 WARN DAGScheduler: Broadcasting large task binary with size 1966.1 KiB\n",
      "25/05/05 21:27:10 WARN DAGScheduler: Broadcasting large task binary with size 1966.7 KiB\n",
      "25/05/05 21:27:13 WARN DAGScheduler: Broadcasting large task binary with size 1967.9 KiB\n",
      "25/05/05 21:27:17 WARN DAGScheduler: Broadcasting large task binary with size 1970.2 KiB\n",
      "                                                                                \r"
     ]
    },
    {
     "data": {
      "text/plain": [
       "GBTRegressionModel: uid=GBTRegressor_e7007ff84291, numTrees=10, numFeatures=9436"
      ]
     },
     "execution_count": 66,
     "metadata": {},
     "output_type": "execute_result"
    }
   ],
   "source": [
    "from pyspark.ml.tuning import ParamGridBuilder, CrossValidator \n",
    "\n",
    "import numpy as np\n",
    "# grid = ParamGridBuilder()\n",
    "# grid = grid.addGrid(model_gbt.regParam, np.logspace(-2, -1, 3)).build()\n",
    "\n",
    "grid = ParamGridBuilder()\\\n",
    "    .addGrid(gbt.maxDepth, [3, 5])\\\n",
    "    .addGrid(gbt.minInstancesPerNode, [1, 2])\\\n",
    "    .build()\n",
    "cv = CrossValidator(estimator = gbt, \n",
    "                    estimatorParamMaps = grid, \n",
    "                    evaluator = evaluator2_rmse,\n",
    "                    parallelism = 5,\n",
    "                    numFolds=3)\n",
    "\n",
    "cvModel = cv.fit(train_data)\n",
    "bestModel = cvModel.bestModel\n",
    "bestModel"
   ]
  },
  {
   "cell_type": "markdown",
   "id": "1524320f-8764-4ed4-b8ff-9d0a43b2ee29",
   "metadata": {},
   "source": [
    "## Best model 2\n"
   ]
  },
  {
   "cell_type": "code",
   "execution_count": 67,
   "id": "ccafef7f-5a51-4370-8572-447f06b92248",
   "metadata": {},
   "outputs": [
    {
     "name": "stdout",
     "output_type": "stream",
     "text": [
      "{Param(parent='GBTRegressor_e7007ff84291', name='maxDepth', doc='Maximum depth of the tree. (>= 0) E.g., depth 0 means 1 leaf node; depth 1 means 1 internal node + 2 leaf nodes. Must be in range [0, 30].'): 5,\n",
      " Param(parent='GBTRegressor_e7007ff84291', name='maxBins', doc='Max number of bins for discretizing continuous features.  Must be >=2 and >= number of categories for any categorical feature.'): 32,\n",
      " Param(parent='GBTRegressor_e7007ff84291', name='stepSize', doc='Step size (a.k.a. learning rate) in interval (0, 1] for shrinking the contribution of each estimator.'): 0.1,\n",
      " Param(parent='GBTRegressor_e7007ff84291', name='featuresCol', doc='features column name.'): 'features',\n",
      " Param(parent='GBTRegressor_e7007ff84291', name='maxIter', doc='max number of iterations (>= 0).'): 10,\n",
      " Param(parent='GBTRegressor_e7007ff84291', name='minInfoGain', doc='Minimum information gain for a split to be considered at a tree node.'): 0.0,\n",
      " Param(parent='GBTRegressor_e7007ff84291', name='validationTol', doc='Threshold for stopping early when fit with validation is used. If the error rate on the validation input changes by less than the validationTol, then learning will stop early (before `maxIter`). This parameter is ignored when fit without validation is used.'): 0.01,\n",
      " Param(parent='GBTRegressor_e7007ff84291', name='impurity', doc='Criterion used for information gain calculation (case-insensitive). Supported options: variance'): 'variance',\n",
      " Param(parent='GBTRegressor_e7007ff84291', name='maxMemoryInMB', doc='Maximum memory in MB allocated to histogram aggregation. If too small, then 1 node will be split per iteration, and its aggregates may exceed this size.'): 256,\n",
      " Param(parent='GBTRegressor_e7007ff84291', name='seed', doc='random seed.'): -8269245244200097143,\n",
      " Param(parent='GBTRegressor_e7007ff84291', name='lossType', doc='Loss function which GBT tries to minimize (case-insensitive). Supported options: squared, absolute'): 'squared',\n",
      " Param(parent='GBTRegressor_e7007ff84291', name='predictionCol', doc='prediction column name.'): 'prediction',\n",
      " Param(parent='GBTRegressor_e7007ff84291', name='featureSubsetStrategy', doc=\"The number of features to consider for splits at each tree node. Supported options: 'auto' (choose automatically for task: If numTrees == 1, set to 'all'. If numTrees > 1 (forest), set to 'sqrt' for classification and to 'onethird' for regression), 'all' (use all features), 'onethird' (use 1/3 of the features), 'sqrt' (use sqrt(number of features)), 'log2' (use log2(number of features)), 'n' (when n is in the range (0, 1.0], use n * number of features. When n is in the range (1, number of features), use n features). default = 'auto'\"): 'all',\n",
      " Param(parent='GBTRegressor_e7007ff84291', name='minWeightFractionPerNode', doc='Minimum fraction of the weighted sample count that each child must have after split. If a split causes the fraction of the total weight in the left or right child to be less than minWeightFractionPerNode, the split will be discarded as invalid. Should be in interval [0.0, 0.5).'): 0.0,\n",
      " Param(parent='GBTRegressor_e7007ff84291', name='checkpointInterval', doc='set checkpoint interval (>= 1) or disable checkpoint (-1). E.g. 10 means that the cache will get checkpointed every 10 iterations. Note: this setting will be ignored if the checkpoint directory is not set in the SparkContext.'): 10,\n",
      " Param(parent='GBTRegressor_e7007ff84291', name='subsamplingRate', doc='Fraction of the training data used for learning each decision tree, in range (0, 1].'): 1.0,\n",
      " Param(parent='GBTRegressor_e7007ff84291', name='leafCol', doc='Leaf indices column name. Predicted leaf index of each instance in each tree by preorder.'): '',\n",
      " Param(parent='GBTRegressor_e7007ff84291', name='minInstancesPerNode', doc='Minimum number of instances each child must have after split. If a split causes the left or right child to have fewer than minInstancesPerNode, the split will be discarded as invalid. Should be >= 1.'): 2,\n",
      " Param(parent='GBTRegressor_e7007ff84291', name='labelCol', doc='label column name.'): 'label',\n",
      " Param(parent='GBTRegressor_e7007ff84291', name='cacheNodeIds', doc='If false, the algorithm will pass trees to executors to match instances with nodes. If true, the algorithm will cache node IDs for each instance. Caching can speed up training of deeper trees. Users can set how often should the cache be checkpointed or disable it by setting checkpointInterval.'): False}\n"
     ]
    }
   ],
   "source": [
    "from pprint import pprint\n",
    "model2 = bestModel\n",
    "pprint(model2.extractParamMap())"
   ]
  },
  {
   "cell_type": "markdown",
   "id": "336a3f34-cd0b-4e7e-a0ff-8670bee1e2ef",
   "metadata": {},
   "source": [
    "## Save the model to HDFS"
   ]
  },
  {
   "cell_type": "code",
   "execution_count": 68,
   "id": "098bb094-67c3-4a8b-a52a-95a1f7c7bc74",
   "metadata": {},
   "outputs": [
    {
     "name": "stderr",
     "output_type": "stream",
     "text": [
      "get: `model2/model1/data/_SUCCESS': File exists\n",
      "get: `model2/model1/metadata/_SUCCESS': File exists\n",
      "get: `model2/model1/metadata/part-00000': File exists\n"
     ]
    },
    {
     "data": {
      "text/plain": [
       "''"
      ]
     },
     "execution_count": 68,
     "metadata": {},
     "output_type": "execute_result"
    }
   ],
   "source": [
    "model2.write().overwrite().save(\"project/big_data_project/models/model2\")\n",
    "\n",
    "# Run it from root directory of the repository\n",
    "run(\"hdfs dfs -get project/big_data_project/models/model1 model2\")"
   ]
  },
  {
   "cell_type": "markdown",
   "id": "2220eee3-99d3-44cc-82ab-b941fd5e5e7c",
   "metadata": {},
   "source": [
    "## Predict for test data using best model2"
   ]
  },
  {
   "cell_type": "code",
   "execution_count": 69,
   "id": "53789d15-33a1-43b2-8e8e-df7627df5de1",
   "metadata": {},
   "outputs": [
    {
     "name": "stderr",
     "output_type": "stream",
     "text": [
      "25/05/05 21:27:38 WARN DAGScheduler: Broadcasting large task binary with size 3.1 MiB\n",
      "[Stage 3893:>                                                       (0 + 1) / 1]\r"
     ]
    },
    {
     "name": "stdout",
     "output_type": "stream",
     "text": [
      "+--------------------+-----+--------------------+-----------------+\n",
      "|            features|label|     indexedFeatures|       prediction|\n",
      "+--------------------+-----+--------------------+-----------------+\n",
      "|(9436,[0,3082,309...| 56.0|(9436,[0,3082,309...|88.87672922731338|\n",
      "|(9436,[0,3082,309...| 35.0|(9436,[0,3082,309...|77.02098142809005|\n",
      "|(9436,[0,3082,309...| 65.0|(9436,[0,3082,309...|89.37869939027341|\n",
      "|(9436,[0,3082,309...| 99.0|(9436,[0,3082,309...|90.48910757060489|\n",
      "|(9436,[0,3082,309...| 55.0|(9436,[0,3082,309...|82.66544892380604|\n",
      "|(9436,[0,3082,309...|175.0|(9436,[0,3082,309...|90.48910757060489|\n",
      "|(9436,[0,3082,309...| 70.0|(9436,[0,3082,309...|90.48910757060489|\n",
      "|(9436,[0,3082,309...| 98.0|(9436,[0,3082,309...|94.74653543497664|\n",
      "|(9436,[0,3082,309...| 80.0|(9436,[0,3082,309...|90.99107773356492|\n",
      "|(9436,[0,3082,309...| 75.0|(9436,[0,3082,309...|82.66544892380604|\n",
      "|(9436,[0,3082,309...| 80.0|(9436,[0,3082,309...|90.99107773356492|\n",
      "|(9436,[0,3082,309...| 85.0|(9436,[0,3082,309...|78.63335977138156|\n",
      "|(9436,[0,3082,309...| 50.0|(9436,[0,3082,309...|93.13415709168513|\n",
      "|(9436,[0,3082,309...| 50.0|(9436,[0,3082,309...|77.02098142809005|\n",
      "|(9436,[0,3082,309...| 70.0|(9436,[0,3082,309...|90.99107773356492|\n",
      "|(9436,[0,3082,309...| 85.0|(9436,[0,3082,309...|82.66544892380604|\n",
      "|(9436,[0,3082,309...| 58.0|(9436,[0,3082,309...|88.87672922731338|\n",
      "|(9436,[0,3082,309...|124.0|(9436,[0,3082,309...|90.48910757060489|\n",
      "|(9436,[0,3082,309...|130.0|(9436,[0,3082,309...|90.48910757060489|\n",
      "|(9436,[0,3082,309...| 49.0|(9436,[0,3082,309...|78.63335977138156|\n",
      "+--------------------+-----+--------------------+-----------------+\n",
      "only showing top 20 rows\n",
      "\n"
     ]
    },
    {
     "name": "stderr",
     "output_type": "stream",
     "text": [
      "                                                                                \r"
     ]
    }
   ],
   "source": [
    "predictions = model2.transform(test_data)\n",
    "predictions.show()"
   ]
  },
  {
   "cell_type": "code",
   "execution_count": 70,
   "id": "52df5365-5d86-407f-b71a-878fff80b152",
   "metadata": {},
   "outputs": [
    {
     "name": "stderr",
     "output_type": "stream",
     "text": [
      "25/05/05 21:27:54 WARN DAGScheduler: Broadcasting large task binary with size 3.3 MiB\n",
      "                                                                                \r"
     ]
    },
    {
     "data": {
      "text/plain": [
       "''"
      ]
     },
     "execution_count": 70,
     "metadata": {},
     "output_type": "execute_result"
    }
   ],
   "source": [
    "predictions.select(\"label\", \"prediction\")\\\n",
    "    .coalesce(1)\\\n",
    "    .write\\\n",
    "    .mode(\"overwrite\")\\\n",
    "    .format(\"csv\")\\\n",
    "    .option(\"sep\", \",\")\\\n",
    "    .option(\"header\",\"true\")\\\n",
    "    .save(\"project/big_data_project/output/model2_predictions.csv\")\n",
    "\n",
    "# Run it from root directory of the repository\n",
    "run(\"hdfs dfs -cat project/big_data_project/output/model2_predictions.csv/*.csv > ../output/model2_predictions.csv\")"
   ]
  },
  {
   "cell_type": "markdown",
   "id": "64f9e394-a65a-4cb3-b9c8-1036fd3a443a",
   "metadata": {},
   "source": [
    "## Evaluate the best model2"
   ]
  },
  {
   "cell_type": "code",
   "execution_count": 71,
   "id": "2e83b832-0088-4e95-95fc-768bc13d70ee",
   "metadata": {},
   "outputs": [
    {
     "name": "stderr",
     "output_type": "stream",
     "text": [
      "25/05/05 21:28:14 WARN DAGScheduler: Broadcasting large task binary with size 3.1 MiB\n",
      "25/05/05 21:28:31 WARN DAGScheduler: Broadcasting large task binary with size 3.1 MiB\n",
      "[Stage 3926:>                                                       (0 + 2) / 2]\r"
     ]
    },
    {
     "name": "stdout",
     "output_type": "stream",
     "text": [
      "Root Mean Squared Error (RMSE) on test data = 70.7189766537025\n",
      "R^2 on test data = 0.7465718436919963\n"
     ]
    },
    {
     "name": "stderr",
     "output_type": "stream",
     "text": [
      "                                                                                \r"
     ]
    }
   ],
   "source": [
    "from pyspark.ml.evaluation import RegressionEvaluator \n",
    "\n",
    "# Evaluate the performance of the model\n",
    "evaluator2_rmse = RegressionEvaluator(labelCol=\"label\", predictionCol=\"prediction\", metricName=\"rmse\")\n",
    "evaluator2_r2 = RegressionEvaluator(labelCol=\"label\", predictionCol=\"prediction\", metricName=\"r2\")\n",
    "\n",
    "rmse2 = evaluator2_rmse.evaluate(predictions)\n",
    "r22 = evaluator2_r2.evaluate(predictions)\n",
    "\n",
    "print(\"Root Mean Squared Error (RMSE) on test data = {}\".format(rmse2))\n",
    "print(\"R^2 on test data = {}\".format(r22))"
   ]
  },
  {
   "cell_type": "markdown",
   "id": "22bd7b48-f536-495a-ac38-90ea1b9014af",
   "metadata": {},
   "source": [
    "# Compare best models"
   ]
  },
  {
   "cell_type": "code",
   "execution_count": 72,
   "id": "8b91f3c3-50ca-4ce1-9dfa-dba7449fbc35",
   "metadata": {},
   "outputs": [
    {
     "name": "stderr",
     "output_type": "stream",
     "text": [
      "[Stage 3928:>                                                       (0 + 1) / 1]\r"
     ]
    },
    {
     "name": "stdout",
     "output_type": "stream",
     "text": [
      "+--------------------------------------------------------------------------------+-----------------+------------------+\n",
      "|model                                                                           |RMSE             |R2                |\n",
      "+--------------------------------------------------------------------------------+-----------------+------------------+\n",
      "|LinearRegressionModel: uid=LinearRegression_0d67ccc2ed51, numFeatures=9436      |73.69420253157189|0.7247992734344332|\n",
      "|GBTRegressionModel: uid=GBTRegressor_e7007ff84291, numTrees=10, numFeatures=9436|70.7189766537025 |0.7465718436919963|\n",
      "+--------------------------------------------------------------------------------+-----------------+------------------+\n",
      "\n"
     ]
    },
    {
     "name": "stderr",
     "output_type": "stream",
     "text": [
      "                                                                                \r"
     ]
    }
   ],
   "source": [
    "models = [[str(model1),rmse1, r21], [str(model2),rmse2, r22]]\n",
    "\n",
    "df = spark.createDataFrame(models, [\"model\", \"RMSE\", \"R2\"])\n",
    "df.show(truncate=False)"
   ]
  },
  {
   "cell_type": "code",
   "execution_count": 73,
   "id": "e008d30b-9489-44a2-84a0-95bcd9608319",
   "metadata": {},
   "outputs": [
    {
     "data": {
      "text/plain": [
       "''"
      ]
     },
     "execution_count": 73,
     "metadata": {},
     "output_type": "execute_result"
    }
   ],
   "source": [
    "df.coalesce(1)\\\n",
    "    .write\\\n",
    "    .mode(\"overwrite\")\\\n",
    "    .format(\"csv\")\\\n",
    "    .option(\"sep\", \",\")\\\n",
    "    .option(\"header\",\"true\")\\\n",
    "    .save(\"project/big_data_project/output/evaluation.csv\")\n",
    "# Run it from root directory of the repository\n",
    "run(\"hdfs dfs -cat project/big_data_project/output/evaluation.csv/*.csv > ../output/evaluation.csv\")"
   ]
  },
  {
   "cell_type": "code",
   "execution_count": 74,
   "id": "09f11a50-6fa4-4221-8537-627038c7a2e4",
   "metadata": {},
   "outputs": [
    {
     "name": "stderr",
     "output_type": "stream",
     "text": [
      "25/05/05 21:28:39 WARN DAGScheduler: Broadcasting large task binary with size 1595.0 KiB\n"
     ]
    },
    {
     "data": {
      "text/plain": [
       "60340"
      ]
     },
     "execution_count": 74,
     "metadata": {},
     "output_type": "execute_result"
    }
   ],
   "source": [
    "train_data.count()"
   ]
  },
  {
   "cell_type": "code",
   "execution_count": null,
   "id": "53d51a0b-b414-49e0-af01-cc7f7349e480",
   "metadata": {},
   "outputs": [],
   "source": []
  }
 ],
 "metadata": {
  "kernelspec": {
   "display_name": "Pyspark 3.11",
   "language": "python",
   "name": "python3.11"
  },
  "language_info": {
   "codemirror_mode": {
    "name": "ipython",
    "version": 3
   },
   "file_extension": ".py",
   "mimetype": "text/x-python",
   "name": "python",
   "nbconvert_exporter": "python",
   "pygments_lexer": "ipython3",
   "version": "3.11.7"
  },
  "toc-autonumbering": true,
  "toc-showtags": false,
  "widgets": {
   "application/vnd.jupyter.widget-state+json": {
    "state": {},
    "version_major": 2,
    "version_minor": 0
   }
  }
 },
 "nbformat": 4,
 "nbformat_minor": 5
}
